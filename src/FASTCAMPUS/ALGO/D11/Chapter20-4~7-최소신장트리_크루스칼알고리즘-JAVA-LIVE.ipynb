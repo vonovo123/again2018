{
 "cells": [
  {
   "cell_type": "markdown",
   "metadata": {},
   "source": [
    "<div class=\"alert alert-block\" style=\"border: 1px solid #455A64;background-color:#ECEFF1;padding:5px;font-size:0.9em;\">\n",
    "본 자료와 관련 영상 컨텐츠는 저작권법 제25조 2항에 의해 보호를 받습니다. <br>본 컨텐츠 및 컨텐츠 일부 문구 등을 외부에 공개하거나, 요약해서 게시하지 말아주세요.\n",
    "</div>"
   ]
  },
  {
   "cell_type": "markdown",
   "metadata": {},
   "source": [
    "## 최소 신장 트리의 이해"
   ]
  },
  {
   "cell_type": "markdown",
   "metadata": {},
   "source": [
    "### 3. 최소 신장 트리 알고리즘\n",
    "- 그래프에서 최소 신장 트리를 찾을 수 있는 알고리즘이 존재함\n",
    "- 대표적인 최소 신장 트리 알고리즘\n",
    "  - Kruskal’s algorithm (크루스칼 알고리즘), Prim's algorithm (프림 알고리즘)"
   ]
  },
  {
   "cell_type": "markdown",
   "metadata": {},
   "source": [
    "### 4. 크루스칼 알고리즘 (Kruskal's algorithm)\n",
    "1. 모든 정점을 독립적인 집합으로 만든다.\n",
    "2. 모든 간선을 비용을 기준으로 정렬하고, 비용이 작은 간선부터 양 끝의 두 정점을 비교한다.\n",
    "3. 두 정점의 최상위 정점을 확인하고, 서로 다를 경우 두 정점을 연결한다. (최소 신장 트리는 사이클이 없으므로, 사이클이 생기지 않도록 하는 것임)\n",
    "\n",
    "> 탐욕 알고리즘을 기초로 하고 있음 (당장 눈 앞의 최소 비용을 선택해서, 결과적으로 최적의 솔루션을 찾음)"
   ]
  },
  {
   "cell_type": "markdown",
   "metadata": {},
   "source": [
    "<img src=\"https://www.fun-coding.org/00_Images/kruscal_internal1.png\" width=650>"
   ]
  },
  {
   "cell_type": "markdown",
   "metadata": {},
   "source": [
    "<img src=\"https://www.fun-coding.org/00_Images/kruscal_internal2.png\" width=800>"
   ]
  },
  {
   "cell_type": "markdown",
   "metadata": {},
   "source": [
    "### 5. Union-Find 알고리즘\n",
    "- Disjoint Set을 표현할 때 사용하는 알고리즘으로 트리 구조를 활용하는 알고리즘\n",
    "- 간단하게, 노드들 중에 연결된 노드를 찾거나, 노드들을 서로 연결할 때 (합칠 때) 사용\n",
    "- Disjoint Set이란\n",
    "  - 서로 중복되지 않는 부분 집합들로 나눠진 원소들에 대한 정보를 저장하고 조작하는 자료구조\n",
    "  - 공통 원소가 없는 (서로소) 상호 배타적인 부분 집합들로 나눠진 원소들에 대한 자료구조를 의미함\n",
    "  - Disjoint Set = 서로소 집합 자료구조"
   ]
  },
  {
   "cell_type": "markdown",
   "metadata": {},
   "source": [
    "1. 초기화\n",
    "   - n 개의 원소가 개별 집합으로 이뤄지도록 초기화\n",
    "<img src=\"https://www.fun-coding.org/00_Images/initial_findunion.png\" width=400>\n",
    "2. Union\n",
    "   - 두 개별 집합을 하나의 집합으로 합침, 두 트리를 하나의 트리로 만듬\n",
    "<img src=\"https://www.fun-coding.org/00_Images/union_findunion.png\" width=600>\n",
    "\n",
    "3. Find\n",
    "   - 여러 노드가 존재할 때, 두 개의 노드를 선택해서, 현재 두 노드가 서로 같은 그래프에 속하는지 판별하기 위해, 각 그룹의 최상단 원소 (즉, 루트 노드)를 확인\n",
    "<img src=\"https://www.fun-coding.org/00_Images/find_findunion.png\" width=500>"
   ]
  },
  {
   "cell_type": "markdown",
   "metadata": {},
   "source": [
    "### Union-Find 알고리즘의 고려할 점\n",
    "- Union 순서에 따라서, 최악의 경우 링크드 리스트와 같은 형태가 될 수 있음.\n",
    "- 이 때는 Find/Union 시 계산량이 O(N) 이 될 수 있으므로, 해당 문제를 해결하기 위해, union-by-rank, path compression 기법을 사용함 \n",
    "\n",
    "<img src=\"https://www.fun-coding.org/00_Images/worst_findunion.png\" width=200>"
   ]
  },
  {
   "cell_type": "markdown",
   "metadata": {},
   "source": [
    "### union-by-rank 기법\n",
    "- 각 트리에 대해 높이(rank)를 기억해 두고,\n",
    "- Union시 두 트리의 높이(rank)가 다르면, 높이가 작은 트리를 높이가 큰 트리에 붙임 (즉, 높이가 큰 트리의 루트 노드가 합친 집합의 루트 노드가 되게 함)\n",
    "<img src=\"https://www.fun-coding.org/00_Images/unionbyrank_findunion.png\" width=700>\n",
    "\n",
    "- 높이가 h - 1 인 두 개의 트리를 합칠 때는 한 쪽의 트리 높이를 1 증가시켜주고, 다른 쪽의 트리를 해당 트리에 붙여줌\n",
    "<img src=\"https://www.fun-coding.org/00_Images/unionbyranksame_findunion.png\" width=700>\n",
    "\n",
    "- 초기화시, 모든 원소는 높이(rank) 가 0 인 개별 집합인 상태에서, 하나씩 원소를 합칠 때, union-by-rank 기법을 사용한다면,\n",
    "  - 높이가 h 인 트리가 만들어지려면, 높이가 h - 1 인 두 개의 트리가 합쳐져야 함\n",
    "  - 높이가 h - 1 인 트리를 만들기 위해 최소 n개의 원소가 필요하다면, 높이가 h 인 트리가 만들어지기 위해서는 최소 2n개의 원소가 필요함\n",
    "  - 따라서 union-by-rank 기법을 사용하면, union/find 연산의 시간복잡도는 O(N) 이 아닌, $ O(log{N}) $ 로 낮출 수 있음"
   ]
  },
  {
   "cell_type": "markdown",
   "metadata": {},
   "source": [
    "### path compression\n",
    "- Find를 실행한 노드에서 거쳐간 노드를 루트에 다이렉트로 연결하는 기법\n",
    "- Find를 실행한 노드는 이후부터는 루트 노드를 한번에 알 수 있음\n",
    "\n",
    "<center><img src=\"https://www.fun-coding.org/00_Images/pathcompression_findunion.png\" width=400></center>\n",
    "\n",
    "- union-by-rank 와 path compression 기법 사용시 시간 복잡도는 다음 계산식을 만족함이 증명되었음\n",
    "  - $ O(M log^*{N}) $\n",
    "  - $ log^*{N} $ 은 다음 값을 가짐이 증명되었음\n",
    "    - N이 $ 2^{65536} $ 값을 가지더라도, $ log^*{N} $ 의 값이 5의 값을 가지므로, 거의 O(1), 즉 상수값에 가깝다고 볼 수 있음\n",
    "\n",
    "<div style=\"text-align:left\">\n",
    "<table>\n",
    "  <tr>\n",
    "    <th style=\"text-align:center\">N</th>\n",
    "    <th style=\"text-align:center\">$ log^*{N} $</th>\n",
    "  </tr>\n",
    "  <tr>\n",
    "    <td style=\"text-align:left\">1</td>\n",
    "    <td style=\"text-align:left\">0</td>\n",
    "  </tr>\n",
    "  <tr>\n",
    "    <td style=\"text-align:left\">2</td>\n",
    "    <td style=\"text-align:left\">1</td>\n",
    "  </tr>\n",
    "  <tr>\n",
    "    <td style=\"text-align:left\">4</td>\n",
    "    <td style=\"text-align:left\">2</td>\n",
    "  </tr>\n",
    "  <tr>\n",
    "    <td style=\"text-align:left\">16</td>\n",
    "    <td style=\"text-align:left\">3</td>\n",
    "  </tr>\n",
    "  <tr>\n",
    "    <td style=\"text-align:left\">65536</td>\n",
    "    <td style=\"text-align:left\">4</td>\n",
    "  </tr>\n",
    "  <tr>\n",
    "    <td style=\"text-align:left\">$ 2^{65536} $</td>\n",
    "    <td style=\"text-align:left\">5</td>\n",
    "  </tr>\n",
    "</table>\n",
    "</div>"
   ]
  },
  {
   "cell_type": "markdown",
   "metadata": {},
   "source": [
    "### 6. 크루스칼 알고리즘 (Kruskal's algorithm) 코드 작성"
   ]
  },
  {
   "cell_type": "markdown",
   "metadata": {},
   "source": [
    "### Edge 클래스 정의"
   ]
  },
  {
   "cell_type": "code",
   "execution_count": 8,
   "metadata": {},
   "outputs": [],
   "source": [
    "public class Edge implements Comparable<Edge> {\n",
    "    public int weight;\n",
    "    public String nodeV;\n",
    "    public String nodeU;\n",
    "    \n",
    "    public Edge(int weight, String nodeV, String nodeU) {\n",
    "        this.weight = weight;\n",
    "        this.nodeV = nodeV;\n",
    "        this.nodeU = nodeU;\n",
    "    }\n",
    "    \n",
    "    public String toString() {\n",
    "        return \"(\" + this.weight + \", \" + this.nodeV + \", \" + this.nodeU + \")\";\n",
    "    }\n",
    "    \n",
    "    @Override \n",
    "    public int compareTo(Edge edge) {\n",
    "        return this.weight - edge.weight;\n",
    "    }\n",
    "}"
   ]
  },
  {
   "cell_type": "markdown",
   "metadata": {},
   "source": [
    "### Edge 데이터 자료구조화\n",
    "<img src=\"https://www.fun-coding.org/00_Images/kruscal_internal1.png\" width=650>"
   ]
  },
  {
   "cell_type": "code",
   "execution_count": 9,
   "metadata": {},
   "outputs": [
    {
     "data": {
      "text/plain": [
       "true"
      ]
     },
     "execution_count": 9,
     "metadata": {},
     "output_type": "execute_result"
    }
   ],
   "source": [
    "ArrayList<String> vetices = new ArrayList<String>(Arrays.asList(\"A\", \"B\", \"C\", \"D\", \"E\", \"F\", \"G\"));\n",
    "ArrayList<Edge> edges = new ArrayList<Edge>();\n",
    "edges.add(new Edge(7, \"A\", \"B\"));\n",
    "edges.add(new Edge(5, \"A\", \"D\"));\n",
    "edges.add(new Edge(7, \"B\", \"A\"));\n",
    "edges.add(new Edge(8, \"B\", \"C\"));\n",
    "edges.add(new Edge(9, \"B\", \"D\"));\n",
    "edges.add(new Edge(7, \"B\", \"E\"));\n",
    "edges.add(new Edge(8, \"C\", \"B\"));\n",
    "edges.add(new Edge(5, \"C\", \"E\"));\n",
    "edges.add(new Edge(5, \"D\", \"A\"));\n",
    "edges.add(new Edge(9, \"D\", \"B\"));\n",
    "edges.add(new Edge(7, \"D\", \"E\"));\n",
    "edges.add(new Edge(6, \"D\", \"F\"));\n",
    "edges.add(new Edge(7, \"E\", \"B\"));\n",
    "edges.add(new Edge(5, \"E\", \"C\"));\n",
    "edges.add(new Edge(7, \"E\", \"D\"));\n",
    "edges.add(new Edge(8, \"E\", \"F\"));\n",
    "edges.add(new Edge(9, \"E\", \"G\"));\n",
    "edges.add(new Edge(6, \"F\", \"D\"));\n",
    "edges.add(new Edge(8, \"F\", \"E\"));\n",
    "edges.add(new Edge(11, \"F\", \"G\"));\n",
    "edges.add(new Edge(9, \"G\", \"E\"));\n",
    "edges.add(new Edge(11, \"G\", \"F\"));"
   ]
  },
  {
   "cell_type": "code",
   "execution_count": 5,
   "metadata": {},
   "outputs": [
    {
     "data": {
      "text/plain": [
       "[A, B, C, D, E, F, G]"
      ]
     },
     "execution_count": 5,
     "metadata": {},
     "output_type": "execute_result"
    }
   ],
   "source": [
    "vetices"
   ]
  },
  {
   "cell_type": "code",
   "execution_count": 6,
   "metadata": {},
   "outputs": [
    {
     "data": {
      "text/plain": [
       "[(7, A, B), (5, A, D), (7, B, A), (8, B, C), (9, B, D), (7, B, E), (8, C, B), (5, C, E), (5, D, A), (9, D, B), (7, D, E), (6, D, F), (7, E, B), (5, E, C), (7, E, D), (8, E, F), (9, E, G), (6, F, D), (8, F, E), (11, F, G), (9, G, E), (11, G, F)]"
      ]
     },
     "execution_count": 6,
     "metadata": {},
     "output_type": "execute_result"
    }
   ],
   "source": [
    "edges"
   ]
  },
  {
   "cell_type": "markdown",
   "metadata": {},
   "source": [
    "### Union-Find 알고리즘 메서드 작성"
   ]
  },
  {
   "cell_type": "code",
   "execution_count": 10,
   "metadata": {},
   "outputs": [],
   "source": [
    "import java.util.HashMap;\n",
    "\n",
    "HashMap<String, String> parent = new HashMap<String, String>();\n",
    "HashMap<String, Integer> rank = new HashMap<String, Integer>();"
   ]
  },
  {
   "cell_type": "code",
   "execution_count": 11,
   "metadata": {},
   "outputs": [],
   "source": [
    "// 참고: path compression 기법 구현시, 각 node 의 rank 정보까지 업데이트할 필요는 없습니다\n",
    "// rank 정보를 사용하는 union-by-rank 기법은 루트 node 의 rank 정보만을 사용하기 때문입니다\n",
    "\n",
    "public String find(String node) {\n",
    "    // path compression 기법\n",
    "    if (parent.get(node) != node) {\n",
    "        parent.put(node, find(parent.get(node)));\n",
    "    }\n",
    "    return parent.get(node);\n",
    "}"
   ]
  },
  {
   "cell_type": "code",
   "execution_count": 21,
   "metadata": {},
   "outputs": [],
   "source": [
    "public void union(String nodeV, String nodeU) {\n",
    "    String root1 = find(nodeV);\n",
    "    String root2 = find(nodeU);\n",
    "    \n",
    "    // union-by-rank 기법\n",
    "    if (rank.get(root1) > rank.get(root2)) {\n",
    "        parent.put(root2, root1);\n",
    "    } else {\n",
    "        parent.put(root1, root2);\n",
    "        if (rank.get(root1) == rank.get(root2)) {\n",
    "            rank.put(root2, rank.get(root2) + 1);\n",
    "        }\n",
    "    }\n",
    "}"
   ]
  },
  {
   "cell_type": "code",
   "execution_count": null,
   "metadata": {},
   "outputs": [],
   "source": [
    "public void makeSet(String node) {\n",
    "    parent.put(node, node);\n",
    "    rank.put(node, 0);\n",
    "}"
   ]
  },
  {
   "cell_type": "markdown",
   "metadata": {},
   "source": [
    "### 크루스칼 알고리즘 (Kruskal's algorithm) 작성"
   ]
  },
  {
   "cell_type": "code",
   "execution_count": 13,
   "metadata": {},
   "outputs": [],
   "source": [
    "import java.util.Collections;\n",
    "\n",
    "public ArrayList<Edge> kruskalFunc(ArrayList<String> vetices, ArrayList<Edge> edges) {\n",
    "    ArrayList<Edge> mst = new ArrayList<Edge>();\n",
    "    Edge currentEdge;\n",
    "    \n",
    "    // 1. 초기화\n",
    "    for (int index = 0; index < vertices.size(); index++) {\n",
    "        makeSet(vertices.get(index));\n",
    "    }\n",
    "    \n",
    "    // 2. 간선 weight 기반, sorting\n",
    "    Collections.sort(edges);\n",
    "    \n",
    "    for (int index = 0; index < edges.size(); index++) {\n",
    "        currentEdge = edges.get(index);\n",
    "        if (find(currentEdge.nodeV) != find(currentEdge.nodeU)) {\n",
    "            union(currentEdge.nodeV, currentEdge.nodeU);\n",
    "            mst.add(currentEdge);\n",
    "        }\n",
    "    }\n",
    "}"
   ]
  },
  {
   "cell_type": "markdown",
   "metadata": {},
   "source": [
    "### 최종 코드 (프로젝트: CH29_KRUSKAL)"
   ]
  },
  {
   "cell_type": "code",
   "execution_count": 12,
   "metadata": {},
   "outputs": [],
   "source": [
    "import java.util.Collections;\n",
    "import java.util.HashMap;\n",
    "import java.util.ArrayList;\n",
    "import java.util.Arrays;\n",
    "\n",
    "public class KruskalPath {\n",
    "    HashMap<String, String> parent = new HashMap<String, String>();\n",
    "    HashMap<String, Integer> rank = new HashMap<String, Integer>();\n",
    "    \n",
    "    public String find(String node) {\n",
    "        // path compresion 기법\n",
    "        if (this.parent.get(node) != node) {\n",
    "            this.parent.put(node, this.find(this.parent.get(node)));\n",
    "        }\n",
    "        return this.parent.get(node);\n",
    "    }\n",
    "    \n",
    "    public void union(String nodeV, String nodeU) {\n",
    "        String root1 = this.find(nodeV);\n",
    "        String root2 = this.find(nodeU);\n",
    "        \n",
    "        // union-by-rank 기법\n",
    "        if (this.rank.get(root1) > this.rank.get(root2)) {\n",
    "            this.parent.put(root2, root1);\n",
    "        } else {\n",
    "            this.parent.put(root1, root2);\n",
    "            if (this.rank.get(root1) == this.rank.get(root2)) {\n",
    "                this.rank.put(root2, this.rank.get(root2) + 1);\n",
    "            }\n",
    "        }\n",
    "    }\n",
    "    \n",
    "    public void makeSet(String node) {\n",
    "        this.parent.put(node, node);\n",
    "        this.rank.put(node, 0);\n",
    "    }\n",
    "    \n",
    "    public ArrayList<Edge> kruskalFunc(ArrayList<String> vertices, ArrayList<Edge> edges) {\n",
    "        ArrayList<Edge> mst = new ArrayList<Edge>();\n",
    "        Edge currentEdge;\n",
    "        \n",
    "        // 1. 초기화\n",
    "        for (int index = 0; index < vertices.size(); index++) {\n",
    "            this.makeSet(vertices.get(index));\n",
    "        }\n",
    "        \n",
    "        // 2. 간선 weight 기반 sorting\n",
    "        Collections.sort(edges);\n",
    "        \n",
    "        for (int index = 0; index < edges.size(); index++) {\n",
    "            currentEdge = edges.get(index);\n",
    "            if (this.find(currentEdge.nodeV) != this.find(currentEdge.nodeU)) {\n",
    "                this.union(currentEdge.nodeV, currentEdge.nodeU);\n",
    "                mst.add(currentEdge);\n",
    "            }\n",
    "        }\n",
    "        \n",
    "        return mst;\n",
    "    }\n",
    "}"
   ]
  },
  {
   "cell_type": "markdown",
   "metadata": {},
   "source": [
    "### 테스트\n",
    "<img src=\"https://www.fun-coding.org/00_Images/kruscal_internal2.png\" width=800>"
   ]
  },
  {
   "cell_type": "code",
   "execution_count": 14,
   "metadata": {},
   "outputs": [
    {
     "data": {
      "text/plain": [
       "[(5, A, D), (5, C, E), (6, D, F), (7, A, B), (7, B, E), (9, E, G)]"
      ]
     },
     "execution_count": 14,
     "metadata": {},
     "output_type": "execute_result"
    }
   ],
   "source": [
    "KruskalPath kObject = new KruskalPath();\n",
    "kObject.kruskalFunc(vertices, edges);"
   ]
  },
  {
   "cell_type": "markdown",
   "metadata": {},
   "source": [
    "### 7. 시간 복잡도\n",
    "- 크루스컬 알고리즘의 시간 복잡도는 O(E log E)\n",
    "  - 다음 단계에서 2번, 간선을 비용 기준으로 정렬하는 시간에 좌우됨 (즉 간선을 비용 기준으로 정렬하는 시간이 가장 큼)\n",
    "  1. 모든 정점을 독립적인 집합으로 만든다.\n",
    "  2. 모든 간선을 비용을 기준으로 정렬하고, 비용이 작은 간선부터 양 끝의 두 정점을 비교한다.\n",
    "     - 퀵소트를 사용한다면 시간 복잡도는 O(n log n) 이며, 간선이 n 이므로 O(E log E)\n",
    "  3. 두 정점의 최상위 정점을 확인하고, 서로 다를 경우 두 정점을 연결한다. (최소 신장 트리는 사이클이 없으므로, 사이클이 생기지 않도록 하는 것임)\n",
    "     - union-by-rank 와 path compression 기법 사용시 시간 복잡도가 결국 상수값에 가까움, O(1)\n",
    "\n",
    "<img src=\"https://www.fun-coding.org/00_Images/kruscal_time.png\">"
   ]
  },
  {
   "cell_type": "markdown",
   "metadata": {},
   "source": [
    "<div class=\"alert alert-block\" style=\"border: 1px solid #455A64;background-color:#ECEFF1;padding:5px;font-size:0.9em;\">\n",
    "본 자료와 관련 영상 컨텐츠는 저작권법 제25조 2항에 의해 보호를 받습니다. <br>본 컨텐츠 및 컨텐츠 일부 문구 등을 외부에 공개하거나, 요약해서 게시하지 말아주세요.\n",
    "</div>"
   ]
  }
 ],
 "metadata": {
  "kernelspec": {
   "display_name": "Java",
   "language": "java",
   "name": "java"
  },
  "language_info": {
   "codemirror_mode": "java",
   "file_extension": ".jshell",
   "mimetype": "text/x-java-source",
   "name": "Java",
   "pygments_lexer": "java",
   "version": "15.0.2+7-27"
  }
 },
 "nbformat": 4,
 "nbformat_minor": 4
}
