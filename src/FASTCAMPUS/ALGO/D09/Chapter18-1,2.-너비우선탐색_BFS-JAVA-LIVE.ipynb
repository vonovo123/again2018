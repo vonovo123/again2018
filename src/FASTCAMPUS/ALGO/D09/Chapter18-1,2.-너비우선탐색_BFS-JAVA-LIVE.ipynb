{
 "cells": [
  {
   "cell_type": "markdown",
   "metadata": {},
   "source": [
    "<div class=\"alert alert-block\" style=\"border: 1px solid #455A64;background-color:#ECEFF1;padding:5px;font-size:0.9em;\">\n",
    "본 자료와 관련 영상 컨텐츠는 저작권법 제25조 2항에 의해 보호를 받습니다. <br>본 컨텐츠 및 컨텐츠 일부 문구 등을 외부에 공개하거나, 요약해서 게시하지 말아주세요.\n",
    "</div>"
   ]
  },
  {
   "cell_type": "markdown",
   "metadata": {},
   "source": [
    "## 너비 우선 탐색 (Breadth-First Search)"
   ]
  },
  {
   "cell_type": "markdown",
   "metadata": {},
   "source": [
    "### 1. BFS 와 DFS 란?\n",
    "* 대표적인 그래프 **탐색** 알고리즘\n",
    "  - 너비 우선 탐색 (Breadth First Search): 정점들과 같은 레벨에 있는 노드들 (형제 노드들)을 먼저 탐색하는 방식\n",
    "  - 깊이 우선 탐색 (Depth First Search): 정점의 자식들을 먼저 탐색하는 방식"
   ]
  },
  {
   "cell_type": "markdown",
   "metadata": {},
   "source": [
    "#### BFS/DFS 방식 이해를 위한 예제\n",
    "- BFS 방식: A - B - C - D - G - H - I - E - F - J \n",
    "  - 한 단계씩 내려가면서, 해당 노드와 같은 레벨에 있는 노드들 (형제 노드들)을 먼저 순회함\n",
    "- DFS 방식: A - B - D - E - F - C - G - H - I - J \n",
    "  - 한 노드의 자식을 타고 끝까지 순회한 후, 다시 돌아와서 다른 형제들의 자식을 타고 내려가며 순화함\n",
    "\n",
    "<img src=\"https://www.fun-coding.org/00_Images/BFSDFS.png\" width=700>"
   ]
  },
  {
   "cell_type": "markdown",
   "metadata": {},
   "source": [
    "### 2. JAVA 로 그래프를 표현하는 방법\n",
    "- Java Collection Framework 에서 제공하는 Hashmap 과 ArrayList 를 활용해서 그래프를 표현할 수 있음"
   ]
  },
  {
   "cell_type": "markdown",
   "metadata": {},
   "source": [
    "### 그래프 예와 JAVA 표현\n",
    "<img src=\"https://www.fun-coding.org/00_Images/bfsgraph.png\" width=700>"
   ]
  },
  {
   "cell_type": "markdown",
   "metadata": {},
   "source": [
    "### 참고: HashMap\n",
    "- HashMap은 '키'와 '값'을 저장하는 자료 구조로, 내부에서 해쉬 함수를 통해, '키' 에 대한 '값' 을 빠르게 검색할 수 있음\n",
    "\n",
    "> 데이터를 다루는 기능은 항상 C(생성/선언), R(읽기), U(수정하기), D(삭제하기) 즉, CRUD 순으로 사용법을 익히면 빠르게 사용할 수 있습니다."
   ]
  },
  {
   "cell_type": "code",
   "execution_count": 3,
   "metadata": {},
   "outputs": [],
   "source": [
    "import java.util.HashMap;\n",
    "\n",
    "// 기본 선언 HashMap<키타입, 값타입> 변수 = new HashMap<키타입, 값타입>();\n",
    "HashMap<String, Integer> mapData1 = new HashMap<String, Integer>();"
   ]
  },
  {
   "cell_type": "code",
   "execution_count": 4,
   "metadata": {},
   "outputs": [],
   "source": [
    "HashMap<String, Integer> mapData2 = new HashMap<String, Integer>(mapData1);\n",
    "HashMap<String, Integer> mapData3 = new HashMap<String, Integer>(10);\n",
    "HashMap<String, ArrayList<String>> mapData4 = new HashMap<String, ArrayList<String>>();"
   ]
  },
  {
   "cell_type": "code",
   "execution_count": 5,
   "metadata": {},
   "outputs": [],
   "source": [
    "// HashMap 데이터 추가\n",
    "mapData1.put(\"A\", 1);\n",
    "mapData1.put(\"B\", 2);"
   ]
  },
  {
   "cell_type": "code",
   "execution_count": 6,
   "metadata": {},
   "outputs": [
    {
     "name": "stdout",
     "output_type": "stream",
     "text": [
      "{A=1, B=2}\n",
      "1\n"
     ]
    }
   ],
   "source": [
    "// HashMap 데이터 읽기\n",
    "System.out.println(mapData1);\n",
    "System.out.println(mapData1.get(\"A\"));"
   ]
  },
  {
   "cell_type": "code",
   "execution_count": 7,
   "metadata": {},
   "outputs": [
    {
     "name": "stdout",
     "output_type": "stream",
     "text": [
      "{A=1, B=3}\n"
     ]
    }
   ],
   "source": [
    "// HashMap 데이터 수정\n",
    "\n",
    "mapData1.put(\"B\", 3);\n",
    "System.out.println(mapData1);"
   ]
  },
  {
   "cell_type": "code",
   "execution_count": 8,
   "metadata": {},
   "outputs": [
    {
     "name": "stdout",
     "output_type": "stream",
     "text": [
      "{B=3}\n"
     ]
    }
   ],
   "source": [
    "// HashMap 데이터 삭제\n",
    "mapData1.remove(\"A\");\n",
    "System.out.println(mapData1);"
   ]
  },
  {
   "cell_type": "markdown",
   "metadata": {},
   "source": [
    "### 그래프를 자료구조로 작성하기\n",
    "- HashMap 을 사용하여, 그래프를 자료구조로 작성할 수 있음\n",
    "\n",
    "<img src=\"https://www.fun-coding.org/00_Images/bfsgraph.png\" width=700>\n"
   ]
  },
  {
   "cell_type": "code",
   "execution_count": 15,
   "metadata": {},
   "outputs": [],
   "source": [
    "HashMap<String, ArrayList<String>> graph = new HashMap<String, ArrayList<String>>();\n",
    "\n",
    "graph.put(\"A\", new ArrayList<String>(Arrays.asList(\"B\", \"C\")));\n",
    "graph.put(\"B\", new ArrayList<String>(Arrays.asList(\"A\", \"D\")));\n",
    "graph.put(\"C\", new ArrayList<String>(Arrays.asList(\"A\", \"G\", \"H\", \"I\")));\n",
    "graph.put(\"D\", new ArrayList<String>(Arrays.asList(\"B\", \"E\", \"F\")));\n",
    "graph.put(\"E\", new ArrayList<String>(Arrays.asList(\"D\")));\n",
    "graph.put(\"F\", new ArrayList<String>(Arrays.asList(\"D\")));\n",
    "graph.put(\"G\", new ArrayList<String>(Arrays.asList(\"C\")));\n",
    "graph.put(\"H\", new ArrayList<String>(Arrays.asList(\"C\")));\n",
    "graph.put(\"I\", new ArrayList<String>(Arrays.asList(\"C\", \"J\")));\n",
    "graph.put(\"J\", new ArrayList<String>(Arrays.asList(\"I\")));"
   ]
  },
  {
   "cell_type": "code",
   "execution_count": 16,
   "metadata": {},
   "outputs": [
    {
     "data": {
      "text/plain": [
       "{A=[B, C], B=[A, D], C=[A, G, H, I], D=[B, E, F], E=[D], F=[D], G=[C], H=[C], I=[C, J], J=[I]}"
      ]
     },
     "execution_count": 16,
     "metadata": {},
     "output_type": "execute_result"
    }
   ],
   "source": [
    "graph"
   ]
  },
  {
   "cell_type": "markdown",
   "metadata": {},
   "source": [
    "### 3. BFS 알고리즘 구현\n",
    "\n",
    "- 자료구조 큐를 활용함\n",
    "  - needVisit 큐와 visited 큐, 두 개의 큐를 생성\n",
    "  \n",
    "<img src=\"https://www.fun-coding.org/00_Images/bfsqueue.png\" width=700>"
   ]
  },
  {
   "cell_type": "markdown",
   "metadata": {},
   "source": [
    "- 큐의 구현은 간단히 ArrayList 클래스를 활용"
   ]
  },
  {
   "cell_type": "code",
   "execution_count": 14,
   "metadata": {},
   "outputs": [
    {
     "name": "stdout",
     "output_type": "stream",
     "text": [
      "[B]\n",
      "A\n",
      "false\n"
     ]
    }
   ],
   "source": [
    "import java.util.ArrayList;\n",
    "\n",
    "ArrayList<String> aList = new ArrayList<String>();\n",
    "aList.add(\"A\");\n",
    "aList.add(\"B\");\n",
    "String node = aList.remove(0);\n",
    "System.out.println(aList);\n",
    "System.out.println(node);\n",
    "System.out.println(aList.contains(\"A\"));"
   ]
  },
  {
   "cell_type": "code",
   "execution_count": 17,
   "metadata": {},
   "outputs": [
    {
     "name": "stdout",
     "output_type": "stream",
     "text": [
      "[C, B, C]\n"
     ]
    }
   ],
   "source": [
    "ArrayList<String> aList = new ArrayList<String>();\n",
    "aList.add(\"C\");\n",
    "aList.addAll(graph.get(\"A\"));\n",
    "System.out.println(aList);"
   ]
  },
  {
   "cell_type": "markdown",
   "metadata": {},
   "source": [
    "### BFS 코드 구현 (프로젝트: CH25_BFS)\n",
    "- 각각의 알고리즘에서 자료구조가 사용됨을 이해할 수 있음 (BFS 에서는 큐 자료구조를 사용함)\n",
    "- 각 자료구조는 자료구조 시간에, 변수/조건문/반복문을 기반으로 밑바닥부터 구현하는 코드도 익혔음"
   ]
  },
  {
   "cell_type": "code",
   "execution_count": 22,
   "metadata": {},
   "outputs": [],
   "source": [
    "import java.util.ArrayList;\n",
    "import java.util.HashMap;\n",
    "\n",
    "public class BFSSearch {\n",
    "    public ArrayList<String> bfsFunc(HashMap<String, ArrayList<String>> grpah, String startNode) {\n",
    "        ArrayList<String> visited = new ArrayList<String>();\n",
    "        ArrayList<String> needVisit = new ArrayList<String>();\n",
    "        \n",
    "        needVisit.add(startNode);\n",
    "        \n",
    "        while (needVisit.size() > 0) {\n",
    "            String node = needVisit.remove(0);\n",
    "            \n",
    "            if (!visited.contains(node)) {\n",
    "                visited.add(node);\n",
    "                needVisit.addAll(graph.get(node));\n",
    "            }\n",
    "        }\n",
    "        return visited;\n",
    "    }\n",
    "}"
   ]
  },
  {
   "cell_type": "code",
   "execution_count": 23,
   "metadata": {},
   "outputs": [
    {
     "data": {
      "text/plain": [
       "[A, B, C, D, G, H, I, E, F, J]"
      ]
     },
     "execution_count": 23,
     "metadata": {},
     "output_type": "execute_result"
    }
   ],
   "source": [
    "BFSSearch bObject = new BFSSearch();\n",
    "bObject.bfsFunc(graph, \"A\");"
   ]
  },
  {
   "cell_type": "markdown",
   "metadata": {},
   "source": [
    "<img src=\"https://www.fun-coding.org/00_Images/bfsgraph.png\" width=700>"
   ]
  },
  {
   "cell_type": "markdown",
   "metadata": {},
   "source": [
    "### 4. 시간 복잡도\n",
    "- 일반적인 BFS 시간 복잡도\n",
    "  - 노드 수: V\n",
    "  - 간선 수: E\n",
    "    - 위 코드에서 while needVisit 은 V + E 번 만큼 수행함\n",
    "  - 시간 복잡도: O(V + E)\n",
    "  "
   ]
  },
  {
   "cell_type": "code",
   "execution_count": 24,
   "metadata": {},
   "outputs": [],
   "source": [
    "import java.util.ArrayList;\n",
    "import java.util.HashMap;\n",
    "\n",
    "public class BFSSearch {\n",
    "    public ArrayList<String> bfsFunc(HashMap<String, ArrayList<String>> grpah, String startNode) {\n",
    "        ArrayList<String> visited = new ArrayList<String>();\n",
    "        ArrayList<String> needVisit = new ArrayList<String>();\n",
    "        \n",
    "        needVisit.add(startNode);\n",
    "        int count = 0;\n",
    "        \n",
    "        while (needVisit.size() > 0) {\n",
    "            count += 1;\n",
    "            String node = needVisit.remove(0);\n",
    "            \n",
    "            if (!visited.contains(node)) {\n",
    "                visited.add(node);\n",
    "                needVisit.addAll(graph.get(node));\n",
    "            }\n",
    "        }\n",
    "        System.out.println(count);\n",
    "        return visited;\n",
    "    }\n",
    "}"
   ]
  },
  {
   "cell_type": "code",
   "execution_count": 25,
   "metadata": {},
   "outputs": [
    {
     "name": "stdout",
     "output_type": "stream",
     "text": [
      "19\n"
     ]
    },
    {
     "data": {
      "text/plain": [
       "[A, B, C, D, G, H, I, E, F, J]"
      ]
     },
     "execution_count": 25,
     "metadata": {},
     "output_type": "execute_result"
    }
   ],
   "source": [
    "BFSSearch bObject = new BFSSearch();\n",
    "bObject.bfsFunc(graph, \"A\");"
   ]
  },
  {
   "cell_type": "markdown",
   "metadata": {},
   "source": [
    "<div class=\"alert alert-block\" style=\"border: 1px solid #455A64;background-color:#ECEFF1;padding:5px;font-size:0.9em;\">\n",
    "본 자료와 관련 영상 컨텐츠는 저작권법 제25조 2항에 의해 보호를 받습니다. <br>본 컨텐츠 및 컨텐츠 일부 문구 등을 외부에 공개하거나, 요약해서 게시하지 말아주세요.\n",
    "</div>"
   ]
  }
 ],
 "metadata": {
  "kernelspec": {
   "display_name": "Java",
   "language": "java",
   "name": "java"
  },
  "language_info": {
   "codemirror_mode": "java",
   "file_extension": ".jshell",
   "mimetype": "text/x-java-source",
   "name": "Java",
   "pygments_lexer": "java",
   "version": "15.0.2+7-27"
  }
 },
 "nbformat": 4,
 "nbformat_minor": 4
}
