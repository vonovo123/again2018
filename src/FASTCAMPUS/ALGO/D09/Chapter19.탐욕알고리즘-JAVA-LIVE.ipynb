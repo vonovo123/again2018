{
 "cells": [
  {
   "cell_type": "markdown",
   "metadata": {},
   "source": [
    "<div class=\"alert alert-block\" style=\"border: 1px solid #455A64;background-color:#ECEFF1;padding:5px;font-size:0.9em;\">\n",
    "본 자료와 관련 영상 컨텐츠는 저작권법 제25조 2항에 의해 보호를 받습니다. <br>본 컨텐츠 및 컨텐츠 일부 문구 등을 외부에 공개하거나, 요약해서 게시하지 말아주세요.\n",
    "</div>"
   ]
  },
  {
   "cell_type": "markdown",
   "metadata": {},
   "source": [
    "## 탐욕 알고리즘의 이해"
   ]
  },
  {
   "cell_type": "markdown",
   "metadata": {},
   "source": [
    "### 1. 탐욕 알고리즘 이란?\n",
    "- Greedy algorithm 또는 탐욕 알고리즘 이라고 불리움\n",
    "- 최적의 해에 가까운 값을 구하기 위해 사용됨\n",
    "- 여러 경우 중 하나를 결정해야할 때마다, **매순간 최적이라고 생각되는 경우를 선택**하는 방식으로 진행해서, 최종적인 값을 구하는 방식"
   ]
  },
  {
   "cell_type": "markdown",
   "metadata": {},
   "source": [
    "### 2. 탐욕 알고리즘 예\n",
    "### 문제1: 동전 문제\n",
    "  - 지불해야 하는 값이 4720원 일 때 1원 50원 100원, 500원 동전으로 동전의 수가 가장 적게 지불하시오.\n",
    "    - 가장 큰 동전부터 최대한 지불해야 하는 값을 채우는 방식으로 구현 가능\n",
    "    - 탐욕 알고리즘으로 매순간 최적이라고 생각되는 경우를 선택하면 됨"
   ]
  },
  {
   "cell_type": "code",
   "execution_count": 1,
   "metadata": {},
   "outputs": [],
   "source": [
    "public class GreedyAlgorithm {\n",
    "    public void coinFunc(Integer price, ArrayList<Integer> coinList) {\n",
    "        Integer totalCoinCount = 0;\n",
    "        Integer coinNum = 0;\n",
    "        ArrayList<Integer> details = new ArrayList<Integer>();\n",
    "        \n",
    "        for (int index = 0; index < coinList.size(); index++) {\n",
    "            coinNum = price / coinList.get(index);\n",
    "            totalCoinCount += coinNum;\n",
    "            price -= coinNum * coinList.get(index);\n",
    "            details.add(coinNum);\n",
    "            System.out.println(coinList.get(index) + \"원: \" + coinNum + \"개\");\n",
    "        }\n",
    "        System.out.println(\"총 동전 갯수: \" + totalCoinCount);\n",
    "    }\n",
    "}"
   ]
  },
  {
   "cell_type": "code",
   "execution_count": 2,
   "metadata": {},
   "outputs": [
    {
     "name": "stdout",
     "output_type": "stream",
     "text": [
      "500원: 9개\n",
      "100원: 2개\n",
      "50원: 0개\n",
      "1원: 20개\n",
      "총 동전 갯수: 31\n"
     ]
    }
   ],
   "source": [
    "GreedyAlgorithm gObject = new GreedyAlgorithm();\n",
    "ArrayList<Integer> coinList = new ArrayList<Integer>(Arrays.asList(500, 100, 50, 1));\n",
    "gObject.coinFunc(4720, coinList);"
   ]
  },
  {
   "cell_type": "markdown",
   "metadata": {},
   "source": [
    "### 문제2: 부분 배낭 문제 (Fractional Knapsack Problem) (프로젝트: CH27_KNAPSACK)\n",
    "  - 무게 제한이 k인 배낭에 최대 가치를 가지도록 물건을 넣는 문제\n",
    "    - 각 물건은 무게(w)와 가치(v)로 표현될 수 있음\n",
    "    - 물건은 쪼갤 수 있으므로 물건의 일부분이 배낭에 넣어질 수 있음, 그래서 Fractional Knapsack Problem 으로 부름\n",
    "      - Fractional Knapsack Problem 의 반대로 물건을 쪼개서 넣을 수 없는 배낭 문제도 존재함 (0/1 Knapsack Problem 으로 부름)\n",
    "    <img src=\"https://www.fun-coding.org/00_Images/knapsack.png\">"
   ]
  },
  {
   "cell_type": "code",
   "execution_count": 3,
   "metadata": {},
   "outputs": [],
   "source": [
    "//2차원 배열로 작성해보기\n",
    "Integer[][] objectList = { {10, 10}, {15, 12}, {20, 10}, {25, 8}, {30, 5} };"
   ]
  },
  {
   "cell_type": "code",
   "execution_count": 4,
   "metadata": {},
   "outputs": [
    {
     "data": {
      "text/plain": [
       "5"
      ]
     },
     "execution_count": 4,
     "metadata": {},
     "output_type": "execute_result"
    }
   ],
   "source": [
    "objectList.length"
   ]
  },
  {
   "cell_type": "markdown",
   "metadata": {},
   "source": [
    "### 참고: 정렬 기준 정의하기\n",
    "- 정렬을 위해서는 정렬 기준이 있어야 함\n",
    "- 객체간 정렬을 위해서는 정렬 기준을 먼저 정의해줘야 함"
   ]
  },
  {
   "cell_type": "code",
   "execution_count": 5,
   "metadata": {},
   "outputs": [
    {
     "data": {
      "text/plain": [
       "[1, 2, 3, 4, 10]"
      ]
     },
     "execution_count": 5,
     "metadata": {},
     "output_type": "execute_result"
    }
   ],
   "source": [
    "Integer[] iArray = new Integer[]{1, 10, 4, 3, 2};\n",
    "Arrays.sort(iArray);\n",
    "Arrays.toString(iArray);"
   ]
  },
  {
   "cell_type": "code",
   "execution_count": 8,
   "metadata": {},
   "outputs": [
    {
     "ename": "EvalException",
     "evalue": "class REPL.$JShell$21$Edge cannot be cast to class java.lang.Comparable (REPL.$JShell$21$Edge is in unnamed module of loader jdk.jshell.execution.DefaultLoaderDelegate$RemoteClassLoader @262b2c86; java.lang.Comparable is in module java.base of loader 'bootstrap')",
     "output_type": "error",
     "traceback": [
      "\u001b[1m\u001b[31m---------------------------------------------------------------------------\u001b[0m",
      "\u001b[1m\u001b[31mjava.lang.ClassCastException: class REPL.$JShell$21$Edge cannot be cast to class java.lang.Comparable (REPL.$JShell$21$Edge is in unnamed module of loader jdk.jshell.execution.DefaultLoaderDelegate$RemoteClassLoader @262b2c86; java.lang.Comparable is in module java.base of loader 'bootstrap')\u001b[0m",
      "\u001b[1m\u001b[31m\tat java.base/java.util.ComparableTimSort.countRunAndMakeAscending(ComparableTimSort.java:320)\u001b[0m",
      "\u001b[1m\u001b[31m\tat java.base/java.util.ComparableTimSort.sort(ComparableTimSort.java:188)\u001b[0m",
      "\u001b[1m\u001b[31m\tat java.base/java.util.Arrays.sort(Arrays.java:1040)\u001b[0m",
      "\u001b[1m\u001b[31m\tat .(#28:1)\u001b[0m"
     ]
    }
   ],
   "source": [
    "public class Edge {\n",
    "    public Integer distance;\n",
    "    public String vertex;\n",
    "    \n",
    "    public Edge (Integer distance, String vertex) {\n",
    "        this.distance = distance;\n",
    "        this.vertex = vertex;\n",
    "    }\n",
    "}\n",
    "\n",
    "Edge edge1 = new Edge(10, \"A\");\n",
    "Edge edge2 = new Edge(12, \"A\");\n",
    "Edge edge3 = new Edge(13, \"A\");\n",
    "Edge[] edges = new Edge[]{edge1, edge2, edge3};\n",
    "Arrays.sort(edges);"
   ]
  },
  {
   "cell_type": "markdown",
   "metadata": {},
   "source": [
    "### Comparable 과 Comparator 인터페이스\n",
    "- Comparable 와 Comparator 는 둘 다 인터페이스로, 정렬 기준을 구현하기 위해 사용됨\n",
    "   - Comparable 인터페이스는 compareTo() 메서드를 override 해서 구현\n",
    "      - 일반적으로는 정렬할 객체에 implements 로 Comparable 인터페이스를 추가하여 구현\n",
    "   - Comparator 인터페이스는 compare() 메서드를 override 해서 구현\n",
    "      - 일반적으로는 별도 클래스를 정의해서 구현하며, 따라서, 동일 객체에 다양한 정렬 기준을 가진 클래스를 작성 가능  "
   ]
  },
  {
   "cell_type": "code",
   "execution_count": 13,
   "metadata": {},
   "outputs": [
    {
     "name": "stdout",
     "output_type": "stream",
     "text": [
      "10\n",
      "12\n",
      "13\n"
     ]
    }
   ],
   "source": [
    "public class Edge implements Comparable<Edge> {\n",
    "    public Integer distance;\n",
    "    public String vertex;\n",
    "    \n",
    "    public Edge (Integer distance, String vertex) {\n",
    "        this.distance = distance;\n",
    "        this.vertex = vertex;\n",
    "    }\n",
    "    \n",
    "    @Override\n",
    "    public int compareTo(Edge e) {\n",
    "        return this.distance - e.distance;\n",
    "    }\n",
    "}\n",
    "Edge edge1 = new Edge(12, \"A\");\n",
    "Edge edge2 = new Edge(10, \"A\");\n",
    "Edge edge3 = new Edge(13, \"A\");\n",
    "Edge[] edges = new Edge[]{edge1, edge2, edge3};\n",
    "Arrays.sort(edges);\n",
    "for (int index = 0; index < edges.length; index++) {\n",
    "    System.out.println(edges[index].distance);\n",
    "}"
   ]
  },
  {
   "cell_type": "markdown",
   "metadata": {},
   "source": [
    "### Arrays.sort() 와 Comparator \n",
    "- 다음 예와 같이 Arrays.sort() 메서드는 인자를 두 개 받아서, 두 번째 인자에 Comparator 클래스를 넣어줄 수도 있음\n",
    "   - Edge 객체에 Comparable 인터페이스가 정의되어 있다하더라도, Comparator 클래스의 정렬 기준으로 정렬이 됨\n",
    "\n",
    "> 이외에 JAVA8 에서 lambda 등을 사용한 기법등 다양한 정렬 기법이 존재하며, 본 강의는 알고리즘에 집중하므로, 가능한 가장 기본적인 문법을 활용하기로 함"
   ]
  },
  {
   "cell_type": "code",
   "execution_count": 15,
   "metadata": {},
   "outputs": [
    {
     "name": "stdout",
     "output_type": "stream",
     "text": [
      "13\n",
      "12\n",
      "10\n"
     ]
    }
   ],
   "source": [
    "public class Edge implements Comparable<Edge> {\n",
    "    public Integer distance;\n",
    "    public String vertex;\n",
    "    \n",
    "    public Edge (Integer distance, String vertex) {\n",
    "        this.distance = distance;\n",
    "        this.vertex = vertex;\n",
    "    }\n",
    "    \n",
    "    @Override\n",
    "    public int compareTo(Edge e) {\n",
    "        return this.distance - e.distance;\n",
    "    }\n",
    "}\n",
    "Edge edge1 = new Edge(12, \"A\");\n",
    "Edge edge2 = new Edge(10, \"A\");\n",
    "Edge edge3 = new Edge(13, \"A\");\n",
    "Edge[] edges = new Edge[]{edge1, edge2, edge3};\n",
    "Arrays.sort(edges, new Comparator<Edge>() {\n",
    "    @Override\n",
    "    public int compare(Edge objectItem1, Edge objectItem2) {\n",
    "        return objectItem2.distance - objectItem1.distance;\n",
    "    }\n",
    "});\n",
    "\n",
    "for (int index = 0; index < edges.length; index++) {\n",
    "    System.out.println(edges[index].distance);\n",
    "}\n"
   ]
  },
  {
   "cell_type": "markdown",
   "metadata": {},
   "source": [
    "\n",
    "\n"
   ]
  },
  {
   "cell_type": "markdown",
   "metadata": {},
   "source": [
    "### 부분 배낭 문제 구현 (프로젝트: CH27_KNAPSACK)\n",
    "\n",
    "<img src=\"https://www.fun-coding.org/00_Images/knapsack.png\">"
   ]
  },
  {
   "cell_type": "code",
   "execution_count": 16,
   "metadata": {},
   "outputs": [],
   "source": [
    "//2차원 배열로 작성해보기\n",
    "Integer[][] objectList = { {10, 10}, {15, 12}, {20, 10}, {25, 8}, {30, 5} };"
   ]
  },
  {
   "cell_type": "code",
   "execution_count": 24,
   "metadata": {},
   "outputs": [],
   "source": [
    "public class GreedyAlgorithm {\n",
    "    public void knapsackFunc(Integer[][] objectList, double capacity) {\n",
    "        double totalValue = 0.0;\n",
    "        double fraction = 0.0;\n",
    "        \n",
    "        Arrays.sort(objectList, new Comparator<Integer[]>() {\n",
    "            @Override\n",
    "            public int compare(Integer[] objectItem1, Integer[] objectItem2) {\n",
    "                return (objectItem2[1] / objectItem2[0]) - (objectItem1[1] / objectItem1[0]);\n",
    "            }\n",
    "        });\n",
    "                    \n",
    "        for (int index = 0; index < objectList.length; index++) {\n",
    "            if ( (capacity - (double)objectList[index][0]) > 0 ) {\n",
    "                capacity -= (double)objectList[index][0];\n",
    "                totalValue += (double)objectList[index][1];\n",
    "                System.out.println(\"무게:\" + objectList[index][0] + \", 가치:\" + objectList[index][1]);\n",
    "            } else {\n",
    "                fraction = capacity / (double)objectList[index][0];\n",
    "                totalValue += (double)objectList[index][1] * fraction;\n",
    "                System.out.println(\"무게:\" + objectList[index][0] + \", 가치:\" + objectList[index][1] + \", 비율:\" + fraction);                \n",
    "                break;\n",
    "            }\n",
    "        }\n",
    "        System.out.println(\"총 담을 수 있는 가치:\" + totalValue);\n",
    "    }\n",
    "}"
   ]
  },
  {
   "cell_type": "code",
   "execution_count": 25,
   "metadata": {},
   "outputs": [
    {
     "name": "stdout",
     "output_type": "stream",
     "text": [
      "무게:10, 가치:10\n",
      "무게:15, 가치:12\n",
      "무게:20, 가치:10, 비율:0.25\n",
      "총 담을 수 있는 가치:24.5\n"
     ]
    }
   ],
   "source": [
    "GreedyAlgorithm gObject = new GreedyAlgorithm();\n",
    "Integer[][] objectList = { {10, 10}, {15, 12}, {20, 10}, {25, 8}, {30, 5} };\n",
    "gObject.knapsackFunc(objectList, 30.0);"
   ]
  },
  {
   "cell_type": "markdown",
   "metadata": {},
   "source": [
    "### 3. 탐욕 알고리즘의 한계\n",
    "- 탐욕 알고리즘은 근사치 추정에 활용\n",
    "- 반드시 최적의 해를 구할 수 있는 것은 아니기 때문\n",
    "- 최적의 해에 가까운 값을 구하는 방법 중의 하나임\n",
    "\n",
    "### 예\n",
    "<img src=\"https://www.fun-coding.org/00_Images/greedy.png\" width=300>\n",
    "\n",
    "- '시작' 노드에서 시작해서 가장 작은 값을 찾아 leaf node 까지 가는 경로를 찾을 시에\n",
    "  - Greedy 알고리즘 적용시 시작 -> 7 -> 12 를 선택하게 되므로 7 + 12 = 19 가 됨 \n",
    "  - 하지만 실제 가장 작은 값은 시작 -> 10 -> 5 이며, 10 + 5 = 15 가 답"
   ]
  },
  {
   "cell_type": "markdown",
   "metadata": {},
   "source": [
    "<div class=\"alert alert-block\" style=\"border: 1px solid #455A64;background-color:#ECEFF1;padding:5px;font-size:0.9em;\">\n",
    "본 자료와 관련 영상 컨텐츠는 저작권법 제25조 2항에 의해 보호를 받습니다. <br>본 컨텐츠 및 컨텐츠 일부 문구 등을 외부에 공개하거나, 요약해서 게시하지 말아주세요.\n",
    "</div>"
   ]
  }
 ],
 "metadata": {
  "kernelspec": {
   "display_name": "Java",
   "language": "java",
   "name": "java"
  },
  "language_info": {
   "codemirror_mode": "java",
   "file_extension": ".jshell",
   "mimetype": "text/x-java-source",
   "name": "Java",
   "pygments_lexer": "java",
   "version": "15.0.2+7-27"
  }
 },
 "nbformat": 4,
 "nbformat_minor": 4
}
