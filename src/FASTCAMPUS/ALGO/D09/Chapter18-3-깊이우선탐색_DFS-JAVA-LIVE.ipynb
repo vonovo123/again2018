{
 "cells": [
  {
   "cell_type": "markdown",
   "metadata": {},
   "source": [
    "<div class=\"alert alert-block\" style=\"border: 1px solid #455A64;background-color:#ECEFF1;padding:5px;font-size:0.9em;\">\n",
    "본 자료와 관련 영상 컨텐츠는 저작권법 제25조 2항에 의해 보호를 받습니다. <br>본 컨텐츠 및 컨텐츠 일부 문구 등을 외부에 공개하거나, 요약해서 게시하지 말아주세요.\n",
    "</div>"
   ]
  },
  {
   "cell_type": "markdown",
   "metadata": {},
   "source": [
    "## 깊이 우선 탐색 (Depth-First Search)"
   ]
  },
  {
   "cell_type": "markdown",
   "metadata": {},
   "source": [
    "### 1. BFS 와 DFS 란?\n",
    "* 대표적인 그래프 **탐색** 알고리즘\n",
    "  - 너비 우선 탐색 (Breadth First Search): 정점들과 같은 레벨에 있는 노드들 (형제 노드들)을 먼저 탐색하는 방식\n",
    "  - 깊이 우선 탐색 (Depth First Search): 정점의 자식들을 먼저 탐색하는 방식"
   ]
  },
  {
   "cell_type": "markdown",
   "metadata": {},
   "source": [
    "#### BFS/DFS 방식 이해를 위한 예제\n",
    "- BFS 방식: A - B - C - D - G - H - I - E - F - J \n",
    "  - 한 단계씩 내려가면서, 해당 노드와 같은 레벨에 있는 노드들 (형제 노드들)을 먼저 순회함\n",
    "- DFS 방식: A - B - D - E - F - C - G - H - I - J \n",
    "  - 한 노드의 자식을 타고 끝까지 순회한 후, 다시 돌아와서 다른 형제들의 자식을 타고 내려가며 순회함\n",
    "\n",
    "<img src=\"https://www.fun-coding.org/00_Images/BFSDFS.png\" width=700>"
   ]
  },
  {
   "cell_type": "markdown",
   "metadata": {},
   "source": [
    "### 2. 그래프를 자료구조로 작성하기\n",
    "- HashMap 을 사용하여, 그래프를 자료구조로 작성할 수 있음 \n",
    "> BFS 강의에서 HashMap 사용법에 대해서도 참고로 설명드렸으므로, HashMap 에 대해서는 BFS 강의를 참고부탁드립니다."
   ]
  },
  {
   "cell_type": "code",
   "execution_count": 1,
   "metadata": {},
   "outputs": [],
   "source": [
    "HashMap<String, ArrayList<String>> graph = new HashMap<String, ArrayList<String>>();\n",
    "graph.put(\"A\", new ArrayList<String>(Arrays.asList(\"B\", \"C\")));\n",
    "graph.put(\"B\", new ArrayList<String>(Arrays.asList(\"A\", \"D\")));\n",
    "graph.put(\"C\", new ArrayList<String>(Arrays.asList(\"A\", \"G\", \"H\", \"I\")));\n",
    "graph.put(\"D\", new ArrayList<String>(Arrays.asList(\"B\", \"E\", \"F\")));\n",
    "graph.put(\"E\", new ArrayList<String>(Arrays.asList(\"D\")));\n",
    "graph.put(\"F\", new ArrayList<String>(Arrays.asList(\"D\")));\n",
    "graph.put(\"G\", new ArrayList<String>(Arrays.asList(\"C\")));\n",
    "graph.put(\"H\", new ArrayList<String>(Arrays.asList(\"C\")));\n",
    "graph.put(\"I\", new ArrayList<String>(Arrays.asList(\"C\", \"J\")));\n",
    "graph.put(\"J\", new ArrayList<String>(Arrays.asList(\"I\")));"
   ]
  },
  {
   "cell_type": "code",
   "execution_count": 2,
   "metadata": {
    "scrolled": true
   },
   "outputs": [
    {
     "data": {
      "text/plain": [
       "{A=[B, C], B=[A, D], C=[A, G, H, I], D=[B, E, F], E=[D], F=[D], G=[C], H=[C], I=[C, J], J=[I]}"
      ]
     },
     "execution_count": 2,
     "metadata": {},
     "output_type": "execute_result"
    }
   ],
   "source": [
    "graph"
   ]
  },
  {
   "cell_type": "markdown",
   "metadata": {},
   "source": [
    "### 그래프 예와 파이썬 표현\n",
    "<img src=\"https://www.fun-coding.org/00_Images/dfsgraph.png\" width=700>"
   ]
  },
  {
   "cell_type": "markdown",
   "metadata": {},
   "source": [
    "### 3. DFS 알고리즘 구현 (프로젝트: CH26_DFS)\n",
    "\n",
    "- 자료구조 스택과 큐를 활용함\n",
    "  - needVisit 스택과 visited 큐, 두 개의 자료 구조를 생성\n",
    "\n",
    "> BFS 자료구조는 두 개의 큐를 활용하는데 반해, DFS 는 스택과 큐를 활용한다는 차이가 있음을 인지해야 함"
   ]
  },
  {
   "cell_type": "markdown",
   "metadata": {},
   "source": [
    "- 큐와 스택의 구현도 간단히 ArrayList 클래스를 활용"
   ]
  },
  {
   "cell_type": "code",
   "execution_count": 3,
   "metadata": {},
   "outputs": [
    {
     "name": "stdout",
     "output_type": "stream",
     "text": [
      "[A]\n",
      "B\n"
     ]
    }
   ],
   "source": [
    "import java.util.ArrayList;\n",
    "\n",
    "ArrayList<String> aList = new ArrayList<String>();\n",
    "aList.add(\"A\");\n",
    "aList.add(\"B\");\n",
    "String node = aList.remove(aList.size() - 1);\n",
    "System.out.println(aList);\n",
    "System.out.println(node);"
   ]
  },
  {
   "cell_type": "code",
   "execution_count": 4,
   "metadata": {},
   "outputs": [],
   "source": [
    "public class DFSSearch {\n",
    "    public ArrayList<String> dfsFunc(HashMap<String, ArrayList<String>> graph, String startNode) {\n",
    "        ArrayList<String> visited = new ArrayList<String>();\n",
    "        ArrayList<String> needVisit = new ArrayList<String>();        \n",
    "        \n",
    "        needVisit.add(startNode);\n",
    "        \n",
    "        while (needVisit.size() > 0) {\n",
    "            String node = needVisit.remove(needVisit.size() - 1); // BFS와 이 부분만 다름 (큐 -> 스택)\n",
    "            if (!visited.contains(node)) {\n",
    "                visited.add(node);\n",
    "                needVisit.addAll(graph.get(node));\n",
    "            }\n",
    "        }\n",
    "        return visited;\n",
    "    }\n",
    "}\n",
    "\n",
    "//A\n",
    "\n",
    "//B C => C\n",
    "//B G H I => I\n",
    "\n",
    "//A\n",
    "\n",
    "//B C => B\n",
    "//C D => C"
   ]
  },
  {
   "cell_type": "code",
   "execution_count": 5,
   "metadata": {},
   "outputs": [
    {
     "data": {
      "text/plain": [
       "[A, C, I, J, H, G, B, D, F, E]"
      ]
     },
     "execution_count": 5,
     "metadata": {},
     "output_type": "execute_result"
    }
   ],
   "source": [
    "DFSSearch dObject = new DFSSearch();\n",
    "dObject.dfsFunc(graph, \"A\");"
   ]
  },
  {
   "cell_type": "markdown",
   "metadata": {},
   "source": [
    "<img src=\"https://www.fun-coding.org/00_Images/dfsgraph2.jpg\" width=700>"
   ]
  },
  {
   "cell_type": "markdown",
   "metadata": {},
   "source": [
    "### 4. 시간 복잡도\n",
    "- 일반적인 DFS 시간 복잡도\n",
    "  - 노드 수: V\n",
    "  - 간선 수: E\n",
    "    - 위 코드에서 while need_visit 은 V + E 번 만큼 수행함\n",
    "  - 시간 복잡도: O(V + E)\n",
    "  "
   ]
  },
  {
   "cell_type": "markdown",
   "metadata": {},
   "source": [
    "<div class=\"alert alert-block\" style=\"border: 1px solid #455A64;background-color:#ECEFF1;padding:5px;font-size:0.9em;\">\n",
    "본 자료와 관련 영상 컨텐츠는 저작권법 제25조 2항에 의해 보호를 받습니다. <br>본 컨텐츠 및 컨텐츠 일부 문구 등을 외부에 공개하거나, 요약해서 게시하지 말아주세요.\n",
    "</div>"
   ]
  }
 ],
 "metadata": {
  "kernelspec": {
   "display_name": "Java",
   "language": "java",
   "name": "java"
  },
  "language_info": {
   "codemirror_mode": "java",
   "file_extension": ".jshell",
   "mimetype": "text/x-java-source",
   "name": "Java",
   "pygments_lexer": "java",
   "version": "15.0.2+7-27"
  }
 },
 "nbformat": 4,
 "nbformat_minor": 4
}
