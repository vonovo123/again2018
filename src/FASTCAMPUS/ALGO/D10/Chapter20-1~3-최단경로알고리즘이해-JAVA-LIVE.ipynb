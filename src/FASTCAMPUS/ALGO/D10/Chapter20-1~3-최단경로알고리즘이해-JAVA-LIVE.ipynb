{
 "cells": [
  {
   "cell_type": "markdown",
   "metadata": {},
   "source": [
    "<div class=\"alert alert-block\" style=\"border: 1px solid #455A64;background-color:#ECEFF1;padding:5px;font-size:0.9em;\">\n",
    "본 자료와 관련 영상 컨텐츠는 저작권법 제25조 2항에 의해 보호를 받습니다. <br>본 컨텐츠 및 컨텐츠 일부 문구 등을 외부에 공개하거나, 요약해서 게시하지 말아주세요.\n",
    "</div>"
   ]
  },
  {
   "cell_type": "markdown",
   "metadata": {},
   "source": [
    "## 최단 경로 알고리즘의 이해"
   ]
  },
  {
   "cell_type": "markdown",
   "metadata": {},
   "source": [
    "### 1. 최단 경로 문제란?\n",
    "- 최단 경로 문제란 두 노드를 잇는 가장 짧은 경로를 찾는 문제임\n",
    "- 가중치 그래프 (Weighted Graph) 에서 간선 (Edge)의 가중치 합이 최소가 되도록 하는 경로를 찾는 것이 목적"
   ]
  },
  {
   "cell_type": "markdown",
   "metadata": {},
   "source": [
    "### 최단 경로 문제 종류\n",
    "1. 단일 출발 (single-source) 최단 경로 문제\n",
    "  - 그래프 내의 특정 노드 u 에서 출발하여, 그래프 내의 모든 다른 노드에 도착하는 가장 짧은 경로를 찾는 문제\n",
    "2. 단일 도착 (single-destination) 최단 경로 문제\n",
    "  - 모든 노드들로부터 출발해서, 그래프 내의 특정 노드 u 로 도착하는 가장 짧은 경로를 찾는 문제\n",
    "3. 단일 쌍(single-pair) 최단 경로 문제\n",
    "  - 주어진 노드 u 와 v 간의 최단 경로를 찾는 문제\n",
    "4. 전체 쌍(all-pair) 최단 경로: 그래프 내의 모든 노드 쌍 (u, v) 사이에 대한 최단 경로를 찾는 문제"
   ]
  },
  {
   "cell_type": "markdown",
   "metadata": {},
   "source": [
    "### 2. 최단 경로 알고리즘 - 다익스트라 알고리즘\n",
    "- 다익스트라 알고리즘은 위의 최단 경로 문제 종류 중, 1번에 해당\n",
    "  - 하나의 정점에서 다른 모든 정점에 도착하는 **가장 짧은 거리**를 구하는 문제\n",
    "\n",
    "<img src=\"https://www.fun-coding.org/00_Images/dijkstra.png\" width=300>"
   ]
  },
  {
   "cell_type": "markdown",
   "metadata": {},
   "source": [
    "### 다익스트라 알고리즘 로직\n",
    "- 첫 정점을 기준으로 연결되어 있는 정점들을 추가해 가며, 최단 거리를 갱신하는 기법\n",
    "- 다익스트라 알고리즘은 너비우선탐색(BFS)와 유사\n",
    "  - 첫 정점부터 각 노드간의 거리를 저장하는 배열을 만든 후, 첫 정점의 인접 노드 간의 거리부터 먼저 계산하면서, 첫 정점부터 해당 노드간의 가장 짧은 거리를 해당 배열에 업데이트\n",
    ">  다익스트라 알고리즘의 다양한 변형 로직이 있지만, 가장 개선된 우선순위 큐를 사용하는 방식에 집중해서 설명하기로 함\n",
    "\n",
    "- 우선순위 큐를 활용한 다익스트라 알고리즘\n",
    "  - 우선순위 큐는 MinHeap 방식을 활용해서, 현재 가장 짧은 거리를 가진 노드 정보를 먼저 꺼내게 됨\n",
    "\n",
    "  1) 첫 정점을 기준으로 배열을 선언하여 첫 정점에서 각 정점까지의 거리를 저장\n",
    "     - 초기에는 첫 정점의 거리는 0, 나머지는 무한대로 저장함 (inf 라고 표현함)\n",
    "     - 우선순위 큐에 (첫 정점, 거리 0) 만 먼저 넣음 \n",
    "  \n",
    "  2) 우선순위 큐에서 노드를 꺼냄\n",
    "     - 처음에는 첫 정점만 저장되어 있으므로, 첫 정점이 꺼내짐\n",
    "     - 첫 정점에 인접한 노드들 각각에 대해, 첫 정점에서 각 노드로 가는 거리와 현재 배열에 저장되어 있는 첫 정점에서 각 정점까지의 거리를 비교한다.\n",
    "     - 배열에 저장되어 있는 거리보다, 첫 정점에서 해당 노드로 가는 거리가 더 짧을 경우, 배열에 해당 노드의 거리를 업데이트한다.\n",
    "     - 배열에 해당 노드의 거리가 업데이트된 경우, 우선순위 큐에 넣는다.\n",
    "       - 결과적으로 너비 우선 탐색 방식과 유사하게, 첫 정점에 인접한 노드들을 순차적으로 방문하게 됨\n",
    "       - 만약 배열에 기록된 현재까지 발견된 가장 짧은 거리보다, 더 긴 거리(루트)를 가진 (노드, 거리)의 경우에는 해당 노드와 인접한 노드간의 거리 계산을 하지 않음\n",
    "\n",
    "  3) 2번의 과정을 우선순위 큐에 꺼낼 노드가 없을 때까지 반복한다."
   ]
  },
  {
   "cell_type": "markdown",
   "metadata": {},
   "source": [
    "### 3. 예제로 이해하는 다익스트라 알고리즘 (우선순위 큐 활용)"
   ]
  },
  {
   "cell_type": "markdown",
   "metadata": {},
   "source": [
    "<img src=\"https://www.fun-coding.org/00_Images/dijkstra.png\" width=300>"
   ]
  },
  {
   "cell_type": "markdown",
   "metadata": {},
   "source": [
    "### 1단계: 초기화\n",
    "- 첫 정점을 기준으로 배열을 선언하여 첫 정점에서 각 정점까지의 거리를 저장\n",
    "   - 초기에는 첫 정점의 거리는 0, 나머지는 무한대로 저장함 (inf 라고 표현함)\n",
    "   - 우선순위 큐에 (첫 정점, 거리 0) 만 먼저 넣음 "
   ]
  },
  {
   "cell_type": "markdown",
   "metadata": {},
   "source": [
    "<img src=\"https://www.fun-coding.org/00_Images/dijkstra_initial.png\">"
   ]
  },
  {
   "cell_type": "markdown",
   "metadata": {},
   "source": [
    "### 2단계: 우선순위 큐에서 추출한 (A, 0) [노드, 첫 노드와의 거리] 를 기반으로 인접한 노드와의 거리 계산\n",
    "- 우선순위 큐에서 노드를 꺼냄\n",
    "     - 처음에는 첫 정점만 저장되어 있으므로, 첫 정점이 꺼내짐\n",
    "     - 첫 정점에 인접한 노드들 각각에 대해, 첫 정점에서 각 노드로 가는 거리와 현재 배열에 저장되어 있는 첫 정점에서 각 정점까지의 거리를 비교한다.\n",
    "     - 배열에 저장되어 있는 거리보다, 첫 정점에서 해당 노드로 가는 거리가 더 짧을 경우, 배열에 해당 노드의 거리를 업데이트한다.\n",
    "     - 배열에 해당 노드의 거리가 업데이트된 경우, 우선순위 큐에 넣는다.\n",
    "       - 결과적으로 너비 우선 탐색 방식과 유사하게, 첫 정점에 인접한 노드들을 순차적으로 방문하게 됨\n",
    "       - 만약 배열에 기록된 현재까지 발견된 가장 짧은 거리보다, 더 긴 거리(루트)를 가진 (노드, 거리)의 경우에는 해당 노드와 인접한 노드간의 거리 계산을 하지 않음\n",
    "       \n",
    "> 이전 표에서 보듯이, 첫 정점 이외에 모두 inf 였었으므로, 첫 정점에 인접한 노드들은 모두 우선순위 큐에 들어가고, 첫 정점과 인접한 노드간의 거리가 배열에 업데이트됨"
   ]
  },
  {
   "cell_type": "markdown",
   "metadata": {},
   "source": [
    "<img src=\"https://www.fun-coding.org/00_Images/dijkstra_1st.png\">"
   ]
  },
  {
   "cell_type": "markdown",
   "metadata": {},
   "source": [
    "### 3단계: 우선순위 큐에서 (C, 1) [노드, 첫 노드와의 거리] 를 기반으로 인접한 노드와의 거리 계산\n",
    "- 우선순위 큐가 MinHeap(최소 힙) 방식이므로, 위 표에서 넣어진 (C, 1), (D, 2), (B, 8) 중 (C, 1) 이 먼저 추출됨 (pop)\n",
    "- 위 표에서 보듯이 1단계까지의 A - B 최단 거리는 8 인 상황임\n",
    "  - A - C 까지의 거리는 1, C 에 인접한 B, D에서 C - B는 5, 즉 A - C - B 는 1 + 5 = 6 이므로, A - B 최단 거리 8보다 더 작은 거리를 발견, 이를 배열에 업데이트\n",
    "    - 배열에 업데이트했으므로 B, 6 (즉 A에서 B까지의 현재까지 발견한 최단 거리) 값이 우선순위 큐에 넣어짐\n",
    "  - C - D 의 거리는 2, 즉 A - C - D 는 1 + 2 = 3 이므로, A - D의 현재 최단 거리인 2 보다 긴 거리, 그래서 D 의 거리는 업데이트되지 않음\n"
   ]
  },
  {
   "cell_type": "markdown",
   "metadata": {},
   "source": [
    "<img src=\"https://www.fun-coding.org/00_Images/dijkstra_2nd.png\">"
   ]
  },
  {
   "cell_type": "markdown",
   "metadata": {},
   "source": [
    "### 4단계: 우선순위 큐에서 (D, 2) [노드, 첫 노드와의 거리] 를 기반으로 인접한 노드와의 거리 계산\n",
    "- 지금까지 접근하지 못했던 E와 F 거리가 계산됨\n",
    "  - A - D 까지의 거리인 2 에 D - E 가 3 이므로 이를 더해서 E, 5\n",
    "  - A - D 까지의 거리인 2 에 D - F 가 5 이므로 이를 더해서 F, 7"
   ]
  },
  {
   "cell_type": "markdown",
   "metadata": {},
   "source": [
    "<img src=\"https://www.fun-coding.org/00_Images/dijkstra_3rd.png\">"
   ]
  },
  {
   "cell_type": "markdown",
   "metadata": {},
   "source": [
    "### 5단계: 우선순위 큐에서 (E, 5) [노드, 첫 노드와의 거리] 를 기반으로 인접한 노드와의 거리 계산\n",
    "- A - E 거리가 5인 상태에서, E에 인접한 F를 가는 거리는 1, 즉 A - E - F 는 5 + 1 = 6, 현재 배열에 A - F 최단거리가 7로 기록되어 있으므로, F, 6 으로 업데이트\n",
    "  - 우선순위 큐에 F, 6 추가"
   ]
  },
  {
   "cell_type": "markdown",
   "metadata": {},
   "source": [
    "<img src=\"https://www.fun-coding.org/00_Images/dijkstra_3-2th.png\">"
   ]
  },
  {
   "cell_type": "markdown",
   "metadata": {},
   "source": [
    "### 6단계: 우선순위 큐에서 (B, 6), (F, 6) 를 순차적으로 추출해 각 노드  기반으로 인접한 노드와의 거리 계산\n",
    "- 예제의 방향 그래프에서 B 노드는 다른 노드로 가는 루트가 없음 \n",
    "- F 노드는 A 노드로 가는 루트가 있으나, 현재 A - A 가 0 인 반면에 A - F - A 는 6 + 5 = 11, 즉 더 긴 거리이므로 업데이트되지 않음"
   ]
  },
  {
   "cell_type": "markdown",
   "metadata": {},
   "source": [
    "<img src=\"https://www.fun-coding.org/00_Images/dijkstra_4th.png\">"
   ]
  },
  {
   "cell_type": "markdown",
   "metadata": {},
   "source": [
    "### 6단계: 우선순위 큐에서 (F, 7), (B, 8) 를 순차적으로 추출해 각 노드  기반으로 인접한 노드와의 거리 계산\n",
    "- A - F 로 가는 하나의 루트의 거리가 7 인 상황이나, 배열에서 이미 A - F 로 가는 현재의 최단 거리가 6인 루트의 값이 있는 상황이므로, 더 긴거리인 F, 7 루트 기반 인접 노드까지의 거리는 계산할 필요가 없음, 그래서 계산없이 스킵함\n",
    "  - 계산하더라도 A - F 거리가 6인 루트보다 무조건 더 긴거리가 나올 수 밖에 없음\n",
    "- B, 8 도 현재 A - B 거리가 6이므로, 인접 노드 거리 계산이 필요 없음. \n",
    "\n",
    "> 우선순위 큐를 사용하면 불필요한 계산 과정을 줄일 수 있음"
   ]
  },
  {
   "cell_type": "markdown",
   "metadata": {},
   "source": [
    "<img src=\"https://www.fun-coding.org/00_Images/dijkstra_5th.png\">\n",
    "\n",
    "### 우선순위 큐 사용 장점\n",
    "- 지금까지 발견된 가장 짧은 거리의 노드에 대해서 먼저 계산\n",
    "- 더 긴 거리로 계산된 루트에 대해서는 계산을 스킵할 수 있음"
   ]
  },
  {
   "cell_type": "markdown",
   "metadata": {},
   "source": [
    "### 4. 구현을 위해 참고해야하는 JAVA 문법"
   ]
  },
  {
   "cell_type": "markdown",
   "metadata": {},
   "source": [
    "### 참고: PriorityQueue 와 정렬\n",
    "- 다음 참고 항목에서 익히는 PriorityQueue 는 내부적으로 정렬 기능을 수행하며,\n",
    "- 따라서 PriorityQueue 에 넣어지는 특별한 형태의 객체인 경우, 객체간의 정렬을 위한 기준을 정의해야 함\n",
    "- PriorityQueue 에서 내부적으로 정렬 기능을 사용할 때는, 해당 객체의 Comparable 인터페이스의 compareTo() 메서드를 호출하므로,\n",
    "- 객체간 정렬 기준을 정의하기 위해, Comparable 인터페이스의 compareTo() 메서드를 정의해줘야 함"
   ]
  },
  {
   "cell_type": "code",
   "execution_count": 1,
   "metadata": {},
   "outputs": [],
   "source": [
    "public class Edge implements Comparable<Edge> {\n",
    "    public int distance;\n",
    "    public String vertex;\n",
    "    \n",
    "    public Edge(int distance, String vertex) {\n",
    "        this.distance = distance;\n",
    "        this.vertex = vertex;\n",
    "    }\n",
    "    \n",
    "    // System.out.println() 으로 객체 자체 출력시, \n",
    "    public String toString() {\n",
    "        return \"vertex: \" + this.vertex + \", distance: \" + this.distance;\n",
    "    }\n",
    "    \n",
    "    @Override\n",
    "    public int compareTo(Edge edge) {\n",
    "        return this.distance - edge.distance;\n",
    "    }\n",
    "}"
   ]
  },
  {
   "cell_type": "markdown",
   "metadata": {},
   "source": [
    "### 참고: 우선순위 큐\n",
    "- java.util.PriorityQueue 클래스 사용\n",
    "\n",
    "> 우선순위큐는 특성상 (1) 데이터를 넣고, (2) 우선순위에 따라 꺼내면서, 해당 데이터를 큐에서 삭제하는 기능을 수행하므로, 위 두가지 사용법을 이해하기로 함"
   ]
  },
  {
   "cell_type": "code",
   "execution_count": 2,
   "metadata": {},
   "outputs": [],
   "source": [
    "// PriorityQueue 선언 : (1) 데이터를 넣기 (우선순위 큐 선언)\n",
    "\n",
    "import java.util.PriorityQueue;\n",
    "\n",
    "PriorityQueue<Edge> priorityQueue = new PriorityQueue<Edge>();"
   ]
  },
  {
   "cell_type": "code",
   "execution_count": 3,
   "metadata": {},
   "outputs": [
    {
     "data": {
      "text/plain": [
       "true"
      ]
     },
     "execution_count": 3,
     "metadata": {},
     "output_type": "execute_result"
    }
   ],
   "source": [
    "// PriorityQueue 데이터 추가 (add() 와 offer() 둘다 동일하게 데이터를 추가하는 기능을 제공함) : (1) 데이터를 넣기\n",
    "priorityQueue.add(new Edge(2, \"A\"));\n",
    "priorityQueue.add(new Edge(5, \"B\"));\n",
    "priorityQueue.offer(new Edge(1, \"C\"));\n",
    "priorityQueue.offer(new Edge(7, \"D\"));"
   ]
  },
  {
   "cell_type": "code",
   "execution_count": 4,
   "metadata": {},
   "outputs": [
    {
     "name": "stdout",
     "output_type": "stream",
     "text": [
      "[vertex: C, distance: 1, vertex: B, distance: 5, vertex: A, distance: 2, vertex: D, distance: 7]\n"
     ]
    }
   ],
   "source": [
    "System.out.println(priorityQueue);"
   ]
  },
  {
   "cell_type": "code",
   "execution_count": 5,
   "metadata": {},
   "outputs": [
    {
     "data": {
      "text/plain": [
       "vertex: C, distance: 1"
      ]
     },
     "execution_count": 5,
     "metadata": {},
     "output_type": "execute_result"
    }
   ],
   "source": [
    "// PriorityQueue 의 최상단 값을 가져오기만 하기 (해당 값이 삭제되지는 않음)\n",
    "priorityQueue.peek();"
   ]
  },
  {
   "cell_type": "code",
   "execution_count": 7,
   "metadata": {},
   "outputs": [
    {
     "name": "stdout",
     "output_type": "stream",
     "text": [
      "vertex: C, distance: 1\n",
      "[vertex: A, distance: 2, vertex: B, distance: 5, vertex: D, distance: 7]\n"
     ]
    }
   ],
   "source": [
    "// PriorityQueue 의 데이터 읽기 (PriorityQueue 는 우선순위가 높은 값을 읽기 위해 사용함) :  (2) 우선순위에 따라 꺼내고, 해당 데이터 삭제하기\n",
    "// PriorityQueue 의 최상단 값을 가져오고, 해당 값을 삭제함 (내부적으로 두번째 우선순위 값이 최상단으로 이동함)\n",
    "// poll() 이외에 remove() 메서드도 동일한 역할 \n",
    "\n",
    "Edge edge1 = priorityQueue.poll();\n",
    "System.out.println(edge1);\n",
    "System.out.println(priorityQueue);"
   ]
  },
  {
   "cell_type": "code",
   "execution_count": 8,
   "metadata": {},
   "outputs": [
    {
     "data": {
      "text/plain": [
       "3"
      ]
     },
     "execution_count": 8,
     "metadata": {},
     "output_type": "execute_result"
    }
   ],
   "source": [
    "// 데이터 사이즈 확인하기\n",
    "priorityQueue.size();"
   ]
  },
  {
   "cell_type": "markdown",
   "metadata": {},
   "source": [
    "### 5. 다익스트라 알고리즘 구현 (우선순위 큐 활용까지 포함)"
   ]
  },
  {
   "cell_type": "markdown",
   "metadata": {},
   "source": [
    "### 다익스트라 알고리즘\n",
    "- 탐색할 그래프의 시작 정점과 다른 정점들간의 최단 거리 구하기\n",
    "<img src=\"https://www.fun-coding.org/00_Images/dijkstra.png\" width=300>"
   ]
  },
  {
   "cell_type": "code",
   "execution_count": 12,
   "metadata": {},
   "outputs": [],
   "source": [
    "import java.util.HashMap;\n",
    "\n",
    "HashMap<String, ArrayList<Edge>> graph = new HashMap<String, ArrayList<Edge>>();\n",
    "graph.put(\"A\", new ArrayList<Edge>(Arrays.asList(new Edge(8, \"B\"), new Edge(1, \"C\"), new Edge(2, \"D\"))));\n",
    "graph.put(\"B\", new ArrayList<Edge>());\n",
    "graph.put(\"C\", new ArrayList<Edge>(Arrays.asList(new Edge(5, \"B\"), new Edge(2, \"D\"))));\n",
    "graph.put(\"D\", new ArrayList<Edge>(Arrays.asList(new Edge(3, \"E\"), new Edge(5, \"F\"))));\n",
    "graph.put(\"E\", new ArrayList<Edge>(Arrays.asList(new Edge(1, \"F\"))));\n",
    "graph.put(\"F\", new ArrayList<Edge>(Arrays.asList(new Edge(5, \"A\"))));"
   ]
  },
  {
   "cell_type": "markdown",
   "metadata": {},
   "source": [
    "### 참고: Hashmap 에 들어 있는 모든 Key 가져오기\n",
    "> 굉장히 다양한 방법이 있지만, 가장 간단한 기법을 사용하기로 함"
   ]
  },
  {
   "cell_type": "code",
   "execution_count": 10,
   "metadata": {},
   "outputs": [
    {
     "name": "stdout",
     "output_type": "stream",
     "text": [
      "A\n",
      "[vertex: B, distance: 8, vertex: C, distance: 1, vertex: D, distance: 2]\n",
      "B\n",
      "[]\n",
      "C\n",
      "[vertex: B, distance: 5, vertex: D, distance: 2]\n",
      "D\n",
      "[vertex: E, distance: 3, vertex: F, distance: 5]\n",
      "E\n",
      "[vertex: F, distance: 1]\n",
      "F\n",
      "[vertex: A, distance: 5]\n"
     ]
    }
   ],
   "source": [
    "for (String key : graph.keySet()) {\n",
    "    System.out.println(key);\n",
    "    System.out.println(graph.get(key));    \n",
    "}"
   ]
  },
  {
   "cell_type": "markdown",
   "metadata": {},
   "source": [
    "### 참고: 위 Hashmap 에서 각 키에 해당하는 값, 즉 ArrayList 의 모든 Edge 객체 추출하기"
   ]
  },
  {
   "cell_type": "code",
   "execution_count": 11,
   "metadata": {},
   "outputs": [
    {
     "name": "stdout",
     "output_type": "stream",
     "text": [
      "vertex: B, distance: 8\n",
      "vertex: C, distance: 1\n",
      "vertex: D, distance: 2\n"
     ]
    }
   ],
   "source": [
    "ArrayList<Edge> nodeList = graph.get(\"A\");\n",
    "for (int index = 0; index < nodeList.size(); index++) {\n",
    "    System.out.println(nodeList.get(index));\n",
    "}"
   ]
  },
  {
   "cell_type": "markdown",
   "metadata": {},
   "source": [
    "### 1단계 구현: 초기화\n",
    "- 첫 정점을 기준으로 배열을 선언하여 첫 정점에서 각 정점까지의 거리를 저장\n",
    "   - 초기에는 첫 정점의 거리는 0, 나머지는 무한대로 저장함 (inf 라고 표현함)"
   ]
  },
  {
   "cell_type": "code",
   "execution_count": 13,
   "metadata": {},
   "outputs": [],
   "source": [
    "public class Edge implements Comparable<Edge> {\n",
    "    public int distance;\n",
    "    public String vertex;\n",
    "    \n",
    "    public Edge(int distance, String vertex) {\n",
    "        this.distance = distance;\n",
    "        this.vertex = vertex;\n",
    "    }\n",
    "    \n",
    "    // System.out.println() 으로 객체 자체 출력시, \n",
    "    public String toString() {\n",
    "        return \"vertex: \" + this.vertex + \", distance: \" + this.distance;\n",
    "    }\n",
    "    \n",
    "    @Override\n",
    "    public int compareTo(Edge edge) {\n",
    "        return this.distance - edge.distance;\n",
    "    }\n",
    "}"
   ]
  },
  {
   "cell_type": "code",
   "execution_count": 14,
   "metadata": {},
   "outputs": [],
   "source": [
    "import java.util.PriorityQueue;\n",
    "import java.util.HashMap;\n",
    "\n",
    "public class DijkstraPath {\n",
    "    public HashMap<String, Integer> dijkstraFunc(HashMap<String, ArrayList<Edge>> graph, String start) {\n",
    "        HashMap<String, Integer> distances = new HashMap<String, Integer>();\n",
    "        for (String key : graph.keySet()) {\n",
    "            distances.put(key, Integer.MAX_VALUE);\n",
    "        }\n",
    "        distances.put(start, 0);\n",
    "        \n",
    "        PriorityQueue<Edge> priorityQueue = new PriorityQueue<Edge>();\n",
    "        priorityQueue.add(new Edge(distances.get(start), start));\n",
    "        \n",
    "        // 알고리즘 작성\n",
    "        return distances;\n",
    "    }\n",
    "}"
   ]
  },
  {
   "cell_type": "code",
   "execution_count": 15,
   "metadata": {},
   "outputs": [
    {
     "data": {
      "text/plain": [
       "{A=0, B=2147483647, C=2147483647, D=2147483647, E=2147483647, F=2147483647}"
      ]
     },
     "execution_count": 15,
     "metadata": {},
     "output_type": "execute_result"
    }
   ],
   "source": [
    "DijkstraPath dObject = new DijkstraPath();\n",
    "dObject.dijkstraFunc(graph, \"A\");"
   ]
  },
  {
   "cell_type": "markdown",
   "metadata": {},
   "source": [
    "### 2단계 구현: 다익스트라 알고리즘 (프로젝트: CH28_DIJKSTRA)\n",
    "- while 구문 내에서 모두 작성되므로, 내부 코드를 한번에 작성하기로 함"
   ]
  },
  {
   "cell_type": "code",
   "execution_count": 17,
   "metadata": {},
   "outputs": [],
   "source": [
    "import java.util.PriorityQueue;\n",
    "import java.util.HashMap;\n",
    "import java.util.Arrays;\n",
    "import java.util.ArrayList;\n",
    "\n",
    "public class DijkstraPath {\n",
    "    public HashMap<String, Integer> dijkstraFunc(HashMap<String, ArrayList<Edge>> graph, String start) {\n",
    "        Edge edgeNode, adjacentNode;\n",
    "        ArrayList<Edge> nodeList;\n",
    "        int currentDistance, weight, distance;\n",
    "        String currentNode, adjacent;\n",
    "        HashMap<String, Integer> distances = new HashMap<String, Integer>();\n",
    "        for (String key : graph.keySet()) {\n",
    "            distances.put(key, Integer.MAX_VALUE);\n",
    "        }\n",
    "        distances.put(start, 0);\n",
    "        \n",
    "        PriorityQueue<Edge> priorityQueue = new PriorityQueue<Edge>();\n",
    "        priorityQueue.add(new Edge(distances.get(start), start));\n",
    "        \n",
    "        // 알고리즘 작성\n",
    "        while (priorityQueue.size() > 0) {\n",
    "            edgeNode = priorityQueue.poll();\n",
    "            currentDistance = edgeNode.distance;\n",
    "            currentNode = edgeNode.vertex;\n",
    "            \n",
    "            if (distances.get(currentNode) < currentDistance) {\n",
    "                continue;\n",
    "            }\n",
    "            \n",
    "            nodeList = graph.get(currentNode);\n",
    "            for (int index = 0; index < nodeList.size(); index++) {\n",
    "                adjacentNode = nodeList.get(index);\n",
    "                adjacent = adjacentNode.vertex;\n",
    "                weight = adjacentNode.distance;\n",
    "                distance = currentDistance + weight;\n",
    "                \n",
    "                if (distance < distances.get(adjacent)) {\n",
    "                    distances.put(adjacent, distance);\n",
    "                    priorityQueue.add(new Edge(distance, adjacent));\n",
    "                }\n",
    "            }\n",
    "        }\n",
    "        return distances;\n",
    "    }\n",
    "}"
   ]
  },
  {
   "cell_type": "markdown",
   "metadata": {},
   "source": [
    "### 3단계: 그래프 정의 및 실행"
   ]
  },
  {
   "cell_type": "markdown",
   "metadata": {},
   "source": [
    "<img src=\"https://www.fun-coding.org/00_Images/dijkstra.png\" width=300>"
   ]
  },
  {
   "cell_type": "code",
   "execution_count": 18,
   "metadata": {},
   "outputs": [],
   "source": [
    "HashMap<String, ArrayList<Edge>> graph = new HashMap<String, ArrayList<Edge>>();\n",
    "graph.put(\"A\", new ArrayList<Edge>(Arrays.asList(new Edge(8, \"B\"), new Edge(1, \"C\"), new Edge(2, \"D\"))));\n",
    "graph.put(\"B\", new ArrayList<Edge>());\n",
    "graph.put(\"C\", new ArrayList<Edge>(Arrays.asList(new Edge(5, \"B\"), new Edge(2, \"D\"))));\n",
    "graph.put(\"D\", new ArrayList<Edge>(Arrays.asList(new Edge(3, \"E\"), new Edge(5, \"F\"))));\n",
    "graph.put(\"E\", new ArrayList<Edge>(Arrays.asList(new Edge(1, \"F\"))));\n",
    "graph.put(\"F\", new ArrayList<Edge>(Arrays.asList(new Edge(5, \"A\"))));"
   ]
  },
  {
   "cell_type": "code",
   "execution_count": 19,
   "metadata": {},
   "outputs": [
    {
     "data": {
      "text/plain": [
       "{A=0, B=6, C=1, D=2, E=5, F=6}"
      ]
     },
     "execution_count": 19,
     "metadata": {},
     "output_type": "execute_result"
    }
   ],
   "source": [
    "DijkstraPath dObject = new DijkstraPath();\n",
    "dObject.dijkstraFunc(graph, \"A\");"
   ]
  },
  {
   "cell_type": "markdown",
   "metadata": {},
   "source": [
    "### 6. 시간 복잡도\n",
    "- 위 다익스트라 알고리즘은 크게 다음 두 가지 과정을 거침\n",
    "  - 과정1: 각 노드마다 인접한 간선들을 모두 검사하는 과정\n",
    "  - 과정2: 우선순위 큐에 노드/거리 정보를 넣고 삭제(pop)하는 과정\n",
    "  \n",
    "- 각 과정별 시간 복잡도\n",
    "  - 과정1: 각 노드는 최대 한 번씩 방문하므로 (첫 노드와 해당 노드간의 갈 수 있는 루트가 있는 경우만 해당), 그래프의 모든 간선은 최대 한 번씩 검사\n",
    "    - 즉, 각 노드마다 인접한 간선들을 모두 검사하는 과정은 O(E) 시간이 걸림, E 는 간선(edge)의 약자\n",
    "\n",
    "  - 과정2: 우선순위 큐에 가장 많은 노드, 거리 정보가 들어가는 경우, 우선순위 큐에 노드/거리 정보를 넣고, 삭제하는 과정이 최악의 시간이 걸림\n",
    "    - 우선순위 큐에 가장 많은 노드, 거리 정보가 들어가는 시나리오는 그래프의 모든 간선이 검사될 때마다, 배열의 최단 거리가 갱신되고, 우선순위 큐에 노드/거리가 추가되는 것임\n",
    "    - 이 때 추가는 각 간선마다 최대 한 번 일어날 수 있으므로, 최대 O(E)의 시간이 걸리고, O(E) 개의 노드/거리 정보에 대해 우선순위 큐를 유지하는 작업은 $ O(log{E}) $ 가 걸림\n",
    "      - 따라서 해당 과정의 시간 복잡도는 $ O(Elog{E}) $ \n",
    "    \n",
    "### 총 시간 복잡도\n",
    "  - 과정1 + 과정2 = O(E) + $ O(Elog{E}) $  = $ O(E + Elog{E}) = O(Elog{E}) $\n",
    "  \n",
    "### 참고: 힙의 시간 복잡도\n",
    "- depth (트리의 높이) 를 h라고 표기한다면,\n",
    "- n개의 노드를 가지는 heap 에 데이터 삽입 또는 삭제시, 최악의 경우 root 노드에서 leaf 노드까지 비교해야 하므로  h=log2n  에 가까우므로, 시간 복잡도는  O(logn)"
   ]
  },
  {
   "cell_type": "markdown",
   "metadata": {},
   "source": [
    "<div class=\"alert alert-block\" style=\"border: 1px solid #455A64;background-color:#ECEFF1;padding:5px;font-size:0.9em;\">\n",
    "본 자료와 관련 영상 컨텐츠는 저작권법 제25조 2항에 의해 보호를 받습니다. <br>본 컨텐츠 및 컨텐츠 일부 문구 등을 외부에 공개하거나, 요약해서 게시하지 말아주세요.\n",
    "</div>"
   ]
  }
 ],
 "metadata": {
  "kernelspec": {
   "display_name": "Java",
   "language": "java",
   "name": "java"
  },
  "language_info": {
   "codemirror_mode": "java",
   "file_extension": ".jshell",
   "mimetype": "text/x-java-source",
   "name": "Java",
   "pygments_lexer": "java",
   "version": "15.0.2+7-27"
  }
 },
 "nbformat": 4,
 "nbformat_minor": 4
}
