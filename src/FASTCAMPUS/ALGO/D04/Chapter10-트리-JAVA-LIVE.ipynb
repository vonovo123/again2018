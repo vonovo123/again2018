{
 "cells": [
  {
   "cell_type": "markdown",
   "metadata": {},
   "source": [
    "<div class=\"alert alert-block\" style=\"border: 1px solid #455A64;background-color:#ECEFF1;padding:5px;font-size:0.9em;\">\n",
    "본 자료와 관련 영상 컨텐츠는 저작권법 제25조 2항에 의해 보호를 받습니다. <br>본 컨텐츠 및 컨텐츠 일부 문구 등을 외부에 공개하거나, 요약해서 게시하지 말아주세요.\n",
    "</div>"
   ]
  },
  {
   "cell_type": "markdown",
   "metadata": {},
   "source": [
    "## 대표적인 데이터 구조7: 트리"
   ]
  },
  {
   "cell_type": "markdown",
   "metadata": {},
   "source": [
    "### 1. 트리 (Tree) 구조\n",
    "- 트리: Node와 Branch를 이용해서, 사이클을 이루지 않도록 구성한 데이터 구조\n",
    "- 실제로 어디에 많이 사용되나? \n",
    "  - 트리 중 이진 트리 (Binary Tree) 형태의 구조로, 탐색(검색) 알고리즘 구현을 위해 많이 사용됨"
   ]
  },
  {
   "cell_type": "markdown",
   "metadata": {},
   "source": [
    "### 2. 알아둘 용어\n",
    "- Node: 트리에서 데이터를 저장하는 기본 요소 (데이터와 다른 연결된 노드에 대한 Branch 정보 포함)\n",
    "- Root Node: 트리 맨 위에 있는 노드\n",
    "- Level: 최상위 노드를 Level 0으로 하였을 때, 하위 Branch로 연결된 노드의 깊이를 나타냄\n",
    "- Parent Node: 어떤 노드의 다음 레벨에 연결된 노드\n",
    "- Child Node: 어떤 노드의 상위 레벨에 연결된 노드\n",
    "- Leaf Node (Terminal Node): Child Node가 하나도 없는 노드\n",
    "- Sibling (Brother Node): 동일한 Parent Node를 가진 노드\n",
    "- Depth: 트리에서 Node가 가질 수 있는 최대 Level\n",
    "<img src=\"http://www.fun-coding.org/00_Images/tree.png\" width=\"600\" />\n"
   ]
  },
  {
   "cell_type": "markdown",
   "metadata": {},
   "source": [
    "### 3. 이진 트리와 이진 탐색 트리 (Binary Search Tree)\n",
    "- 이진 트리: 노드의 최대 Branch가 2인 트리\n",
    "- 이진 탐색 트리 (Binary Search Tree, BST): 이진 트리에 다음과 같은 추가적인 조건이 있는 트리\n",
    "  - 왼쪽 노드는 해당 노드보다 작은 값, 오른쪽 노드는 해당 노드보다 큰 값을 가지고 있음!\n",
    "  \n",
    "<img src=\"https://www.mathwarehouse.com/programming/images/binary-search-tree/binary-search-tree-insertion-animation.gif\" />\n",
    "\n",
    "(출처: https://www.mathwarehouse.com/programming/gifs/binary-search-tree.php#binary-search-tree-insertion-node)  "
   ]
  },
  {
   "cell_type": "markdown",
   "metadata": {},
   "source": [
    "### 4. 자료 구조 이진 탐색 트리의 장점과 주요 용도\n",
    "- 주요 용도: 데이터 검색(탐색) \n",
    "- 장점: 탐색 속도를 개선할 수 있음\n",
    "\n",
    "> 단점은 이진 탐색 트리 알고리즘 이해 후에 살펴보기로 함\n",
    "\n",
    "### 이진트리와 정렬된 배열간의 탐색 비교\n",
    "<img src=\"https://www.mathwarehouse.com/programming/images/binary-search-tree/binary-search-tree-sorted-array-animation.gif\" />\n",
    "\n",
    "(출처: https://www.mathwarehouse.com/programming/gifs/binary-search-tree.php#binary-search-tree-insertion-node)"
   ]
  },
  {
   "cell_type": "markdown",
   "metadata": {},
   "source": [
    "### 5. 파이썬 객체지향 프로그래밍으로 링크드 리스트 구현하기"
   ]
  },
  {
   "cell_type": "markdown",
   "metadata": {},
   "source": [
    "### 5.1. 노드 클래스 만들기"
   ]
  },
  {
   "cell_type": "code",
   "execution_count": 1,
   "metadata": {},
   "outputs": [],
   "source": [
    "public class NodeMgmt {\n",
    "    public class Node {\n",
    "        Node left;\n",
    "        Node right;\n",
    "        int value;\n",
    "        public Node (int data) {\n",
    "            this.value = data;\n",
    "            this.left = null;\n",
    "            this.right = null;\n",
    "        }\n",
    "    }\n",
    "}"
   ]
  },
  {
   "cell_type": "markdown",
   "metadata": {},
   "source": [
    "### 5.2. 이진 탐색 트리에 데이터 넣기\n",
    "* 이진 탐색 트리 조건에 부합하게 데이터를 넣어야 함"
   ]
  },
  {
   "cell_type": "code",
   "execution_count": 2,
   "metadata": {},
   "outputs": [],
   "source": [
    "public class NodeMgmt {\n",
    "    Node head = null;\n",
    "    \n",
    "    public class Node {\n",
    "        Node left;\n",
    "        Node right;\n",
    "        int value;\n",
    "        public Node (int data) {\n",
    "            this.value = data;\n",
    "            this.left = null;\n",
    "            this.right = null;\n",
    "        }\n",
    "    }\n",
    "    \n",
    "    public boolean insertNode(int data) {\n",
    "        // CASE1: Node 가 하나도 없을 때\n",
    "        if (this.head == null) {\n",
    "            this.head = new Node(data);\n",
    "        } else {\n",
    "            // CASE2: Node 가 하나 이상 들어가 있을 때\n",
    "            Node findNode = this.head;\n",
    "            while (true) {\n",
    "                // CASE2-1: 현재 Node 의 왼쪽에 Node 가 들어가야할 때\n",
    "                if (data < findNode.value) {\n",
    "                    if (findNode.left != null) {\n",
    "                        findNode = findNode.left;\n",
    "                    } else {\n",
    "                        findNode.left = new Node(data);\n",
    "                        break;\n",
    "                    }\n",
    "                // CASE2-2: 현재 Node 의 오른쪽에 Node 가 들어가야할 때                    \n",
    "                } else {\n",
    "                    if (findNode.right != null) {\n",
    "                        findNode = findNode.right;\n",
    "                    } else {\n",
    "                        findNode.right = new Node(data);\n",
    "                        break;\n",
    "                    }\n",
    "                }\n",
    "            }\n",
    "        }\n",
    "        return true;        \n",
    "    }\n",
    "}"
   ]
  },
  {
   "cell_type": "code",
   "execution_count": 3,
   "metadata": {},
   "outputs": [
    {
     "data": {
      "text/plain": [
       "true"
      ]
     },
     "execution_count": 3,
     "metadata": {},
     "output_type": "execute_result"
    }
   ],
   "source": [
    "NodeMgmt myTree = new NodeMgmt();\n",
    "myTree.insertNode(2);\n",
    "myTree.insertNode(3);\n",
    "myTree.insertNode(4);\n",
    "myTree.insertNode(6);"
   ]
  },
  {
   "cell_type": "markdown",
   "metadata": {
    "collapsed": true
   },
   "source": [
    "### 5.3. 이진 탐색 트리 탐색"
   ]
  },
  {
   "cell_type": "code",
   "execution_count": 7,
   "metadata": {},
   "outputs": [],
   "source": [
    "public class Node {\n",
    "    Node left;\n",
    "    Node right;\n",
    "    int value;\n",
    "    public Node (int data) {\n",
    "        this.value = data;\n",
    "        this.left = null;\n",
    "        this.right = null;\n",
    "    }\n",
    "}\n",
    "\n",
    "public class NodeMgmt {\n",
    "    Node head = null;\n",
    "    \n",
    "    public boolean insertNode(int data) {\n",
    "        // CASE1: Node 가 하나도 없을 때\n",
    "        if (this.head == null) {\n",
    "            this.head = new Node(data);\n",
    "        } else {\n",
    "            // CASE2: Node 가 하나 이상 들어가 있을 때\n",
    "            Node findNode = this.head;\n",
    "            while (true) {\n",
    "                // CASE2-1: 현재 Node 의 왼쪽에 Node 가 들어가야할 때\n",
    "                if (data < findNode.value) {\n",
    "                    if (findNode.left != null) {\n",
    "                        findNode = findNode.left;\n",
    "                    } else {\n",
    "                        findNode.left = new Node(data);\n",
    "                        break;\n",
    "                    }\n",
    "                // CASE2-2: 현재 Node 의 오른쪽에 Node 가 들어가야할 때                    \n",
    "                } else {\n",
    "                    if (findNode.right != null) {\n",
    "                        findNode = findNode.right;\n",
    "                    } else {\n",
    "                        findNode.right = new Node(data);\n",
    "                        break;\n",
    "                    }\n",
    "                }\n",
    "            }\n",
    "        }\n",
    "        return true;        \n",
    "    }\n",
    "    \n",
    "    public Node search(int data) {\n",
    "        // CASE1: Node 가 하나도 없을 때\n",
    "        if (this.head == null) {\n",
    "            return null;\n",
    "        // CASE2: Node 가 하나 이상 있을 때            \n",
    "        } else {\n",
    "            Node findNode = this.head;\n",
    "            while (findNode != null) {\n",
    "                if (findNode.value == data) {\n",
    "                    return findNode;\n",
    "                } else if (data < findNode.value) {\n",
    "                    findNode = findNode.left;\n",
    "                } else {\n",
    "                    findNode = findNode.right;\n",
    "                }\n",
    "            }\n",
    "            return null;\n",
    "        }\n",
    "    }\n",
    "}"
   ]
  },
  {
   "cell_type": "code",
   "execution_count": 8,
   "metadata": {},
   "outputs": [
    {
     "data": {
      "text/plain": [
       "true"
      ]
     },
     "execution_count": 8,
     "metadata": {},
     "output_type": "execute_result"
    }
   ],
   "source": [
    "NodeMgmt myTree = new NodeMgmt();\n",
    "myTree.insertNode(2);\n",
    "myTree.insertNode(3);\n",
    "myTree.insertNode(4);\n",
    "myTree.insertNode(6);"
   ]
  },
  {
   "cell_type": "code",
   "execution_count": 9,
   "metadata": {},
   "outputs": [],
   "source": [
    "Node testNode = myTree.search(3);"
   ]
  },
  {
   "cell_type": "code",
   "execution_count": 11,
   "metadata": {},
   "outputs": [
    {
     "data": {
      "text/plain": [
       "4"
      ]
     },
     "execution_count": 11,
     "metadata": {},
     "output_type": "execute_result"
    }
   ],
   "source": [
    "testNode.right.value"
   ]
  },
  {
   "cell_type": "markdown",
   "metadata": {},
   "source": [
    "### 5.4. 이진 탐색 트리 삭제 \n",
    "<font size=\"3em\" style=\"color:#3f8dbf;background-color:lightyellow\">매우 복잡합니다. <br>복잡한 코드를 경우의 수를 나눠 생각하고, 디버깅 경험을 해본다라는 긍정적인 마음으로 여러차례 해보세요!</font>\n",
    "\n",
    "> 이해를 돕기 위해, 한땀한땀 그림으로 그리고, 케이스를 나누어 설명드립니다."
   ]
  },
  {
   "cell_type": "markdown",
   "metadata": {},
   "source": [
    "#### 5.4.1. Leaf Node 삭제 \n",
    "* Leaf Node: Child Node 가 없는 Node\n",
    "* 삭제할 Node의 Parent Node가 삭제할 Node를 가리키지 않도록 한다. \n",
    "<img src=\"http://www.fun-coding.org/00_Images/tree_remove_leaf.png\" width=\"800\" />\n",
    "\n",
    "#### 5.4.2. Child Node 가 하나인 Node 삭제 \n",
    "* 삭제할 Node의 Parent Node가 삭제할 Node의 Child Node를 가리키도록 한다.\n",
    "<img src=\"http://www.fun-coding.org/00_Images/tree_remove_1child.png\" width=\"800\" />\n",
    "\n",
    "#### 5.4.3. Child Node 가 두 개인 Node 삭제\n",
    "1. **삭제할 Node의 오른쪽 자식 중, 가장 작은 값을 삭제할 Node의 Parent Node가 가리키도록 한다.**\n",
    "2. 삭제할 Node의 왼쪽 자식 중, 가장 큰 값을 삭제할 Node의 Parent Node가 가리키도록 한다.\n",
    "<img src=\"http://www.fun-coding.org/00_Images/tree_remove_2child.png\" width=\"800\" />\n",
    "\n",
    "##### 5.4.3.1. 삭제할 Node의 오른쪽 자식중, 가장 작은 값을 삭제할 Node의 Parent Node가 가리키게 할 경우\n",
    "- 삭제할 Node의 오른쪽 자식 선택\n",
    "- 오른쪽 자식의 가장 왼쪽에 있는 Node를 선택\n",
    "- 해당 Node를 삭제할 Node의 Parent Node의 왼쪽 Branch가 가리키게 함\n",
    "- 해당 Node의 왼쪽 Branch가 삭제할 Node의 왼쪽 Child Node를 가리키게 함\n",
    "- 해당 Node의 오른쪽 Branch가 삭제할 Node의 오른쪽 Child Node를 가리키게 함\n",
    "- 만약 해당 Node가 오른쪽 Child Node를 가지고 있었을 경우에는, 해당 Node의 본래 Parent Node의 왼쪽 Branch가 해당 오른쪽 Child Node를 가리키게 함"
   ]
  },
  {
   "cell_type": "markdown",
   "metadata": {},
   "source": [
    "### 5.5. 이진 탐색 트리 삭제 코드 구현과 분석"
   ]
  },
  {
   "cell_type": "markdown",
   "metadata": {},
   "source": [
    "#### 5.5.1 삭제할 Node 탐색\n",
    "- 삭제할 Node가 없는 경우도 처리해야 함\n",
    "  - 이를 위해 삭제할 Node가 없는 경우는 False를 리턴하고, 함수를 종료 시킴"
   ]
  },
  {
   "cell_type": "code",
   "execution_count": null,
   "metadata": {},
   "outputs": [],
   "source": [
    "    public boolean delete(int value) {\n",
    "        boolean searched = false;\n",
    "        \n",
    "        Node currParentNode = this.head;\n",
    "        Node currNode = this.head;\n",
    "        \n",
    "        // 코너 케이스1: Node 가 하나도 없을 때\n",
    "        if (this.head == null) {\n",
    "            return false;\n",
    "        } else {\n",
    "            // 코너 케이스2: Node 가 단지 하나만 있고, 해당 Node 가 삭제할 Node 일 때\n",
    "            if (this.head.value == value && this.head.left == null && this.head.right == null) {\n",
    "                this.head = null;\n",
    "                return true;\n",
    "            }\n",
    "            \n",
    "            while (currNode != null) {\n",
    "                if (currNode.value == value) {\n",
    "                    searched = true;\n",
    "                    break;\n",
    "                } else if (value < currNode.value) {\n",
    "                    currParentNode = currNode;\n",
    "                    currNode = currNode.left;\n",
    "                } else {\n",
    "                    currParentNode = currNode;\n",
    "                    currNode = currNode.right;                    \n",
    "                }\n",
    "            }\n",
    "            \n",
    "            if (searched == false) {\n",
    "                return false;\n",
    "            }\n",
    "        }\n",
    "\n",
    "        // 여기까지 실행되면,\n",
    "        // currNode 에는 해당 데이터를 가지고 있는 Node,\n",
    "        // currParentNode 에는 해당 데이터를 가지고 있는 Node 의 부모 Node \n",
    "        \n",
    "    }"
   ]
  },
  {
   "cell_type": "markdown",
   "metadata": {},
   "source": [
    "#### 5.5.2. Case1: 삭제할 Node가 Leaf Node인 경우\n",
    "<img src=\"http://www.fun-coding.org/00_Images/tree_remove_leaf_code.png\" width=\"600\" />"
   ]
  },
  {
   "cell_type": "code",
   "execution_count": null,
   "metadata": {},
   "outputs": [],
   "source": [
    "        // Case1: 삭제할 Node 가 Leaf Node 인 경우\n",
    "        if (currNode.left == null && currNode.right == null) {\n",
    "            if (value < currParentNode.value) {\n",
    "                currParentNode.left = null;\n",
    "                currNode = null;\n",
    "            } else {\n",
    "                currParentNode.right = null;\n",
    "                currNode = null;\n",
    "            }\n",
    "            return true;"
   ]
  },
  {
   "cell_type": "markdown",
   "metadata": {},
   "source": [
    "#### 5.5.2. Case2: 삭제할 Node가 Child Node를 한 개 가지고 있을 경우\n",
    "<img src=\"http://www.fun-coding.org/00_Images/tree_remove_1child_code.png\" width=\"400\" />"
   ]
  },
  {
   "cell_type": "code",
   "execution_count": null,
   "metadata": {},
   "outputs": [],
   "source": [
    "        // Case2-1: 삭제할 Node 가 Child Node를 한 개 가지고 있을 경우 (왼쪽에 Child Node 가 있을 경우)\n",
    "        } else if (currNode.left != null && currNode.right == null) {\n",
    "            if (value < currParentNode.value) {\n",
    "                currParentNode.left = currNode.left;\n",
    "                currNode = null;\n",
    "            } else {\n",
    "                currParentNode.right = currNode.left;\n",
    "                currNode = null;\n",
    "            }\n",
    "            return true;\n",
    "        // Case2-2: 삭제할 Node 가 Child Node를 한 개 가지고 있을 경우 (오른쪽에 Child Node 가 있을 경우)\n",
    "        } else if (currNode.left == null && currNode.right != null) {\n",
    "            if (value < currParentNode.value) {\n",
    "                currParentNode.left = currNode.right;\n",
    "                currNode = null;\n",
    "            } else {\n",
    "                currParentNode.right = currNode.right;\n",
    "                currNode = null;\n",
    "            }\n",
    "            return true;"
   ]
  },
  {
   "cell_type": "markdown",
   "metadata": {},
   "source": [
    "#### 5.5.3. Case3-1: 삭제할 Node가 Child Node를 두 개 가지고 있을 경우 (삭제할 Node가 Parent Node 왼쪽에 있을 때)\n",
    "* 기본 사용 가능 전략\n",
    "  1. **삭제할 Node의 오른쪽 자식 중, 가장 작은 값을 삭제할 Node의 Parent Node가 가리키도록 한다.**\n",
    "  2. 삭제할 Node의 왼쪽 자식 중, 가장 큰 값을 삭제할 Node의 Parent Node가 가리키도록 한다.\n",
    "* 기본 사용 가능 전략 중, 1번 전략을 사용하여 코드를 구현하기로 함\n",
    "  - 경우의 수가 또다시 두가지가 있음\n",
    "    - **Case3-1-1:** 삭제할 Node가 Parent Node의 왼쪽에 있고, 삭제할 Node의 오른쪽 자식 중, 가장 작은 값을 가진 Node의 Child Node가 없을 때\n",
    "    - **Case3-1-2:** 삭제할 Node가 Parent Node의 왼쪽에 있고, 삭제할 Node의 오른쪽 자식 중, 가장 작은 값을 가진 Node의 오른쪽에 Child Node가 있을 때\n",
    "       - 가장 작은 값을 가진 Node의 Child Node가 왼쪽에 있을 경우는 없음, 왜냐하면 왼쪽 Node가 있다는 것은 해당 Node보다 더 작은 값을 가진 Node가 있다는 뜻이기 때문임\n",
    "\n",
    "\n",
    "<img src=\"http://www.fun-coding.org/00_Images/tree_remove_2child_code_left.png\" width=\"600\" />"
   ]
  },
  {
   "cell_type": "code",
   "execution_count": null,
   "metadata": {},
   "outputs": [],
   "source": [
    "        // Case3-1: 삭제할 Node 가 Child Node 를 두 개 가지고 있고, (삭제할 Node 가 부모 Node 의 왼쪽에 있을 때)\n",
    "        } else {\n",
    "            \n",
    "            // 삭제할 Node 가 부모 Node 의 왼쪽에 있을 때\n",
    "            if (value < currParentNode.value) {\n",
    "                \n",
    "                Node changeNode = currNode.right;\n",
    "                Node changeParentNode = currNode.right;\n",
    "                while (changeNode.left != null) {\n",
    "                    changeParentNode = changeNode;\n",
    "                    changeNode = changeNode.left;\n",
    "                }\n",
    "                // 여기까지 실행되면, changeNode 에는 삭제할 Node 의 오른쪽 Node 중에서, \n",
    "                // 가장 작은 값을 가진 Node 가 들어있음\n",
    "                \n",
    "                if (changeNode.right != null) {\n",
    "                    // Case 3-1-2: changeNode 의 오른쪽 Child Node 가 있을 때\n",
    "                    changeParentNode.left = changeNode.right;\n",
    "                } else {\n",
    "                    // Case 3-1-1: changeNode 의 Child Node 가 없을 때\n",
    "                    changeParentNode.left = null;\n",
    "                }\n",
    "                \n",
    "                // currParentNode 의 왼쪽 Child Node 에, 삭제할 Node 의 오른쪽 자식중,\n",
    "                // 가장 작은 값을 가진 changeNode 를 연결\n",
    "                currParentNode.left = changeNode;\n",
    "                \n",
    "                // parentNode 의 왼쪽 Child Node 가 현재, changeNode 이고,\n",
    "                // changeNode 의 왼쪽/오른쪽 Child Node 를 모두, 삭제할 currNode 의\n",
    "                // 기존 왼쪽/오른쪽 Node 로 변경\n",
    "                changeNode.right = currNode.right;\n",
    "                changeNode.left = currNode.left;\n",
    "                \n",
    "                currNode = null;"
   ]
  },
  {
   "cell_type": "markdown",
   "metadata": {},
   "source": [
    "#### 5.5.4. Case3-2: 삭제할 Node가 Child Node를 두 개 가지고 있을 경우 (삭제할 Node가 Parent Node 오른쪽에 있을 때)\n",
    "* 기본 사용 가능 전략\n",
    "  1. **삭제할 Node의 오른쪽 자식 중, 가장 작은 값을 삭제할 Node의 Parent Node가 가리키도록 한다.**\n",
    "  2. 삭제할 Node의 왼쪽 자식 중, 가장 큰 값을 삭제할 Node의 Parent Node가 가리키도록 한다.\n",
    "* 기본 사용 가능 전략 중, 1번 전략을 사용하여 코드를 구현하기로 함\n",
    "  - 경우의 수가 또다시 두가지가 있음\n",
    "    - **Case3-2-1:** 삭제할 Node가 Parent Node의 오른쪽에 있고, 삭제할 Node의 오른쪽 자식 중, 가장 작은 값을 가진 Node의 Child Node가 없을 때\n",
    "    - **Case3-2-2:** 삭제할 Node가 Parent Node의 오른쪽에 있고, 삭제할 Node의 오른쪽 자식 중, 가장 작은 값을 가진 Node의 오른쪽에 Child Node가 있을 때\n",
    "       - 가장 작은 값을 가진 Node의 Child Node가 왼쪽에 있을 경우는 없음, 왜냐하면 왼쪽 Node가 있다는 것은 해당 Node보다 더 작은 값을 가진 Node가 있다는 뜻이기 때문임\n",
    "\n",
    "\n",
    "<img src=\"http://www.fun-coding.org/00_Images/tree_remove_2child_code_right.png\" width=\"600\" />"
   ]
  },
  {
   "cell_type": "code",
   "execution_count": null,
   "metadata": {},
   "outputs": [],
   "source": [
    "        // Case3-2: 삭제할 Node 가 Child Node 를 두 개 가지고 있고, (삭제할 Node 가 부모 Node 의 오른쪽에 있을 때)\n",
    "        } else {\n",
    "                Node changeNode = currNode.right;\n",
    "                Node changeParentNode = currNode.right;\n",
    "                while (changeNode.left != null) {\n",
    "                    changeParentNode = changeNode;\n",
    "                    changeNode = changeNode.left;\n",
    "                }\n",
    "                // 여기까지 실행되면, changeNode 에는 삭제할 Node 의 오른쪽 Node 중에서, \n",
    "                // 가장 작은 값을 가진 Node 가 들어있음            \n",
    "            \n",
    "                if (changeNode.right != null) {\n",
    "                    // Case 3-2-2: changeNode 의 오른쪽 Child Node 가 있을 때\n",
    "                    changeParentNode.left = changeNode.right;\n",
    "                } else {\n",
    "                    // Case 3-2-1: changeNode 의 Child Node 가 없을 때\n",
    "                    changeParentNode.left = null;\n",
    "                }\n",
    "\n",
    "                // currParentNode 의 오른쪽 Child Node 에, 삭제할 Node 의 오른쪽 자식중,\n",
    "                // 가장 작은 값을 가진 changeNode 를 연결\n",
    "                currParentNode.right = changeNode;\n",
    "                \n",
    "                // parentNode 의 왼쪽 Child Node 가 현재, changeNode 이고,\n",
    "                // changeNode 의 왼쪽/오른쪽 Child Node 를 모두, 삭제할 currNode 의\n",
    "                // 기존 왼쪽/오른쪽 Node 로 변경\n",
    "                changeNode.right = currNode.right;\n",
    "                changeNode.left = currNode.left;\n",
    "                \n",
    "                currNode = null;            \n",
    "        }\n",
    "        return true;"
   ]
  },
  {
   "cell_type": "markdown",
   "metadata": {},
   "source": [
    "### 5.5.5. 전체 코드 구현 (프로젝트: CH12_TREE)\n",
    "- 위에서 설명한 각 부분을 기반으로 코드 작성\n",
    "> 작게 쪼개서, 작은 구분을 구현할 수 있으면, 이를 모아서 보다 복잡한 기능을 구현할 수 있습니다. 좋은 개발자일수록 문제를 나눠서 정복합니다.!\n",
    "\n",
    "<font size=\"3em\" style=\"color:#3f8dbf;background-color:lightyellow\">코드 디버깅을 위해, 소개드린 IntelliJ IDEA 등의 에디터로 테스트하는 모습을 보여드림 (Node.java 와 NodeMgmt.java 파일 작성)</font>"
   ]
  },
  {
   "cell_type": "code",
   "execution_count": 47,
   "metadata": {},
   "outputs": [],
   "source": [
    "// 테스트를 위해, inner class 인 Node 클래스를 별도의 클래스로 선언함\n",
    "public class Node{\n",
    "    Node left;\n",
    "    Node right;\n",
    "    int value;\n",
    "    Node(int data) {\n",
    "        this.value = data;\n",
    "        this.left = null;\n",
    "        this.right = null;\n",
    "    }\n",
    "}\n",
    "\n",
    "public class NodeMgmt {\n",
    "    Node head = null;\n",
    "\n",
    "    public boolean insertNode(int data) {\n",
    "\n",
    "        // CASE1: Node 가 하나도 없을 때\n",
    "        if (this.head == null) {\n",
    "            this.head = new Node(data);\n",
    "        } else {\n",
    "            // CASE2: Node 가 하나라도 들어가 있을 때\n",
    "            Node findNode = this.head;\n",
    "            while (true) {\n",
    "\n",
    "                // CASE2-1: 현재 Node 의 왼쪽에 data 가 들어가야 할 때\n",
    "                if (data < findNode.value) {\n",
    "                    if (findNode.left != null) {\n",
    "                        findNode = findNode.left;\n",
    "                    } else {\n",
    "                        findNode.left = new Node(data);\n",
    "                        break;\n",
    "                    }\n",
    "\n",
    "                    // CASE2-2: 현재 Node 의 오른쪽에 data 가 들어가야 할 때\n",
    "                } else {\n",
    "                    if (findNode.right != null) {\n",
    "                        findNode = findNode.right;\n",
    "                    } else {\n",
    "                        findNode.right = new Node(data);\n",
    "                        break;\n",
    "                    }\n",
    "                }\n",
    "            }\n",
    "        }\n",
    "        return true;\n",
    "    }\n",
    "\n",
    "    public Node search(int data) {\n",
    "        // CASE1: Node 가 하나도 없을 때\n",
    "        if (head == null) {\n",
    "            return null;\n",
    "        } else {\n",
    "            // CASE2: Node 가 하나라도 들어가 있을 때\n",
    "            Node findNode = this.head;\n",
    "            while (findNode != null) {\n",
    "                if (findNode.value == data) {\n",
    "                    return findNode;\n",
    "                } else if (data < findNode.value) {\n",
    "                    findNode = findNode.left;\n",
    "                } else {\n",
    "                    findNode = findNode.right;\n",
    "                }\n",
    "            }\n",
    "            return null;\n",
    "        }\n",
    "    }\n",
    "\n",
    "    public boolean delete(int value) {\n",
    "        boolean searched = false;\n",
    "        // Node 가 하나라도 들어가 있을 때\n",
    "        Node currParentNode = this.head;\n",
    "        Node currNode = this.head;\n",
    "\n",
    "        // 코너 케이스1: Node 가 하나도 없을 때\n",
    "        if (this.head == null) {\n",
    "            return false;\n",
    "        } else {\n",
    "            // 코너 케이스2: (Node 가 단지 하나이고, 해당 Node 삭제 시)\n",
    "            if (this.head.value == value && this.head.left == null && this.head.right == null) {\n",
    "                this.head = null;\n",
    "                return true;\n",
    "            }\n",
    "\n",
    "            while (currNode != null) {\n",
    "                if (currNode.value == value) {\n",
    "                    searched = true;\n",
    "                    break;\n",
    "                } else if (value < currNode.value) {\n",
    "                    currParentNode = currNode;\n",
    "                    currNode = currNode.left;\n",
    "                } else {\n",
    "                    currParentNode = currNode;\n",
    "                    currNode = currNode.right;\n",
    "                }\n",
    "            }\n",
    "\n",
    "            if (searched == false) {\n",
    "                return false;\n",
    "            }\n",
    "        }\n",
    "\n",
    "        // Case1: 삭제할 Node가 Leaf Node인 경우\n",
    "        if (currNode.left == null && currNode.right == null) {\n",
    "            if (value < currParentNode.value) {\n",
    "                currParentNode.left = null;\n",
    "                currNode = null; // 해당 객체 삭제를 위해, 강제로 null 로 만들어줌\n",
    "            } else {\n",
    "                currParentNode.right = null;\n",
    "                currNode = null; // 해당 객체 삭제를 위해, 강제로 null 로 만들어줌\n",
    "            }\n",
    "            return true;\n",
    "            // Case2: 삭제할 Node가 Child Node를 한 개 가지고 있을 경우 (왼쪽)\n",
    "        } else if (currNode.left != null && currNode.right == null) {\n",
    "            if (value < currParentNode.value) {\n",
    "                currParentNode.left = currNode.left;\n",
    "                currNode = null;\n",
    "            } else {\n",
    "                currParentNode.right = currNode.left;\n",
    "                currNode = null;\n",
    "            }\n",
    "            return true;\n",
    "            // Case2: 삭제할 Node가 Child Node를 한 개 가지고 있을 경우 (오쪽)\n",
    "        } else if (currNode.left == null && currNode.right != null) {\n",
    "            if (value < currParentNode.value) {\n",
    "                currParentNode.left = currNode.right;\n",
    "                currNode = null;\n",
    "            } else {\n",
    "                currParentNode.right = currNode.right;\n",
    "                currNode = null;\n",
    "            }\n",
    "            return true;\n",
    "            // Case3-1: 삭제할 Node가 Child Node를 두 개 가지고 있을 경우\n",
    "            // 상위 코드 조건에 부합하지 않는 경우는 결국 (currNode.left != null && currNode.right != null) 이므로\n",
    "            // 별도로 else if 로 하기 보다, else 로 작\n",
    "        } else {\n",
    "\n",
    "            // 삭제할 Node가 Parent Node 왼쪽에 있을 때\n",
    "            if (value < currParentNode.value) {\n",
    "\n",
    "                // 삭제할 Node의 오른쪽 자식 중, 가장 작은 값을 가진 Node 찾기\n",
    "                Node changeNode = currNode.right;\n",
    "                Node changeParentNode = currNode.right;\n",
    "                while (currNode.left != null) {\n",
    "                    changeParentNode = currNode;\n",
    "                    changeNode = currNode.left;\n",
    "                }\n",
    "                // 여기까지 실행되면, changeNode 에는 삭제할 Node 의 오른쪽 자식 중, 가장 작은 값을 가진 Node 가 들어있음\n",
    "\n",
    "                if (changeNode.right != null) {\n",
    "                    // Case3-1-2: 삭제할 Node의 오른쪽 자식 중, 가장 작은 값을 가진 Node의 오른쪽에 Child Node가 있을 때\n",
    "                    changeParentNode.left = changeNode.right;\n",
    "                } else {\n",
    "                    // Case3-1-1: 삭제할 Node의 오른쪽 자식 중, 가장 작은 값을 가진 Node의 오른쪽에 Child Node가 없을 때\n",
    "                    changeParentNode.left = null;\n",
    "                }\n",
    "                // parent Node 의 왼쪽 Child Node 에 삭제할 Node의 오른쪽 자식 중, 가장 작은 값을 가진 changeNode 를 연결\n",
    "                currParentNode.left = changeNode;\n",
    "                // parent Node 왼쪽 Child Node 인 changeNode 의 왼쪽/오른쪽 Child Node 를\n",
    "                // 모두 삭제할 currNode 의 기존 왼쪽/오른쪽 Node 로 변경\n",
    "                changeNode.right = currNode.right;\n",
    "                changeNode.left = currNode.left;\n",
    "\n",
    "                // 삭제할 Node 삭제!\n",
    "                currNode = null;\n",
    "                // 삭제할 Node가 Parent Node 오른쪽에 있을 때\n",
    "            } else {\n",
    "                // 삭제할 Node의 오른쪽 자식 중, 가장 작은 값을 가진 Node 찾기\n",
    "                Node changeNode = currNode.right;\n",
    "                Node changeParentNode = currNode.right;\n",
    "                while (changeNode.left != null) {\n",
    "                    changeParentNode = changeNode;\n",
    "                    changeNode = changeNode.left;\n",
    "                }\n",
    "\n",
    "                if (changeNode.right != null) {\n",
    "                    // Case3-2-2: 삭제할 Node의 오른쪽 자식 중, 가장 작은 값을 가진 Node의 오른쪽에 Child Node가 있을 때\n",
    "                    changeParentNode.left = changeNode.right;\n",
    "                } else {\n",
    "                    // Case3-2-1: 삭제할 Node의 오른쪽 자식 중, 가장 작은 값을 가진 Node의 오른쪽에 Child Node가 없을 때\n",
    "                    changeParentNode.left = null;\n",
    "                }\n",
    "\n",
    "                // parent Node 의 오른쪽 Child Node 에 삭제할 Node의 오른쪽 자식 중, 가장 작은 값을 가진 changeNode 를 연결\n",
    "                currParentNode.right = changeNode;\n",
    "\n",
    "                // parent Node 왼쪽 Child Node 인 changeNode 의 왼쪽/오른쪽 Child Node 를\n",
    "                // 모두 삭제할 currNode 의 기존 왼쪽/오른쪽 Node 로 변경\n",
    "\n",
    "                // 2021.11.09 업데이트 (참고: 코너 케이스)\n",
    "                // currNode.right 가 changeNode 일 경우, changeNode 가 currNode 자리로 올라가면서,\n",
    "                // 오른쪽에 다시 자신의 객체를 가리키는 상황이 될 수 있습니다.\n",
    "                // 이 경우 의도치 않게, 삭제할 객체를 다시 연결하는 상황이 될 수 있습니다.\n",
    "                // 특별한 코너 케이스이므로, 참고로만 코드를 업데이트를 드리며,\n",
    "                // 우선은 트리의 핵심 알고리즘 이해에 보다 초점을 맞추시는 것을 추천드립니다.\n",
    "                if (currNode.right != changeNode) {\n",
    "                    changeNode.right = currNode.right;\n",
    "                }\n",
    "                changeNode.left = currNode.left;\n",
    "                // 삭제할 Node 삭제!\n",
    "                currNode = null;\n",
    "            }\n",
    "            return true;\n",
    "        }\n",
    "    }\n",
    "\n",
    "    public static void main(String[] args) {\n",
    "        // Case3-1: 삭제할 Node가 Child Node를 두 개 가지고 있을 경우\n",
    "        NodeMgmt myTree = new NodeMgmt();\n",
    "        myTree.insertNode(10);\n",
    "        myTree.insertNode(15);\n",
    "        myTree.insertNode(13);\n",
    "        myTree.insertNode(11);\n",
    "        myTree.insertNode(14);\n",
    "        myTree.insertNode(18);\n",
    "        myTree.insertNode(16);\n",
    "        myTree.insertNode(19);\n",
    "        myTree.insertNode(17);\n",
    "        myTree.insertNode(7);\n",
    "        myTree.insertNode(8);\n",
    "        myTree.insertNode(6);\n",
    "        System.out.println(myTree.delete(15));\n",
    "        System.out.println(\"HEAD: \" + myTree.head.value);\n",
    "        System.out.println(\"HEAD LEFT: \" + myTree.head.left.value);\n",
    "        System.out.println(\"HEAD LEFT LEFT: \" + myTree.head.left.left.value);\n",
    "        System.out.println(\"HEAD LEFT RIGHT: \" + myTree.head.left.right.value);\n",
    "\n",
    "        System.out.println(\"HEAD RIGHT: \" + myTree.head.right.value);\n",
    "        System.out.println(\"HEAD RIGHT LEFT: \" + myTree.head.right.left.value);\n",
    "        System.out.println(\"HEAD RIGHT RIGHT: \" + myTree.head.right.right.value);\n",
    "\n",
    "        System.out.println(\"HEAD RIGHT RIGHT LEFT: \" + myTree.head.right.right.left.value);\n",
    "        System.out.println(\"HEAD RIGHT RIGHT RIGHT: \" + myTree.head.right.right.right.value);\n",
    "    }\n",
    "}"
   ]
  },
  {
   "cell_type": "markdown",
   "metadata": {},
   "source": [
    "### 아예 그림대로 넣어보고 테스트해보기\n",
    "<img src=\"http://www.fun-coding.org/00_Images/tree_remove_2child_code_right.png\" width=\"600\" />"
   ]
  },
  {
   "cell_type": "code",
   "execution_count": 48,
   "metadata": {},
   "outputs": [
    {
     "name": "stdout",
     "output_type": "stream",
     "text": [
      "true\n",
      "HEAD: 10\n",
      "HEAD LEFT: 7\n",
      "HEAD LEFT LEFT: 6\n",
      "HEAD LEFT RIGHT: 8\n",
      "HEAD RIGHT: 16\n",
      "HEAD RIGHT LEFT: 13\n",
      "HEAD RIGHT RIGHT: 18\n",
      "HEAD RIGHT RIGHT LEFT: 17\n",
      "HEAD RIGHT RIGHT RIGHT: 19\n"
     ]
    }
   ],
   "source": [
    "NodeMgmt.main(new String[0]);"
   ]
  },
  {
   "cell_type": "markdown",
   "metadata": {},
   "source": [
    "### 6. 이진 탐색 트리의 시간 복잡도와 단점\n",
    "#### 6.1. 시간 복잡도 (탐색시)\n",
    "  - depth (트리의 높이) 를 h라고 표기한다면, O(h)\n",
    "  - n개의 노드를 가진다면, $h = log_2{n} $ 에 가까우므로, 시간 복잡도는 $ O(log{n}) $ \n",
    "     - 참고: 빅오 표기법에서 $log{n}$ 에서의 log의 밑은 10이 아니라, 2입니다.\n",
    "       - 한번 실행시마다, 50%의 실행할 수도 있는 명령을 제거한다는 의미. 즉 50%의 실행시간을 단축시킬 수 있다는 것을 의미함\n",
    "<img src=\"https://www.mathwarehouse.com/programming/images/binary-search-tree/binary-search-tree-sorted-array-animation.gif\" />\n",
    "\n",
    "(출처: https://www.mathwarehouse.com/programming/gifs/binary-search-tree.php#binary-search-tree-insertion-node)"
   ]
  },
  {
   "cell_type": "markdown",
   "metadata": {},
   "source": [
    "#### 6.2. 이진 탐색 트리 단점\n",
    "  - 평균 시간 복잡도는 $ O(log{n}) $ 이지만, \n",
    "    - 이는 트리가 균형잡혀 있을 때의 평균 시간복잡도이며,\n",
    "  - 다음 예와 같이 구성되어 있을 경우, 최악의 경우는 링크드 리스트등과 동일한 성능을 보여줌 ( $O(n)$ )\n",
    "<img src=\"http://www.fun-coding.org/00_Images/worstcase_bst.png\" width=\"300\" />"
   ]
  },
  {
   "cell_type": "markdown",
   "metadata": {},
   "source": [
    "<div class=\"alert alert-block\" style=\"border: 1px solid #455A64;background-color:#ECEFF1;padding:5px;font-size:0.9em;\">\n",
    "본 자료와 관련 영상 컨텐츠는 저작권법 제25조 2항에 의해 보호를 받습니다. <br>본 컨텐츠 및 컨텐츠 일부 문구 등을 외부에 공개하거나, 요약해서 게시하지 말아주세요.\n",
    "</div>"
   ]
  }
 ],
 "metadata": {
  "kernelspec": {
   "display_name": "Java",
   "language": "java",
   "name": "java"
  },
  "language_info": {
   "codemirror_mode": "java",
   "file_extension": ".jshell",
   "mimetype": "text/x-java-source",
   "name": "Java",
   "pygments_lexer": "java",
   "version": "15.0.2+7-27"
  }
 },
 "nbformat": 4,
 "nbformat_minor": 4
}
