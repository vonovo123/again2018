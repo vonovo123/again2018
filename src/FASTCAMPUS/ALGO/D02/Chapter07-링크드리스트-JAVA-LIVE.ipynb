{
 "cells": [
  {
   "cell_type": "markdown",
   "metadata": {},
   "source": [
    "<div class=\"alert alert-block\" style=\"border: 1px solid #455A64;background-color:#ECEFF1;padding:5px;font-size:0.9em;\">\n",
    "본 자료와 관련 영상 컨텐츠는 저작권법 제25조 2항에 의해 보호를 받습니다. <br>본 컨텐츠 및 컨텐츠 일부 문구 등을 외부에 공개하거나, 요약해서 게시하지 말아주세요.\n",
    "</div>"
   ]
  },
  {
   "cell_type": "markdown",
   "metadata": {},
   "source": [
    "## 대표적인 데이터 구조: 링크드 리스트 (Linked List)"
   ]
  },
  {
   "cell_type": "markdown",
   "metadata": {},
   "source": [
    "### 1. 링크드 리스트 (Linked List) 구조\n",
    "* 연결 리스트라고도 함\n",
    "* 배열은 순차적으로 연결된 공간에 데이터를 나열하는 데이터 구조\n",
    "* 링크드 리스트는 떨어진 곳에 존재하는 데이터를 화살표로 연결해서 관리하는 데이터 구조"
   ]
  },
  {
   "cell_type": "markdown",
   "metadata": {},
   "source": [
    "* 링크드 리스트 기본 구조와 용어\n",
    "  - 노드(Node): 데이터 저장 단위 (데이터값, 포인터) 로 구성\n",
    "  - 포인터(pointer): 각 노드 안에서, 다음이나 이전의 노드와의 연결 정보를 가지고 있는 공간\n",
    "\n",
    "<br>\n",
    "* 일반적인 링크드 리스트 형태\n",
    "<img src=\"https://www.fun-coding.org/00_Images/linkedlist.png\" />\n",
    "(출처: wikipedia, https://en.wikipedia.org/wiki/Linked_list)"
   ]
  },
  {
   "cell_type": "markdown",
   "metadata": {},
   "source": [
    "### 2. 간단한 링크드 리스트 예\n",
    "- 최대한 간단한 형태로 코드로 작성해보며 링크드 리스트를 이해해보기"
   ]
  },
  {
   "cell_type": "markdown",
   "metadata": {},
   "source": [
    "##### 2.1. Node 클래스 구현"
   ]
  },
  {
   "cell_type": "code",
   "execution_count": 1,
   "metadata": {},
   "outputs": [],
   "source": [
    "public class Node<T> {\n",
    "    T data;\n",
    "    Node<T> next = null;\n",
    "    \n",
    "    public Node(T data) {\n",
    "        this.data = data;\n",
    "    }\n",
    "}"
   ]
  },
  {
   "cell_type": "markdown",
   "metadata": {},
   "source": [
    "##### 2.2. Node와 Node 연결하기 : Node 인스턴스간 연결"
   ]
  },
  {
   "cell_type": "code",
   "execution_count": 2,
   "metadata": {},
   "outputs": [],
   "source": [
    "Node<Integer> node1 = new Node<Integer>(1);\n",
    "Node<Integer> node2 = new Node<Integer>(2);"
   ]
  },
  {
   "cell_type": "code",
   "execution_count": 3,
   "metadata": {},
   "outputs": [],
   "source": [
    "node1.next = node2;\n",
    "Node<Integer> head = node1; // 정확히는 Node<Integer> 가 더 맞기 때문에 변경함"
   ]
  },
  {
   "cell_type": "markdown",
   "metadata": {},
   "source": [
    "##### 2.3. 링크드 리스트에 데이터 추가하기"
   ]
  },
  {
   "cell_type": "code",
   "execution_count": 7,
   "metadata": {},
   "outputs": [],
   "source": [
    "public class SingleLinkedList<T> {\n",
    "    public Node<T> head = null;\n",
    "    \n",
    "    public class Node<T> {\n",
    "        T data;\n",
    "        Node<T> next = null;\n",
    "        \n",
    "        public Node(T data) {\n",
    "            this.data = data;\n",
    "        }\n",
    "    }\n",
    "    \n",
    "    public void addNode(T data) {\n",
    "        if (head == null) {\n",
    "            head = new Node<T>(data);\n",
    "        } else {\n",
    "            Node<T> node = this.head;\n",
    "            while (node.next != null) {\n",
    "                node = node.next;\n",
    "            }\n",
    "            node.next = new Node<T>(data);\n",
    "        }\n",
    "    }\n",
    "}"
   ]
  },
  {
   "cell_type": "code",
   "execution_count": 8,
   "metadata": {},
   "outputs": [],
   "source": [
    "SingleLinkedList<Integer> MyLinkedList = new SingleLinkedList<Integer>();\n",
    "MyLinkedList.addNode(1);"
   ]
  },
  {
   "cell_type": "code",
   "execution_count": 9,
   "metadata": {},
   "outputs": [
    {
     "data": {
      "text/plain": [
       "1"
      ]
     },
     "execution_count": 9,
     "metadata": {},
     "output_type": "execute_result"
    }
   ],
   "source": [
    "MyLinkedList.head.data"
   ]
  },
  {
   "cell_type": "code",
   "execution_count": 11,
   "metadata": {},
   "outputs": [],
   "source": [
    "MyLinkedList.addNode(2);"
   ]
  },
  {
   "cell_type": "code",
   "execution_count": 14,
   "metadata": {},
   "outputs": [
    {
     "data": {
      "text/plain": [
       "2"
      ]
     },
     "execution_count": 14,
     "metadata": {},
     "output_type": "execute_result"
    }
   ],
   "source": [
    "MyLinkedList.head.next.data"
   ]
  },
  {
   "cell_type": "markdown",
   "metadata": {},
   "source": [
    "##### 2.4. 링크드 리스트 데이터 출력하기"
   ]
  },
  {
   "cell_type": "code",
   "execution_count": 15,
   "metadata": {},
   "outputs": [],
   "source": [
    "public class SingleLinkedList<T> {\n",
    "    public Node<T> head = null;\n",
    "    \n",
    "    public class Node<T> {\n",
    "        T data;\n",
    "        Node<T> next = null;\n",
    "        \n",
    "        public Node(T data) {\n",
    "            this.data = data;\n",
    "        }\n",
    "    }\n",
    "    \n",
    "    public void addNode(T data) {\n",
    "        if (head == null) {\n",
    "            head = new Node<T>(data);\n",
    "        } else {\n",
    "            Node<T> node = this.head;\n",
    "            while (node.next != null) {\n",
    "                node = node.next;\n",
    "            }\n",
    "            node.next = new Node<T>(data);\n",
    "        }\n",
    "    }\n",
    "    \n",
    "    public void printAll() {\n",
    "        if (head != null) {\n",
    "            Node<T> node = this.head;\n",
    "            System.out.println(node.data);\n",
    "            while (node.next != null) {\n",
    "                node = node.next;\n",
    "                System.out.println(node.data);\n",
    "            }\n",
    "        }\n",
    "    }\n",
    "}"
   ]
  },
  {
   "cell_type": "code",
   "execution_count": 16,
   "metadata": {},
   "outputs": [
    {
     "name": "stdout",
     "output_type": "stream",
     "text": [
      "1\n",
      "2\n",
      "3\n"
     ]
    }
   ],
   "source": [
    "SingleLinkedList<Integer> MyLinkedList = new SingleLinkedList<Integer>();\n",
    "MyLinkedList.addNode(1);\n",
    "MyLinkedList.addNode(2);\n",
    "MyLinkedList.addNode(3);\n",
    "\n",
    "MyLinkedList.printAll();"
   ]
  },
  {
   "cell_type": "markdown",
   "metadata": {},
   "source": [
    "### 3. 링크드 리스트의 장단점 (전통적인 C언어에서의 배열과 링크드 리스트)\n",
    "* 장점\n",
    "  - 미리 데이터 공간을 미리 할당하지 않아도 됨\n",
    "    - 배열은 **미리 데이터 공간을 할당** 해야 함\n",
    "* 단점\n",
    "  - 연결을 위한 별도 데이터 공간이 필요하므로, 저장공간 효율이 높지 않음\n",
    "  - 연결 정보를 찾는 시간이 필요하므로 접근 속도가 느림\n",
    "  - 중간 데이터 삭제시, 앞뒤 데이터의 연결을 재구성해야 하는 부가적인 작업 필요"
   ]
  },
  {
   "cell_type": "markdown",
   "metadata": {},
   "source": [
    "### 4. 링크드 리스트의 복잡한 기능1 (링크드 리스트 데이터 사이에 데이터를 추가)\n",
    "- 링크드 리스트는 유지 관리에 부가적인 구현이 필요함\n",
    "\n",
    "<img src=\"https://www.fun-coding.org/00_Images/linkedlistadd.png\" />\n",
    "(출처: wikipedia, https://en.wikipedia.org/wiki/Linked_list)"
   ]
  },
  {
   "cell_type": "code",
   "execution_count": 4,
   "metadata": {},
   "outputs": [],
   "source": [
    "public class SingleLinkedList<T> {\n",
    "    public Node<T> head = null;\n",
    "    \n",
    "    public class Node<T> {\n",
    "        T data;\n",
    "        Node<T> next = null;\n",
    "        \n",
    "        public Node(T data) {\n",
    "            this.data = data;\n",
    "        }\n",
    "    }\n",
    "    \n",
    "    public void addNode(T data) {\n",
    "        if (head == null) {\n",
    "            head = new Node<T>(data);\n",
    "        } else {\n",
    "            Node<T> node = this.head;\n",
    "            while (node.next != null) {\n",
    "                node = node.next;\n",
    "            }\n",
    "            node.next = new Node<T>(data);\n",
    "        }\n",
    "    }\n",
    "    \n",
    "    public void printAll() {\n",
    "        if (head != null) {\n",
    "            Node<T> node = this.head;\n",
    "            System.out.println(node.data);\n",
    "            while (node.next != null) {\n",
    "                node = node.next;\n",
    "                System.out.println(node.data);\n",
    "            }\n",
    "        }\n",
    "    }\n",
    "    \n",
    "    public Node<T> search(T data) {\n",
    "        if (this.head == null) {\n",
    "            return null;\n",
    "        } else {\n",
    "            Node<T> node = this.head;\n",
    "            while(node != null) {\n",
    "                if (node.data == data) {\n",
    "                    return node;\n",
    "                } else {\n",
    "                    node = node.next;\n",
    "                }\n",
    "            }\n",
    "            return null;\n",
    "        }\n",
    "    }\n",
    "    \n",
    "    public void addNodeInside(T data, T isData) {\n",
    "        Node<T> searchedNode = this.search(isData);\n",
    "        \n",
    "        if (searchedNode == null) {\n",
    "            this.addNode(data);\n",
    "        } else {\n",
    "            Node<T> nextNode = searchedNode.next;\n",
    "            searchedNode.next = new Node<T>(data);\n",
    "            searchedNode.next.next = nextNode;\n",
    "        }\n",
    "    }\n",
    "}"
   ]
  },
  {
   "cell_type": "markdown",
   "metadata": {},
   "source": [
    "- 링크드리스트 생성하고, 1, 2, 3 데이터 넣기"
   ]
  },
  {
   "cell_type": "code",
   "execution_count": 7,
   "metadata": {},
   "outputs": [
    {
     "name": "stdout",
     "output_type": "stream",
     "text": [
      "1\n",
      "2\n",
      "3\n"
     ]
    }
   ],
   "source": []
  },
  {
   "cell_type": "markdown",
   "metadata": {},
   "source": [
    "- 1 데이터 뒤에 5 넣어보기"
   ]
  },
  {
   "cell_type": "code",
   "execution_count": 8,
   "metadata": {},
   "outputs": [
    {
     "name": "stdout",
     "output_type": "stream",
     "text": [
      "1\n",
      "5\n",
      "2\n",
      "3\n"
     ]
    }
   ],
   "source": [
    "MyLinkedList.addNodeInside(5, 1);\n",
    "MyLinkedList.printAll();"
   ]
  },
  {
   "cell_type": "markdown",
   "metadata": {},
   "source": [
    "- 3 데이터 뒤에 6 넣어보기"
   ]
  },
  {
   "cell_type": "code",
   "execution_count": 9,
   "metadata": {},
   "outputs": [
    {
     "name": "stdout",
     "output_type": "stream",
     "text": [
      "1\n",
      "5\n",
      "2\n",
      "3\n",
      "6\n"
     ]
    }
   ],
   "source": [
    "MyLinkedList.addNodeInside(6, 3);\n",
    "MyLinkedList.printAll();"
   ]
  },
  {
   "cell_type": "markdown",
   "metadata": {},
   "source": [
    "- 없는 데이터를 찾도록 해서, 맨 마지막에 데이터 넣기"
   ]
  },
  {
   "cell_type": "code",
   "execution_count": 10,
   "metadata": {},
   "outputs": [
    {
     "name": "stdout",
     "output_type": "stream",
     "text": [
      "1\n",
      "5\n",
      "2\n",
      "3\n",
      "6\n",
      "7\n"
     ]
    }
   ],
   "source": [
    "MyLinkedList.addNodeInside(7, 20);\n",
    "MyLinkedList.printAll();"
   ]
  },
  {
   "cell_type": "markdown",
   "metadata": {},
   "source": [
    "### 5. 링크드 리스트의 복잡한 기능2 (특정 노드를 삭제)\n",
    "* 다음 코드는 위의 코드에서 delete 메서드만 추가한 것이므로 해당 메서드만 확인하면 됨"
   ]
  },
  {
   "cell_type": "code",
   "execution_count": 11,
   "metadata": {},
   "outputs": [],
   "source": [
    "public class SingleLinkedList<T> {\n",
    "    public Node<T> head = null;\n",
    "    \n",
    "    public class Node<T> {\n",
    "        T data;\n",
    "        Node<T> next = null;\n",
    "        \n",
    "        public Node(T data) {\n",
    "            this.data = data;\n",
    "        }\n",
    "    }\n",
    "    \n",
    "    public void addNode(T data) {\n",
    "        if (head == null) {\n",
    "            head = new Node<T>(data);\n",
    "        } else {\n",
    "            Node<T> node = this.head;\n",
    "            while (node.next != null) {\n",
    "                node = node.next;\n",
    "            }\n",
    "            node.next = new Node<T>(data);\n",
    "        }\n",
    "    }\n",
    "    \n",
    "    public void printAll() {\n",
    "        if (head != null) {\n",
    "            Node<T> node = this.head;\n",
    "            System.out.println(node.data);\n",
    "            while (node.next != null) {\n",
    "                node = node.next;\n",
    "                System.out.println(node.data);\n",
    "            }\n",
    "        }\n",
    "    }\n",
    "    \n",
    "    public Node<T> search(T data) {\n",
    "        if (this.head == null) {\n",
    "            return null;\n",
    "        } else {\n",
    "            Node<T> node = this.head;\n",
    "            while (node != null) { \n",
    "                if (node.data == data) {\n",
    "                    return node;\n",
    "                } else {\n",
    "                    node = node.next;\n",
    "                }\n",
    "            }\n",
    "            return null;\n",
    "        }\n",
    "    }\n",
    "    \n",
    "    public void addNodeInside(T data, T isData) {\n",
    "        Node<T> searchedNode = this.search(isData);\n",
    "        \n",
    "        if (searchedNode == null) {\n",
    "            this.addNode(data);\n",
    "        } else {\n",
    "            Node<T> nextNode = searchedNode.next;\n",
    "            searchedNode.next = new Node<T>(data);\n",
    "            searchedNode.next.next = nextNode;\n",
    "        }\n",
    "    }\n",
    "    \n",
    "    public boolean delNode(T isData) {\n",
    "        if (this.head == null) {\n",
    "            return false;\n",
    "        } else {\n",
    "            Node<T> node = this.head;\n",
    "            if (node.data == isData) {\n",
    "                this.head = this.head.next;\n",
    "                return true;\n",
    "            } else {\n",
    "                while (node.next != null) {\n",
    "                    if (node.next.data == isData) {\n",
    "                        node.next = node.next.next;\n",
    "                        return true;\n",
    "                    }\n",
    "                    node = node.next;\n",
    "                }\n",
    "                return false;\n",
    "            }\n",
    "        }\n",
    "    }\n",
    "}"
   ]
  },
  {
   "cell_type": "markdown",
   "metadata": {},
   "source": [
    "##### 테스트1: 5개의 노드 생성"
   ]
  },
  {
   "cell_type": "code",
   "execution_count": 12,
   "metadata": {},
   "outputs": [
    {
     "name": "stdout",
     "output_type": "stream",
     "text": [
      "1\n",
      "2\n",
      "3\n",
      "4\n",
      "5\n"
     ]
    }
   ],
   "source": [
    "SingleLinkedList<Integer> MyLinkedList = new SingleLinkedList<Integer>();\n",
    "\n",
    "MyLinkedList.addNode(1);\n",
    "MyLinkedList.addNode(2);\n",
    "MyLinkedList.addNode(3);\n",
    "MyLinkedList.addNode(4);\n",
    "MyLinkedList.addNode(5);\n",
    "\n",
    "MyLinkedList.printAll();"
   ]
  },
  {
   "cell_type": "markdown",
   "metadata": {},
   "source": [
    "##### 테스트2: 중간 노드 삭제"
   ]
  },
  {
   "cell_type": "code",
   "execution_count": 13,
   "metadata": {},
   "outputs": [
    {
     "name": "stdout",
     "output_type": "stream",
     "text": [
      "1\n",
      "2\n",
      "4\n",
      "5\n"
     ]
    }
   ],
   "source": [
    "MyLinkedList.delNode(3);\n",
    "MyLinkedList.printAll();"
   ]
  },
  {
   "cell_type": "markdown",
   "metadata": {},
   "source": [
    "##### 테스트3: 맨 앞의 노드(헤드) 삭제"
   ]
  },
  {
   "cell_type": "code",
   "execution_count": 14,
   "metadata": {},
   "outputs": [
    {
     "name": "stdout",
     "output_type": "stream",
     "text": [
      "2\n",
      "4\n",
      "5\n"
     ]
    }
   ],
   "source": [
    "MyLinkedList.delNode(1);\n",
    "MyLinkedList.printAll();"
   ]
  },
  {
   "cell_type": "markdown",
   "metadata": {},
   "source": [
    "##### 테스트4: 맨 마지막 노드 삭제"
   ]
  },
  {
   "cell_type": "code",
   "execution_count": 15,
   "metadata": {},
   "outputs": [
    {
     "name": "stdout",
     "output_type": "stream",
     "text": [
      "2\n",
      "4\n"
     ]
    }
   ],
   "source": [
    "MyLinkedList.delNode(5);\n",
    "MyLinkedList.printAll();"
   ]
  },
  {
   "cell_type": "markdown",
   "metadata": {},
   "source": [
    "##### 테스트5: 없는 노드 삭제 시도"
   ]
  },
  {
   "cell_type": "code",
   "execution_count": 16,
   "metadata": {},
   "outputs": [
    {
     "data": {
      "text/plain": [
       "false"
      ]
     },
     "execution_count": 16,
     "metadata": {},
     "output_type": "execute_result"
    }
   ],
   "source": [
    "MyLinkedList.delNode(20);"
   ]
  },
  {
   "cell_type": "markdown",
   "metadata": {},
   "source": [
    "### 6. 다양한 링크드 리스트 구조: 더블 링크드 리스트(Doubly linked list)\n",
    "* 더블 링크드 리스트(Doubly linked list) 기본 구조 \n",
    "  - 이중 연결 리스트라고도 함\n",
    "  - 장점: 양방향으로 연결되어 있어서 노드 탐색이 양쪽으로 모두 가능\n",
    "  <br>\n",
    "<img src=\"https://www.fun-coding.org/00_Images/doublelinkedlist.png\" />\n",
    "(출처: wikipedia, https://en.wikipedia.org/wiki/Linked_list)"
   ]
  },
  {
   "cell_type": "code",
   "execution_count": 17,
   "metadata": {},
   "outputs": [],
   "source": [
    "public class DoubleLinkedList<T> {\n",
    "    public Node<T> head = null;\n",
    "    public Node<T> tail = null;\n",
    "    \n",
    "    public class Node<T> {\n",
    "        T data;\n",
    "        Node<T> prev = null;\n",
    "        Node<T> next = null;\n",
    "        \n",
    "        public Node(T data) {\n",
    "            this.data = data;\n",
    "        }\n",
    "    }\n",
    "    \n",
    "    public void addNode(T data) {\n",
    "        if (this.head == null) {\n",
    "            this.head = new Node<T>(data);\n",
    "            this.tail = this.head;\n",
    "        } else {\n",
    "            Node<T> node = this.head;\n",
    "            while (node.next != null) {\n",
    "                node = node.next;\n",
    "            }\n",
    "            node.next = new Node<T>(data);\n",
    "            node.next.prev = node;\n",
    "            this.tail = node.next;\n",
    "        }\n",
    "    }\n",
    "    \n",
    "    public void printAll() {\n",
    "        if (this.head != null) {\n",
    "            Node<T> node = this.head;\n",
    "            System.out.println(node.data);\n",
    "            while (node.next != null) {\n",
    "                node = node.next;\n",
    "                System.out.println(node.data);\n",
    "            }\n",
    "        }\n",
    "    }\n",
    "}"
   ]
  },
  {
   "cell_type": "code",
   "execution_count": 18,
   "metadata": {},
   "outputs": [
    {
     "name": "stdout",
     "output_type": "stream",
     "text": [
      "2\n",
      "4\n",
      "5\n",
      "8\n",
      "3\n"
     ]
    }
   ],
   "source": [
    "DoubleLinkedList<Integer> MyLinkedList = new DoubleLinkedList<Integer>();\n",
    "\n",
    "MyLinkedList.addNode(2);\n",
    "MyLinkedList.addNode(4);\n",
    "MyLinkedList.addNode(5);\n",
    "MyLinkedList.addNode(8);\n",
    "MyLinkedList.addNode(3);\n",
    "\n",
    "MyLinkedList.printAll()"
   ]
  },
  {
   "cell_type": "markdown",
   "metadata": {},
   "source": [
    "<div class=\"alert alert-block\" style=\"border: 1px solid #FFB300;background-color:#F9FBE7;font-size:1em;line-height:1.4em\">\n",
    "<font size=\"3em\" style=\"font-weight:bold;color:#3f8dbf;\">연습해보기</font><br><br>\n",
    "- 위 코드를 기반으로, <br>\n",
    "  - head 부터 특정 노드를 찾는 메서드 추가하기 <br>    \n",
    "  - tail 부터 특정 노드를 찾는 메서드 추가하기\n",
    "</div>"
   ]
  },
  {
   "cell_type": "code",
   "execution_count": 32,
   "metadata": {},
   "outputs": [],
   "source": [
    "public class DoubleLinkedList<T> {\n",
    "    public Node<T> head = null;\n",
    "    public Node<T> tail = null;\n",
    "    \n",
    "    public class Node<T> {\n",
    "        T data;\n",
    "        Node<T> prev = null;\n",
    "        Node<T> next = null;\n",
    "        \n",
    "        public Node(T data) {\n",
    "            this.data = data;\n",
    "        }\n",
    "    }\n",
    "    \n",
    "    public void addNode(T data) {\n",
    "        if (this.head == null) {\n",
    "            this.head = new Node<T>(data);\n",
    "            this.tail = this.head;\n",
    "        } else {\n",
    "            Node<T> node = this.head;\n",
    "            while (node.next != null) {\n",
    "                node = node.next;\n",
    "            }\n",
    "            node.next = new Node<T>(data);\n",
    "            node.next.prev = node;\n",
    "            this.tail = node.next;\n",
    "        }\n",
    "    }\n",
    "    \n",
    "    public void printAll() {\n",
    "        if (this.head != null) {\n",
    "            Node<T> node = this.head;\n",
    "            System.out.println(node.data);\n",
    "            while (node.next != null) {\n",
    "                node = node.next;\n",
    "                System.out.println(node.data);\n",
    "            }\n",
    "        }\n",
    "    }\n",
    "    \n",
    "    public T searchFromHead(T isData) {\n",
    "        if (this.head == null) {\n",
    "            return null;\n",
    "        } else {\n",
    "            Node<T> node = this.head;\n",
    "            while (node != null) {\n",
    "                if (node.data == isData) {\n",
    "                    return node.data;\n",
    "                } else {\n",
    "                    node = node.next;\n",
    "                }\n",
    "            }\n",
    "            return null;\n",
    "        }\n",
    "        \n",
    "    }\n",
    "    \n",
    "    public T searchFromTail(T isData) {\n",
    "        if (this.head == null) {\n",
    "            return null;\n",
    "        } else {\n",
    "            Node<T> node = this.tail;\n",
    "            while (node != null) {\n",
    "                if (node.data == isData) {\n",
    "                    return node.data;\n",
    "                } else {\n",
    "                    node = node.prev;\n",
    "                }\n",
    "            }\n",
    "            return null;\n",
    "        }\n",
    "    }\n",
    "}"
   ]
  },
  {
   "cell_type": "code",
   "execution_count": 33,
   "metadata": {},
   "outputs": [
    {
     "name": "stdout",
     "output_type": "stream",
     "text": [
      "1\n",
      "2\n",
      "3\n",
      "4\n",
      "5\n"
     ]
    }
   ],
   "source": [
    "DoubleLinkedList<Integer> MyLinkedList = new DoubleLinkedList<Integer>();\n",
    "\n",
    "MyLinkedList.addNode(1);\n",
    "MyLinkedList.addNode(2);\n",
    "MyLinkedList.addNode(3);\n",
    "MyLinkedList.addNode(4);\n",
    "MyLinkedList.addNode(5);\n",
    "\n",
    "MyLinkedList.printAll();"
   ]
  },
  {
   "cell_type": "code",
   "execution_count": 34,
   "metadata": {},
   "outputs": [
    {
     "data": {
      "text/plain": [
       "1"
      ]
     },
     "execution_count": 34,
     "metadata": {},
     "output_type": "execute_result"
    }
   ],
   "source": [
    "MyLinkedList.searchFromHead(1);"
   ]
  },
  {
   "cell_type": "code",
   "execution_count": 35,
   "metadata": {},
   "outputs": [
    {
     "data": {
      "text/plain": [
       "1"
      ]
     },
     "execution_count": 35,
     "metadata": {},
     "output_type": "execute_result"
    }
   ],
   "source": [
    "MyLinkedList.searchFromTail(1);"
   ]
  },
  {
   "cell_type": "code",
   "execution_count": 36,
   "metadata": {},
   "outputs": [],
   "source": [
    "MyLinkedList.searchFromTail(6);"
   ]
  },
  {
   "cell_type": "markdown",
   "metadata": {},
   "source": [
    "##### 참고: 일반 에디터에서 실행하기 \n",
    "- 다음과 같이, 클래스 내에, main 함수를 작성한 후, 해당 함수에서, 실행할 코드를 넣으면 됨\n",
    "\n",
    "> 기존에 설명한 부분이지만, 상기하는 차원에서 설명드립니다."
   ]
  },
  {
   "cell_type": "code",
   "execution_count": 37,
   "metadata": {},
   "outputs": [],
   "source": [
    "public class DoubleLinkedList<T> {\n",
    "    public static void main(String[] args) {\n",
    "        DoubleLinkedList<Integer> MyLinkedList = new DoubleLinkedList<Integer>();\n",
    "\n",
    "        MyLinkedList.addNode(1);\n",
    "        MyLinkedList.addNode(2);\n",
    "        MyLinkedList.addNode(3);\n",
    "        MyLinkedList.addNode(4);\n",
    "        MyLinkedList.addNode(5);\n",
    "\n",
    "        MyLinkedList.printAll();\n",
    "\n",
    "        System.out.println(MyLinkedList.searchFromHead(3));\n",
    "        System.out.println(MyLinkedList.searchFromTail(1));\n",
    "        System.out.println(MyLinkedList.searchFromTail(6));\n",
    "    }\n",
    "\n",
    "    public Node<T> head = null;\n",
    "    public Node<T> tail = null;\n",
    "\n",
    "    public class Node<T> {\n",
    "        T data;\n",
    "        Node<T> prev = null;\n",
    "        Node<T> next = null;\n",
    "\n",
    "        public Node(T data) {\n",
    "            this.data = data;\n",
    "        }\n",
    "    }\n",
    "    \n",
    "    public void addNode(T data) {\n",
    "        if (this.head == null) {\n",
    "            this.head = new Node<T>(data);\n",
    "            this.tail = this.head;\n",
    "        } else {\n",
    "            Node<T> node = this.head;\n",
    "            while (node.next != null) {\n",
    "                node = node.next;\n",
    "            }\n",
    "            node.next = new Node<T>(data);\n",
    "            node.next.prev = node;\n",
    "            this.tail = node.next;\n",
    "        }\n",
    "    }\n",
    "\n",
    "    public void printAll() {\n",
    "        if (this.head != null) {\n",
    "            Node<T> node = this.head;\n",
    "            System.out.println(node.data);\n",
    "            while (node.next != null) {\n",
    "                node = node.next;\n",
    "                System.out.println(node.data);\n",
    "            }\n",
    "        }\n",
    "    }\n",
    "\n",
    "    public T searchFromHead(T isData) {\n",
    "        if (this.head == null) {\n",
    "            return null;\n",
    "        } else {\n",
    "            Node<T> node = this.head;\n",
    "            while (node != null) {\n",
    "                if (node.data == isData) {\n",
    "                    return node.data;\n",
    "                } else {\n",
    "                    node = node.next;\n",
    "                }\n",
    "            }\n",
    "            return null;\n",
    "        }\n",
    "    }\n",
    "\n",
    "    public T searchFromTail(T isData) {\n",
    "        if (this.head == null) {\n",
    "            return null;\n",
    "        } else {\n",
    "            Node<T> node = this.tail;\n",
    "            while (node != null) {\n",
    "                if (node.data == isData) {\n",
    "                    return node.data;\n",
    "                } else {\n",
    "                    node = node.prev;\n",
    "                }\n",
    "            }\n",
    "            return null;\n",
    "        }\n",
    "    }\n",
    "}"
   ]
  },
  {
   "cell_type": "markdown",
   "metadata": {},
   "source": [
    "##### main() 코드까지 주피터 노트북상에서 호출시\n",
    "- 인스턴스 생성 후, main 메서드에 인자를 임의로 넣을 시, new String[0] 으로 넣어주면 됨"
   ]
  },
  {
   "cell_type": "code",
   "execution_count": 41,
   "metadata": {},
   "outputs": [
    {
     "name": "stdout",
     "output_type": "stream",
     "text": [
      "1\n",
      "2\n",
      "3\n",
      "4\n",
      "5\n",
      "3\n",
      "1\n",
      "null\n"
     ]
    }
   ],
   "source": [
    "DoubleLinkedList<Integer> doubleLink = new DoubleLinkedList<Integer>();\n",
    "doubleLink.main(new String[0]);"
   ]
  },
  {
   "cell_type": "markdown",
   "metadata": {},
   "source": [
    "<div class=\"alert alert-block\" style=\"border: 1px solid #FFB300;background-color:#F9FBE7;font-size:1em;line-height:1.4em\">\n",
    "<font size=\"3em\" style=\"font-weight:bold;color:#3f8dbf;\">연습해보기</font><br><br>\n",
    "- 위 코드를 기반으로, <br>\n",
    "    - 데이터를 임의 노드 <b>앞에</b> 노드를 추가하는 메서드 추가하기\n",
    "</div>"
   ]
  },
  {
   "cell_type": "markdown",
   "metadata": {},
   "source": [
    "### 최종 코드 (프로젝트: CH9_LINKEDLIST)"
   ]
  },
  {
   "cell_type": "code",
   "execution_count": 44,
   "metadata": {},
   "outputs": [],
   "source": [
    "public class DoubleLinkedList<T> {\n",
    "    public static void main(String[] args) {\n",
    "        DoubleLinkedList<Integer> MyLinkedList = new DoubleLinkedList<Integer>();\n",
    "\n",
    "        MyLinkedList.addNode(1);\n",
    "        MyLinkedList.addNode(2);\n",
    "        MyLinkedList.addNode(3);\n",
    "        MyLinkedList.addNode(4);\n",
    "        MyLinkedList.addNode(5);\n",
    "        MyLinkedList.printAll();\n",
    "        System.out.println(\"----------------\");\n",
    "\n",
    "        MyLinkedList.insertToFront(3, 2);\n",
    "        MyLinkedList.printAll();\n",
    "        System.out.println(\"----------------\");\n",
    "\n",
    "        MyLinkedList.insertToFront(6, 2);\n",
    "        MyLinkedList.insertToFront(1, 0);\n",
    "        MyLinkedList.printAll();\n",
    "        System.out.println(\"----------------\");\n",
    "\n",
    "        MyLinkedList.addNode(6);\n",
    "        MyLinkedList.printAll();\n",
    "    }\n",
    "\n",
    "    public Node<T> head = null;\n",
    "    public Node<T> tail = null;\n",
    "\n",
    "    public class Node<T> {\n",
    "        T data;\n",
    "        Node<T> prev = null;\n",
    "        Node<T> next = null;\n",
    "\n",
    "        public Node(T data) {\n",
    "            this.data = data;\n",
    "        }\n",
    "    }\n",
    "    \n",
    "    public void addNode(T data) {\n",
    "        if (this.head == null) {\n",
    "            this.head = new Node<T>(data);\n",
    "            this.tail = this.head;\n",
    "        } else {\n",
    "            Node<T> node = this.head;\n",
    "            while (node.next != null) {\n",
    "                node = node.next;\n",
    "            }\n",
    "            node.next = new Node<T>(data);\n",
    "            node.next.prev = node;\n",
    "            this.tail = node.next;\n",
    "        }\n",
    "    }\n",
    "\n",
    "    public void printAll() {\n",
    "        if (this.head != null) {\n",
    "            Node<T> node = this.head;\n",
    "            System.out.println(node.data);\n",
    "            while (node.next != null) {\n",
    "                node = node.next;\n",
    "                System.out.println(node.data);\n",
    "            }\n",
    "        }\n",
    "    }\n",
    "\n",
    "    public T searchFromHead(T isData) {\n",
    "        if (this.head == null) {\n",
    "            return null;\n",
    "        } else {\n",
    "            Node<T> node = this.head;\n",
    "            while (node != null) {\n",
    "                if (node.data == isData) {\n",
    "                    return node.data;\n",
    "                } else {\n",
    "                    node = node.next;\n",
    "                }\n",
    "            }\n",
    "            return null;\n",
    "        }\n",
    "    }\n",
    "\n",
    "    public T searchFromTail(T isData) {\n",
    "        if (this.head == null) {\n",
    "            return null;\n",
    "        } else {\n",
    "            Node<T> node = this.tail;\n",
    "            while (node != null) {\n",
    "                if (node.data == isData) {\n",
    "                    return node.data;\n",
    "                } else {\n",
    "                    node = node.prev;\n",
    "                }\n",
    "            }\n",
    "            return null;\n",
    "        }\n",
    "    }\n",
    "    \n",
    "    public boolean insertToFront(T existedData, T addData) {\n",
    "        if (this.head == null) {\n",
    "            this.head = new Node<T>(addData);\n",
    "            this.tail = this.head;\n",
    "            return true;\n",
    "        } else if (this.head.data == existedData) {\n",
    "            Node<T> newHead = new Node<T>(addData);\n",
    "            newHead.next = this.head;\n",
    "            this.head = newHead;\n",
    "            this.head.next.prev = this.head; // 2021.09.13 추가 (prev 도 연결을 해줘야 함)            \n",
    "            return true;\n",
    "        } else {\n",
    "            Node<T> node = this.head;\n",
    "            while (node != null) {\n",
    "                if (node.data == existedData) {\n",
    "                    Node<T> nodePrev = node.prev;\n",
    "                    \n",
    "                    nodePrev.next = new Node<T>(addData);\n",
    "                    nodePrev.next.next = node;\n",
    "                    \n",
    "                    nodePrev.next.prev = nodePrev;\n",
    "                    node.prev = nodePrev.next;\n",
    "                    return true;\n",
    "                } else {\n",
    "                    node = node.next;\n",
    "                }\n",
    "            }\n",
    "            return false;\n",
    "        }\n",
    "    }\n",
    "}"
   ]
  },
  {
   "cell_type": "code",
   "execution_count": 45,
   "metadata": {},
   "outputs": [
    {
     "name": "stdout",
     "output_type": "stream",
     "text": [
      "1\n",
      "2\n",
      "3\n",
      "4\n",
      "5\n",
      "----------------\n",
      "1\n",
      "2\n",
      "2\n",
      "3\n",
      "4\n",
      "5\n",
      "----------------\n",
      "0\n",
      "1\n",
      "2\n",
      "2\n",
      "3\n",
      "4\n",
      "5\n",
      "----------------\n",
      "0\n",
      "1\n",
      "2\n",
      "2\n",
      "3\n",
      "4\n",
      "5\n",
      "6\n"
     ]
    }
   ],
   "source": [
    "DoubleLinkedList<Integer> doubleLink = new DoubleLinkedList<Integer>();\n",
    "doubleLink.main(new String[0]);"
   ]
  },
  {
   "cell_type": "markdown",
   "metadata": {},
   "source": [
    "<div class=\"alert alert-block\" style=\"border: 1px solid #455A64;background-color:#ECEFF1;padding:5px;font-size:0.9em;\">\n",
    "본 자료와 관련 영상 컨텐츠는 저작권법 제25조 2항에 의해 보호를 받습니다. <br>본 컨텐츠 및 컨텐츠 일부 문구 등을 외부에 공개하거나, 요약해서 게시하지 말아주세요.\n",
    "</div>"
   ]
  }
 ],
 "metadata": {
  "kernelspec": {
   "display_name": "Java",
   "language": "java",
   "name": "java"
  },
  "language_info": {
   "codemirror_mode": "java",
   "file_extension": ".jshell",
   "mimetype": "text/x-java-source",
   "name": "Java",
   "pygments_lexer": "java",
   "version": "15.0.2+7-27"
  }
 },
 "nbformat": 4,
 "nbformat_minor": 4
}
