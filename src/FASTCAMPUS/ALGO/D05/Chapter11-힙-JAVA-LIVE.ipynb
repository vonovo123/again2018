{
 "cells": [
  {
   "cell_type": "markdown",
   "metadata": {},
   "source": [
    "<div class=\"alert alert-block\" style=\"border: 1px solid #455A64;background-color:#ECEFF1;padding:5px;font-size:0.9em;\">\n",
    "본 자료와 관련 영상 컨텐츠는 저작권법 제25조 2항에 의해 보호를 받습니다. <br>본 컨텐츠 및 컨텐츠 일부 문구 등을 외부에 공개하거나, 요약해서 게시하지 말아주세요.\n",
    "</div>"
   ]
  },
  {
   "cell_type": "markdown",
   "metadata": {},
   "source": [
    "## 대표적인 데이터 구조8: 힙"
   ]
  },
  {
   "cell_type": "markdown",
   "metadata": {},
   "source": [
    "### 1. 힙 (Heap) 이란?\n",
    "- 힙: 데이터에서 최대값과 최소값을 빠르게 찾기 위해 고안된 완전 이진 트리(Complete Binary Tree)\n",
    "  - 완전 이진 트리: 노드를 삽입할 때 최하단 왼쪽 노드부터 차례대로 삽입하는 트리\n",
    "\n",
    "<img src=\"https://www.fun-coding.org/00_Images/completebinarytree.png\" width=300>\n",
    "\n",
    "- 힙을 사용하는 이유\n",
    "  - 배열에 데이터를 넣고, 최대값과 최소값을 찾으려면 O(n) 이 걸림\n",
    "  - 이에 반해, 힙에 데이터를 넣고, 최대값과 최소값을 찾으면, $ O(log n) $ 이 걸림\n",
    "  - 우선순위 큐와 같이 최대값 또는 최소값을 빠르게 찾아야 하는 자료구조 및 알고리즘 구현 등에 활용됨"
   ]
  },
  {
   "cell_type": "markdown",
   "metadata": {},
   "source": [
    "### 2. 힙 (Heap) 구조\n",
    "- 힙은 최대값을 구하기 위한 구조 (최대 힙, Max Heap) 와, 최소값을 구하기 위한 구조 (최소 힙, Min Heap) 로 분류할 수 있음\n",
    "- 힙은 다음과 같이 두 가지 조건을 가지고 있는 자료구조임\n",
    "  1. 각 노드의 값은 해당 노드의 자식 노드가 가진 값보다 크거나 같다. (최대 힙의 경우)\n",
    "     - 최소 힙의 경우는 각 노드의 값은 해당 노드의 자식 노드가 가진 값보다 크거나 작음\n",
    "  2. 완전 이진 트리 형태를 가짐\n",
    "\n",
    "### 힙과 이진 탐색 트리의 공통점과 차이점\n",
    "- 공통점: 힙과 이진 탐색 트리는 모두 이진 트리임\n",
    "- 차이점: \n",
    "  - 힙은 각 노드의 값이 자식 노드보다 크거나 같음(Max Heap의 경우)\n",
    "  - 이진 탐색 트리는 왼쪽 자식 노드의 값이 가장 작고, 그 다음 부모 노드, 그 다음 오른쪽 자식 노드 값이 가장 큼\n",
    "  - 힙은 이진 탐색 트리의 조건인 자식 노드에서 작은 값은 왼쪽, 큰 값은 오른쪽이라는 조건은 없음\n",
    "    - 힙의 왼쪽 및 오른쪽 자식 노드의 값은 오른쪽이 클 수도 있고, 왼쪽이 클 수도 있음\n",
    "- 이진 탐색 트리는 탐색을 위한 구조, 힙은 최대/최소값 검색을 위한 구조 중 하나로 이해하면 됨  \n",
    "<img src=\"https://www.fun-coding.org/00_Images/completebinarytree_bst.png\" width=\"800\" />\n"
   ]
  },
  {
   "cell_type": "markdown",
   "metadata": {},
   "source": [
    "### 3. 힙 (Heap) 동작\n",
    "- 데이터를 힙 구조에 삽입, 삭제하는 과정을 그림을 통해 선명하게 이해하기\n",
    "\n",
    "### 힙에 데이터 삽입하기 - 기본 동작 \n",
    "- 힙은 완전 이진 트리이므로, 삽입할 노드는 기본적으로 왼쪽 최하단부 노드부터 채워지는 형태로 삽입\n",
    "<img src=\"https://www.fun-coding.org/00_Images/heap_ordinary.png\">"
   ]
  },
  {
   "cell_type": "markdown",
   "metadata": {},
   "source": [
    "### 힙에 데이터 삽입하기 - 삽입할 데이터가 힙의 데이터보다 클 경우 (Max Heap 의 예)\n",
    "- 먼저 삽입된 데이터는 완전 이진 트리 구조에 맞추어, 최하단부 왼쪽 노드부터 채워짐\n",
    "- 채워진 노드 위치에서, 부모 노드보다 값이 클 경우, 부모 노드와 위치를 바꿔주는 작업을 반복함 (swap)\n",
    "<img src=\"https://www.fun-coding.org/00_Images/heap_insert.png\">"
   ]
  },
  {
   "cell_type": "markdown",
   "metadata": {},
   "source": [
    "### 힙의 데이터 삭제하기 (Max Heap 의 예)\n",
    "- 보통 삭제는 최상단 노드 (root 노드)를 삭제하는 것이 일반적임\n",
    "  - 힙의 용도는 최대값 또는 최소값을 root 노드에 놓아서, 최대값과 최소값을 바로 꺼내 쓸 수 있도록 하는 것임\n",
    "- 상단의 데이터 삭제시, 가장 최하단부 왼쪽에 위치한 노드 (일반적으로 가장 마지막에 추가한 노드) 를 root 노드로 이동\n",
    "- root 노드의 값이 child node 보다 작을 경우, root 노드의 child node 중 가장 큰 값을 가진 노드와 root 노드 위치를 바꿔주는 작업을 반복함 (swap)\n",
    "\n",
    "<img src=\"https://www.fun-coding.org/00_Images/heap_remove.png\">"
   ]
  },
  {
   "cell_type": "markdown",
   "metadata": {},
   "source": [
    "### 4. 힙 구현\n",
    "### 힙과 배열\n",
    "- 일반적으로 힙 구현시 배열 자료구조를 활용함\n",
    "- 배열은 인덱스가 0번부터 시작하지만, 힙 구현의 편의를 위해, root 노드 인덱스 번호를 1로 지정하면, 구현이 좀더 수월함\n",
    "  - 부모 노드 인덱스 번호 (parent node's index) = 자식 노드 인덱스 번호 (child node's index) / 2\n",
    "     - JAVA 에서는 / 연산자로 몫 을 구할 수 있음 \n",
    "  - 왼쪽 자식 노드 인덱스 번호 (left child node's index) = 부모 노드 인덱스 번호 (parent node's index) * 2\n",
    "  - 오른쪽 자식 노드 인덱스 번호 (right child node's index) = 부모 노드 인덱스 번호 (parent node's index) * 2 + 1\n",
    "<img src=\"https://www.fun-coding.org/00_Images/heap_array.png\" width=400>"
   ]
  },
  {
   "cell_type": "code",
   "execution_count": 1,
   "metadata": {},
   "outputs": [
    {
     "data": {
      "text/plain": [
       "2"
      ]
     },
     "execution_count": 1,
     "metadata": {},
     "output_type": "execute_result"
    }
   ],
   "source": [
    "// 예 - 4 노드의 부모 노드 인덱스\n",
    "5 / 2"
   ]
  },
  {
   "cell_type": "code",
   "execution_count": 2,
   "metadata": {},
   "outputs": [
    {
     "data": {
      "text/plain": [
       "2"
      ]
     },
     "execution_count": 2,
     "metadata": {},
     "output_type": "execute_result"
    }
   ],
   "source": [
    "// 예 - 15 노드의 왼쪽 자식 노드 인덱스 번호\n",
    "1 * 2"
   ]
  },
  {
   "cell_type": "code",
   "execution_count": 3,
   "metadata": {},
   "outputs": [
    {
     "data": {
      "text/plain": [
       "5"
      ]
     },
     "execution_count": 3,
     "metadata": {},
     "output_type": "execute_result"
    }
   ],
   "source": [
    "// 예 - 15 노드의 오른쪽 자식 노드 인덱스 번호\n",
    "2 * 2 + 1"
   ]
  },
  {
   "cell_type": "markdown",
   "metadata": {},
   "source": [
    "### 힙에 데이터 삽입 구현 (Max Heap 예)"
   ]
  },
  {
   "cell_type": "markdown",
   "metadata": {},
   "source": [
    "### 힙 클래스 구현1\n",
    "- import java.util.ArrayList 를 활용해서 구현"
   ]
  },
  {
   "cell_type": "code",
   "execution_count": 5,
   "metadata": {},
   "outputs": [],
   "source": [
    "import java.util.ArrayList;\n",
    "\n",
    "public class Heap {\n",
    "    public ArrayList<Integer> heapArray = null;\n",
    "    \n",
    "    public Heap (Integer data) {\n",
    "        heapArray = new ArrayList<Integer>();\n",
    "        \n",
    "        heapArray.add(null);\n",
    "        heapArray.add(data);\n",
    "    }\n",
    "}"
   ]
  },
  {
   "cell_type": "code",
   "execution_count": 6,
   "metadata": {},
   "outputs": [
    {
     "name": "stdout",
     "output_type": "stream",
     "text": [
      "[null, 1]\n"
     ]
    }
   ],
   "source": [
    "Heap heapTest = new Heap(1);\n",
    "System.out.println(heapTest.heapArray);"
   ]
  },
  {
   "cell_type": "markdown",
   "metadata": {},
   "source": [
    "### 힙 클래스 구현2 - insert1\n",
    "- 인덱스 번호는 1번부터 시작하도록 변경\n",
    "\n",
    "<img src=\"https://www.fun-coding.org/00_Images/heap_ordinary.png\">"
   ]
  },
  {
   "cell_type": "code",
   "execution_count": 7,
   "metadata": {},
   "outputs": [],
   "source": [
    "import java.util.ArrayList;\n",
    "\n",
    "public class Heap {\n",
    "    public ArrayList<Integer> heapArray = null;\n",
    "    \n",
    "    public Heap (Integer data) {\n",
    "        heapArray = new ArrayList<Integer>();\n",
    "        \n",
    "        heapArray.add(null);\n",
    "        heapArray.add(data);\n",
    "    }\n",
    "    \n",
    "    public boolean insert(Integer data) {\n",
    "        if (heapArray == null) {\n",
    "            heapArray = new ArrayList<Integer>();\n",
    "            \n",
    "            heapArray.add(null);\n",
    "            heapArray.add(data);\n",
    "        } else {\n",
    "            heapArray.add(data);\n",
    "        }\n",
    "        return true;\n",
    "    }\n",
    "}"
   ]
  },
  {
   "cell_type": "code",
   "execution_count": 8,
   "metadata": {},
   "outputs": [
    {
     "name": "stdout",
     "output_type": "stream",
     "text": [
      "[null, 1, 2, 3, 4, 5]\n"
     ]
    }
   ],
   "source": [
    "Heap heapTest = new Heap(1);\n",
    "heapTest.insert(2);\n",
    "heapTest.insert(3);\n",
    "heapTest.insert(4);\n",
    "heapTest.insert(5);\n",
    "\n",
    "System.out.println(heapTest.heapArray);"
   ]
  },
  {
   "cell_type": "markdown",
   "metadata": {},
   "source": [
    "### 힙 클래스 구현3 - insert2\n",
    "  - 삽입한 노드가 부모 노드의 값보다 클 경우, 부모 노드와 삽입한 노드 위치를 바꿈\n",
    "  - 삽입한 노드가 루트 노드가 되거나, 부모 노드보다 값이 작거나 같을 경우까지 반복"
   ]
  },
  {
   "cell_type": "markdown",
   "metadata": {},
   "source": [
    "### 특정 노드의 관련 노드 위치 알아내기\n",
    "  - 부모 노드 인덱스 번호 (parent node's index) = 자식 노드 인덱스 번호 (child node's index) / 2\n",
    "  - 왼쪽 자식 노드 인덱스 번호 (left child node's index) = 부모 노드 인덱스 번호 (parent node's index) * 2\n",
    "  - 오른쪽 자식 노드 인덱스 번호 (right child node's index) = 부모 노드 인덱스 번호 (parent node's index) * 2 + 1\n",
    "\n",
    "<img src=\"https://www.fun-coding.org/00_Images/heap_insert.png\">"
   ]
  },
  {
   "cell_type": "markdown",
   "metadata": {},
   "source": [
    "### 힙 구현에 사용된 Collections.swap() 메서드 사용법 이해하기\n",
    "- swap (스왑) 이란, 두 데이터의 위치를 맞바꾸는 것을 의미함\n",
    "- swap 함수를 별도로 구현할 수도 있지만, JAVA 에서는 Collections 패키지에서 swap() 메서드를 제공해주고 있음\n",
    "  - 하나의 배열 안에 있는 두 데이터의 위치를 서로 맞바꾸고 싶을 때 사용 가능\n",
    "  \n",
    "```\n",
    "import  java.util.Collections;\n",
    "\n",
    "Collections.swap(List list, int a, int b)\n",
    "```\n",
    "- list : 스왑할 데이터들이 들어 있는 배열 변수\n",
    "- a : 스왑할 데이터 인덱스 번호\n",
    "- b : 스왑할 데이터 인덱스 번호"
   ]
  },
  {
   "cell_type": "code",
   "execution_count": 10,
   "metadata": {},
   "outputs": [
    {
     "name": "stdout",
     "output_type": "stream",
     "text": [
      "[1, 2]\n",
      "[2, 1]\n"
     ]
    }
   ],
   "source": [
    "import java.util.Collections;\n",
    "\n",
    "ArrayList<Integer> heapArray = new ArrayList<Integer>();\n",
    "heapArray.add(1);\n",
    "heapArray.add(2);\n",
    "System.out.println(heapArray);\n",
    "\n",
    "Collections.swap(heapArray, 0, 1);\n",
    "System.out.println(heapArray);\n"
   ]
  },
  {
   "cell_type": "code",
   "execution_count": 13,
   "metadata": {},
   "outputs": [],
   "source": [
    "import java.util.ArrayList;\n",
    "\n",
    "public class Heap {\n",
    "    public ArrayList<Integer> heapArray = null;\n",
    "    \n",
    "    public Heap (Integer data) {\n",
    "        heapArray = new ArrayList<Integer>();\n",
    "        \n",
    "        heapArray.add(null);\n",
    "        heapArray.add(data);\n",
    "    }\n",
    "    \n",
    "    public boolean move_up(Integer inserted_idx) {\n",
    "        if (inserted_idx <= 1) {\n",
    "            return false;\n",
    "        }\n",
    "        Integer parent_idx = inserted_idx / 2;\n",
    "        if (this.heapArray.get(inserted_idx) > this.heapArray.get(parent_idx)) {\n",
    "            return true;\n",
    "        } else {\n",
    "            return false;\n",
    "        }\n",
    "    }\n",
    "    \n",
    "    public boolean insert(Integer data) {\n",
    "        Integer inserted_idx, parent_idx;\n",
    "        \n",
    "        if (heapArray == null) {\n",
    "            heapArray = new ArrayList<Integer>();\n",
    "            \n",
    "            heapArray.add(null);\n",
    "            heapArray.add(data);\n",
    "            return true;\n",
    "        }\n",
    "        \n",
    "        this.heapArray.add(data);\n",
    "        inserted_idx = this.heapArray.size() - 1;\n",
    "        \n",
    "        while (this.move_up(inserted_idx)) {\n",
    "            parent_idx = inserted_idx / 2;\n",
    "            Collections.swap(this.heapArray, inserted_idx, parent_idx);\n",
    "            inserted_idx = parent_idx;\n",
    "        }\n",
    "        return true;\n",
    "    }\n",
    "}"
   ]
  },
  {
   "cell_type": "markdown",
   "metadata": {},
   "source": [
    "### 그림과 같이 테스트해보기\n",
    "<img src=\"https://www.fun-coding.org/00_Images/heap_insert.png\">"
   ]
  },
  {
   "cell_type": "code",
   "execution_count": 14,
   "metadata": {},
   "outputs": [
    {
     "name": "stdout",
     "output_type": "stream",
     "text": [
      "[null, 20, 10, 15, 5, 4, 8]\n"
     ]
    }
   ],
   "source": [
    "Heap heapTest = new Heap(15);\n",
    "heapTest.insert(10);\n",
    "heapTest.insert(8);\n",
    "heapTest.insert(5);\n",
    "heapTest.insert(4);\n",
    "heapTest.insert(20);\n",
    "\n",
    "System.out.println(heapTest.heapArray);"
   ]
  },
  {
   "cell_type": "markdown",
   "metadata": {},
   "source": [
    "### 힙에 데이터 삭제 구현 (Max Heap 예)"
   ]
  },
  {
   "cell_type": "markdown",
   "metadata": {},
   "source": [
    "### 힙 클래스 구현4 - delete1\n",
    "- 보통 삭제는 최상단 노드 (root 노드)를 삭제하는 것이 일반적임\n",
    "  - 힙의 용도는 최대값 또는 최소값을 root 노드에 놓아서, 최대값과 최소값을 바로 꺼내 쓸 수 있도록 하는 것임"
   ]
  },
  {
   "cell_type": "code",
   "execution_count": 15,
   "metadata": {},
   "outputs": [],
   "source": [
    "import java.util.ArrayList;\n",
    "\n",
    "public class Heap {\n",
    "    public ArrayList<Integer> heapArray = null;\n",
    "    \n",
    "    public Heap (Integer data) {\n",
    "        heapArray = new ArrayList<Integer>();\n",
    "        \n",
    "        heapArray.add(null);\n",
    "        heapArray.add(data);\n",
    "    }\n",
    "    \n",
    "    public boolean move_up(Integer inserted_idx) {\n",
    "        if (inserted_idx <= 1) {\n",
    "            return false;\n",
    "        }\n",
    "        Integer parent_idx = inserted_idx / 2;\n",
    "        if (this.heapArray.get(inserted_idx) > this.heapArray.get(parent_idx)) {\n",
    "            return true;\n",
    "        } else {\n",
    "            return false;\n",
    "        }\n",
    "    }\n",
    "    \n",
    "    public boolean insert(Integer data) {\n",
    "        Integer inserted_idx, parent_idx;\n",
    "        \n",
    "        if (heapArray == null) {\n",
    "            heapArray = new ArrayList<Integer>();\n",
    "            \n",
    "            heapArray.add(null);\n",
    "            heapArray.add(data);\n",
    "            return true;\n",
    "        }\n",
    "        \n",
    "        this.heapArray.add(data);\n",
    "        inserted_idx = this.heapArray.size() - 1;\n",
    "        \n",
    "        while (this.move_up(inserted_idx)) {\n",
    "            parent_idx = inserted_idx / 2;\n",
    "            Collections.swap(this.heapArray, inserted_idx, parent_idx);\n",
    "            inserted_idx = parent_idx;\n",
    "        }\n",
    "        return true;\n",
    "    }\n",
    "    \n",
    "    public Integer pop() {\n",
    "        if (this.heapArray == null) {\n",
    "            return null;\n",
    "        } else {\n",
    "            return this.heapArray.get(1);\n",
    "        }\n",
    "    }\n",
    "}"
   ]
  },
  {
   "cell_type": "markdown",
   "metadata": {},
   "source": [
    "### 힙 클래스 구현4 - delete2\n",
    "  - 상단의 데이터 삭제시, 가장 최하단부 왼쪽에 위치한 노드 (일반적으로 가장 마지막에 추가한 노드) 를 root 노드로 이동\n",
    "  - root 노드의 값이 child node 보다 작을 경우, root 노드의 child node 중 가장 큰 값을 가진 노드와 root 노드 위치를 바꿔주는 작업을 반복함 (swap)"
   ]
  },
  {
   "cell_type": "markdown",
   "metadata": {},
   "source": [
    "### 특정 노드의 관련 노드 위치 알아내기\n",
    "  - 부모 노드 인덱스 번호 (parent node's index) = 자식 노드 인덱스 번호 (child node's index) / 2\n",
    "  - 왼쪽 자식 노드 인덱스 번호 (left child node's index) = 부모 노드 인덱스 번호 (parent node's index) * 2\n",
    "  - 오른쪽 자식 노드 인덱스 번호 (right child node's index) = 부모 노드 인덱스 번호 (parent node's index) * 2 + 1\n",
    "\n",
    "<img src=\"https://www.fun-coding.org/00_Images/heap_remove.png\">"
   ]
  },
  {
   "cell_type": "markdown",
   "metadata": {},
   "source": [
    "### 구현을 위한 move_down 메서드 작성하기"
   ]
  },
  {
   "cell_type": "code",
   "execution_count": null,
   "metadata": {},
   "outputs": [],
   "source": [
    "    public boolean move_down(Integer popped_idx) {\n",
    "        Integer left_child_popped_idx, right_child_popped_idx;\n",
    "        \n",
    "        left_child_popped_idx = popped_idx * 2;\n",
    "        right_child_popped_idx = popped_idx * 2 + 1;\n",
    "        \n",
    "        // CASE1: 왼쪽 자식 노드도 없을 때 (자식 노드가 하나도 없을 때)\n",
    "        if (left_child_popped_idx >= this.heapArray.size()) {\n",
    "            return false;\n",
    "        // CASE2: 오른쪽 자식 노드만 없을 때\n",
    "        } else if (right_child_popped_idx >= this.heapArray.size()) {\n",
    "            if (this.heapArray.get(popped_idx) < this.heapArray.get(left_child_popped_idx)) {\n",
    "                return true;\n",
    "            } else {\n",
    "                return false;\n",
    "            }\n",
    "        // CASE3: 왼쪽/오른쪽 자식 노드가 모두 있을 때\n",
    "        } else {\n",
    "            if (this.heapArray.get(left_child_popped_idx) > this.heapArray.get(right_child_popped_idx)) {\n",
    "                if (this.heapArray.get(popped_idx) < this.heapArray.get(left_child_popped_idx)) {\n",
    "                    return true;\n",
    "                } else {\n",
    "                    return false;\n",
    "                }\n",
    "            } else {\n",
    "                if (this.heapArray.get(popped_idx) < this.heapArray.get(right_child_popped_idx)) {\n",
    "                    return true;\n",
    "                } else {\n",
    "                    return false;\n",
    "                }\n",
    "            }\n",
    "        }\n",
    "    }"
   ]
  },
  {
   "cell_type": "markdown",
   "metadata": {},
   "source": [
    "### 구현을 위한 pop 메서드 작성하기"
   ]
  },
  {
   "cell_type": "code",
   "execution_count": null,
   "metadata": {},
   "outputs": [],
   "source": [
    "    public Integer pop() {\n",
    "        Integer returned_data, popped_idx, left_child_popped_idx, right_child_popped_idx; \n",
    "        \n",
    "        if (this.heapArray == null) {\n",
    "            return null;\n",
    "        } else {\n",
    "            returned_data = this.heapArray.get(1);\n",
    "            this.heapArray.set(1, this.heapArray.get(this.heapArray.size() - 1));\n",
    "            this.heapArray.remove(this.heapArray.size() - 1);\n",
    "            popped_idx = 1;\n",
    "            \n",
    "            while (this.move_down(popped_idx)) {\n",
    "                left_child_popped_idx = popped_idx * 2;\n",
    "                right_child_popped_idx = popped_idx * 2 + 1;\n",
    "\n",
    "                // CASE2: 오른쪽 자식 노드만 없을 때\n",
    "                if (right_child_popped_idx >= this.heapArray.size()) {\n",
    "                    if (this.heapArray.get(popped_idx) < this.heapArray.get(left_child_popped_idx)) {\n",
    "                        Collections.swap(this.heapArray, popped_idx, left_child_popped_idx);\n",
    "                        popped_idx = left_child_popped_idx;\n",
    "                    }\n",
    "                // CASE3: 왼쪽/오른쪽 자식 노드가 모두 있을 때                    \n",
    "                } else {\n",
    "                    if (this.heapArray.get(left_child_popped_idx) > this.heapArray.get(right_child_popped_idx)) {\n",
    "                        if (this.heapArray.get(popped_idx) < this.heapArray.get(left_child_popped_idx)) {\n",
    "                            Collections.swap(this.heapArray, popped_idx, left_child_popped_idx);\n",
    "                            popped_idx = left_child_popped_idx;\n",
    "                        } \n",
    "                    } else {\n",
    "                        if (this.heapArray.get(popped_idx) < this.heapArray.get(right_child_popped_idx)) {\n",
    "                            Collections.swap(this.heapArray, popped_idx, right_child_popped_idx);\n",
    "                            popped_idx = right_child_popped_idx;\n",
    "                        } \n",
    "                    }\n",
    "                }\n",
    "            }\n",
    "            \n",
    "            return returned_data;\n",
    "        }\n",
    "    }"
   ]
  },
  {
   "cell_type": "markdown",
   "metadata": {},
   "source": [
    "### 최종 코드 (프로젝트: CH13_HEAP)"
   ]
  },
  {
   "cell_type": "code",
   "execution_count": 1,
   "metadata": {},
   "outputs": [],
   "source": [
    "import java.util.ArrayList;\n",
    "import  java.util.Collections;\n",
    "\n",
    "public class Heap {\n",
    "    // 보통 내부 attribute 는 private 으로 선언하기도 하지만, 외부에서도 간단히 데이터를 확인할 수 있도록 public 으로 선언\n",
    "    public ArrayList<Integer> heapArray = null;\n",
    "\n",
    "    public Heap(Integer data) {\n",
    "        this.heapArray = new ArrayList<Integer>();\n",
    "        // 배열은 인덱스가 0번부터 시작하지만, 힙 구현의 편의를 위해, root 노드 인덱스 번호를 1로 지정하기 위해,\n",
    "        // 0번 인덱스에는 강제로 null 을 넣어주기로 함\n",
    "        this.heapArray.add(null);\n",
    "        this.heapArray.add(data);\n",
    "    }\n",
    "\n",
    "    public boolean move_up(Integer inserted_idx) {\n",
    "        if (inserted_idx <= 1) {\n",
    "            return false;\n",
    "        }\n",
    "        Integer parent_idx = inserted_idx / 2;\n",
    "        if (this.heapArray.get(inserted_idx) > this.heapArray.get(parent_idx)) {\n",
    "            return true;\n",
    "        } else {\n",
    "            return false;\n",
    "        }\n",
    "    }\n",
    "\n",
    "    public boolean insert(Integer data) {\n",
    "        Integer inserted_idx, parent_idx;\n",
    "        if (this.heapArray == null) {\n",
    "            this.heapArray = new ArrayList<Integer>();\n",
    "            // 배열은 인덱스가 0번부터 시작하지만, 힙 구현의 편의를 위해, root 노드 인덱스 번호를 1로 지정하기 위해,\n",
    "            // 0번 인덱스에는 강제로 null 을 넣어주기로 함\n",
    "            this.heapArray.add(null);\n",
    "            this.heapArray.add(data);\n",
    "            return true;\n",
    "        }\n",
    "\n",
    "        this.heapArray.add(data);\n",
    "        inserted_idx = this.heapArray.size() - 1;\n",
    "\n",
    "        while (this.move_up(inserted_idx)) {\n",
    "            parent_idx = inserted_idx / 2;\n",
    "            Collections.swap(heapArray, inserted_idx, parent_idx);\n",
    "            inserted_idx = parent_idx;\n",
    "        }\n",
    "        return true;\n",
    "    }\n",
    "\n",
    "    public boolean move_down(Integer popped_idx) {\n",
    "        Integer left_child_popped_idx, right_child_popped_idx;\n",
    "\n",
    "        left_child_popped_idx = popped_idx * 2;\n",
    "        right_child_popped_idx = popped_idx * 2 + 1;\n",
    "\n",
    "        // CASE1: 왼쪽 자식 노드도 없을 때\n",
    "        if (left_child_popped_idx >= this.heapArray.size()) {\n",
    "            return false;\n",
    "            // CASE2: 오른쪽 자식 노드만 없을 때\n",
    "        } else if (right_child_popped_idx >= this.heapArray.size()) {\n",
    "            if (this.heapArray.get(popped_idx) < this.heapArray.get(left_child_popped_idx)) {\n",
    "                return true;\n",
    "            } else {\n",
    "                return false;\n",
    "            }\n",
    "            // CASE3: 왼쪽, 오른쪽 자식 노드 모두 있을 때\n",
    "        } else {\n",
    "            if (this.heapArray.get(left_child_popped_idx) > this.heapArray.get(right_child_popped_idx)) {\n",
    "                if (this.heapArray.get(popped_idx) < this.heapArray.get(left_child_popped_idx)) {\n",
    "                    return true;\n",
    "                } else {\n",
    "                    return false;\n",
    "                }\n",
    "            } else {\n",
    "                if (this.heapArray.get(popped_idx) < this.heapArray.get(right_child_popped_idx)) {\n",
    "                    return true;\n",
    "                } else {\n",
    "                    return false;\n",
    "                }\n",
    "            }\n",
    "        }\n",
    "    }\n",
    "\n",
    "    public Integer pop() {\n",
    "        Integer returned_data, popped_idx, left_child_popped_idx, right_child_popped_idx;\n",
    "\n",
    "        if (this.heapArray.size() <= 1) {\n",
    "            return null;\n",
    "        }\n",
    "\n",
    "        returned_data = this.heapArray.get(1);\n",
    "        this.heapArray.set(1, this.heapArray.get(this.heapArray.size() - 1));\n",
    "        this.heapArray.remove(this.heapArray.size() - 1);\n",
    "        popped_idx = 1;\n",
    "\n",
    "        while (this.move_down(popped_idx)) {\n",
    "            left_child_popped_idx = popped_idx * 2;\n",
    "            right_child_popped_idx = popped_idx * 2 + 1;\n",
    "\n",
    "            if (right_child_popped_idx >= this.heapArray.size()) {\n",
    "                if (this.heapArray.get(popped_idx) < this.heapArray.get(left_child_popped_idx)) {\n",
    "                    Collections.swap(this.heapArray, popped_idx, left_child_popped_idx);\n",
    "                    popped_idx = left_child_popped_idx;\n",
    "                }\n",
    "            } else {\n",
    "                if (this.heapArray.get(left_child_popped_idx) > this.heapArray.get(right_child_popped_idx)) {\n",
    "                    if (this.heapArray.get(popped_idx) < this.heapArray.get(left_child_popped_idx)) {\n",
    "                        Collections.swap(this.heapArray, popped_idx, left_child_popped_idx);\n",
    "                        popped_idx = left_child_popped_idx;\n",
    "                    }\n",
    "                } else {\n",
    "                    if (this.heapArray.get(popped_idx) < this.heapArray.get(right_child_popped_idx)) {\n",
    "                        Collections.swap(this.heapArray, popped_idx, right_child_popped_idx);\n",
    "                        popped_idx = right_child_popped_idx;\n",
    "                    }\n",
    "                }\n",
    "            }\n",
    "        }\n",
    "        return returned_data;\n",
    "    }\n",
    "\n",
    "    public static void main(String[] args) {\n",
    "        Heap heapTest = new Heap(15);\n",
    "        heapTest.insert(10);\n",
    "        heapTest.insert(8);\n",
    "        heapTest.insert(5);\n",
    "        heapTest.insert(4);\n",
    "        heapTest.insert(20);\n",
    "        System.out.println(heapTest.heapArray);\n",
    "\n",
    "        heapTest.pop();\n",
    "        System.out.println(heapTest.heapArray);\n",
    "    }\n",
    "}"
   ]
  },
  {
   "cell_type": "markdown",
   "metadata": {},
   "source": [
    "### 그림과 같이 테스트하기\n",
    "<img src=\"https://www.fun-coding.org/00_Images/heap_remove.png\">"
   ]
  },
  {
   "cell_type": "code",
   "execution_count": 2,
   "metadata": {},
   "outputs": [
    {
     "name": "stdout",
     "output_type": "stream",
     "text": [
      "[null, 20, 10, 15, 5, 4, 8]\n",
      "[null, 15, 10, 8, 5, 4]\n"
     ]
    }
   ],
   "source": [
    "Heap.main(new String[0]);"
   ]
  },
  {
   "cell_type": "markdown",
   "metadata": {},
   "source": [
    "### 5. 힙 (Heap) 시간 복잡도\n",
    "  - depth (트리의 높이) 를 h라고 표기한다면,\n",
    "  - n개의 노드를 가지는 heap 에 데이터 삽입 또는 삭제시, 최악의 경우 root 노드에서 leaf 노드까지 비교해야 하므로 $h = log_2{n} $ 에 가까우므로, 시간 복잡도는 $ O(log{n}) $ \n",
    "     - 참고: 빅오 표기법에서 $log{n}$ 에서의 log의 밑은 10이 아니라, 2입니다.\n",
    "     - 한번 실행시마다, 50%의 실행할 수도 있는 명령을 제거한다는 의미. 즉 50%의 실행시간을 단축시킬 수 있다는 것을 의미함\n"
   ]
  },
  {
   "cell_type": "markdown",
   "metadata": {},
   "source": [
    "<div class=\"alert alert-block\" style=\"border: 1px solid #455A64;background-color:#ECEFF1;padding:5px;font-size:0.9em;\">\n",
    "본 자료와 관련 영상 컨텐츠는 저작권법 제25조 2항에 의해 보호를 받습니다. <br>본 컨텐츠 및 컨텐츠 일부 문구 등을 외부에 공개하거나, 요약해서 게시하지 말아주세요.\n",
    "</div>"
   ]
  }
 ],
 "metadata": {
  "kernelspec": {
   "display_name": "Java",
   "language": "java",
   "name": "java"
  },
  "language_info": {
   "codemirror_mode": "java",
   "file_extension": ".jshell",
   "mimetype": "text/x-java-source",
   "name": "Java",
   "pygments_lexer": "java",
   "version": "15.0.2+7-27"
  }
 },
 "nbformat": 4,
 "nbformat_minor": 4
}
