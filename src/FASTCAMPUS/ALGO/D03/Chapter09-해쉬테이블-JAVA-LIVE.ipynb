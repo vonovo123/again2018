{
 "cells": [
  {
   "cell_type": "markdown",
   "metadata": {},
   "source": [
    "<div class=\"alert alert-block\" style=\"border: 1px solid #455A64;background-color:#ECEFF1;padding:5px;font-size:0.9em;\">\n",
    "본 자료와 관련 영상 컨텐츠는 저작권법 제25조 2항에 의해 보호를 받습니다. <br>본 컨텐츠 및 컨텐츠 일부 문구 등을 외부에 공개하거나, 요약해서 게시하지 말아주세요.\n",
    "</div>"
   ]
  },
  {
   "cell_type": "markdown",
   "metadata": {},
   "source": [
    "## 대표적인 데이터 구조6: 해쉬 테이블 (Hash Table)\n",
    "\n",
    "### 1. 해쉬 테이블\n",
    "  - 키(Key)에 데이터(Value)를 매핑할 수 있는 데이터 구조\n",
    "  - 해쉬 함수를 통해, 배열에 키에 대한 데이터를 저장할 수 있는 주소(인덱스 번호)를 계산\n",
    "  - Key를 통해 바로 데이터가 저장되어 있는 주소를 알 수 있으므로, 저장 및 탐색 속도가 획기적으로 빨라짐\n",
    "  - 미리 해쉬 함수가 생성할 수 있는 주소(인덱스 번호)에 대한 공간을 배열로 할당한 후, 키에 따른 데이터 저장 및 탐색 지원"
   ]
  },
  {
   "cell_type": "markdown",
   "metadata": {},
   "source": [
    "  - 키(Key)에 데이터(Value)를 매핑할 수 있는 데이터 구조\n",
    "  - 해쉬 함수를 통해, 배열에 키에 대한 데이터를 저장할 수 있는 주소(인덱스 번호)를 계산\n",
    "  - Key를 통해 바로 데이터가 저장되어 있는 주소를 알 수 있으므로, 저장 및 탐색 속도가 획기적으로 빨라짐\n",
    "  - 미리 해쉬 함수가 생성할 수 있는 주소(인덱스 번호)에 대한 공간을 배열로 할당한 후, 키에 따른 데이터 저장 및 탐색 지원"
   ]
  },
  {
   "cell_type": "markdown",
   "metadata": {},
   "source": [
    "### 2. 알아둘 용어\n",
    "* 해쉬 함수(Hash Function): 임의의 데이터를 고정된 길이의 값으로 리턴해주는 함수\n",
    "  - 해쉬 (Hash), 해쉬 값(Hash Value), 또는 해쉬 주소(Hash Address): 해싱 함수를 통해 리턴된 고정된 길이의 값\n",
    "* 해쉬 테이블(Hash Table): 키 값의 연산에 의해 직접 접근이 가능한 데이터 구조\n",
    "  - 슬롯(Slot): 해쉬 테이블에서 한 개의 데이터를 저장할 수 있는 공간\n",
    "<img src=\"https://www.fun-coding.org/00_Images/hashtable2021.jpg\" />"
   ]
  },
  {
   "cell_type": "markdown",
   "metadata": {},
   "source": [
    "### 3. 간단한 해쉬 예"
   ]
  },
  {
   "cell_type": "markdown",
   "metadata": {},
   "source": [
    "#### 3.1. hash table 클래스 만들기"
   ]
  },
  {
   "cell_type": "code",
   "execution_count": 78,
   "metadata": {},
   "outputs": [],
   "source": [
    "public class MyHash {\n",
    "    public Slot[] hashTable;\n",
    "    \n",
    "    public MyHash(Integer size) {\n",
    "        this.hashTable = new Slot[size];\n",
    "    }\n",
    "    \n",
    "    public class Slot {\n",
    "        String value;\n",
    "        Slot(String value) {\n",
    "            this.value = value;\n",
    "        }\n",
    "    }\n",
    "}"
   ]
  },
  {
   "cell_type": "markdown",
   "metadata": {},
   "source": [
    "#### 3.2. 초간단 해쉬 함수를 만들어봅니다.\n",
    "- Key 가 문자열일 때, 문자열의 앞 글자를 숫자로 변환해서, Division 기법을 사용하여, Key에 대한 주소(인덱스 번호) 계산\n",
    "   - Division 기법: 가장 간단한 해쉬 함수 중 하나로, 나누기를 통해, 나머지 값을 사용하는 기법"
   ]
  },
  {
   "cell_type": "code",
   "execution_count": 79,
   "metadata": {},
   "outputs": [
    {
     "data": {
      "text/plain": [
       "D"
      ]
     },
     "execution_count": 79,
     "metadata": {},
     "output_type": "execute_result"
    }
   ],
   "source": [
    "String name = \"DaveLee\";\n",
    "name.charAt(0);"
   ]
  },
  {
   "cell_type": "code",
   "execution_count": 80,
   "metadata": {},
   "outputs": [
    {
     "data": {
      "text/plain": [
       "68"
      ]
     },
     "execution_count": 80,
     "metadata": {},
     "output_type": "execute_result"
    }
   ],
   "source": [
    "(int)(name.charAt(0));"
   ]
  },
  {
   "cell_type": "code",
   "execution_count": 81,
   "metadata": {},
   "outputs": [
    {
     "data": {
      "text/plain": [
       "8"
      ]
     },
     "execution_count": 81,
     "metadata": {},
     "output_type": "execute_result"
    }
   ],
   "source": [
    "String name = \"DaveLee\";\n",
    "(int)(name.charAt(0)) % 20"
   ]
  },
  {
   "cell_type": "markdown",
   "metadata": {},
   "source": [
    "#### 3.3 해쉬 테이블 클래스에 해쉬 함수 추가"
   ]
  },
  {
   "cell_type": "code",
   "execution_count": 82,
   "metadata": {},
   "outputs": [],
   "source": [
    "public class MyHash {\n",
    "    public Slot[] hashTable;\n",
    "    \n",
    "    public MyHash(Integer size) {\n",
    "        this.hashTable = new Slot[size];\n",
    "    }\n",
    "    \n",
    "    public class Slot {\n",
    "        String value;\n",
    "        Slot(String value) {\n",
    "            this.value = value;\n",
    "        }\n",
    "    }\n",
    "    \n",
    "    public int hashFunc(String key) {\n",
    "        return (int)(key.charAt(0)) % this.hashTable.length;\n",
    "    }\n",
    "}"
   ]
  },
  {
   "cell_type": "markdown",
   "metadata": {},
   "source": [
    "#### 3.3 해쉬 테이블 클래스에 데이터 저장 메서드 추가"
   ]
  },
  {
   "cell_type": "markdown",
   "metadata": {},
   "source": [
    "#### 참고: 객체 배열\n",
    "- 객체 배열 선언시, 각 배열의 아이템은 각 객체를 참조할 수 있는 주소를 담을 수 있는 공간만 할당\n",
    "  - 각 아이템 생성시, 별도로 각 객체를 생성해줘야 함\n",
    "  - 즉, 객체 배열 선언시, 각 생성할 객체를 가리킬 주소만 저장할 공간을 배열로 만드는 것임"
   ]
  },
  {
   "cell_type": "code",
   "execution_count": 83,
   "metadata": {},
   "outputs": [
    {
     "name": "stdout",
     "output_type": "stream",
     "text": [
      "null\n"
     ]
    }
   ],
   "source": [
    "public class Slot {\n",
    "    String value;\n",
    "    Slot(String value) {\n",
    "        this.value = value;\n",
    "    }\n",
    "}\n",
    "\n",
    "Slot[] hashTable = new Slot[20];\n",
    "System.out.println(hashTable[0]);"
   ]
  },
  {
   "cell_type": "code",
   "execution_count": 85,
   "metadata": {},
   "outputs": [
    {
     "name": "stdout",
     "output_type": "stream",
     "text": [
      "REPL.$JShell$40$Slot@5a20858a\n",
      "test\n"
     ]
    }
   ],
   "source": [
    "public class Slot {\n",
    "    String value;\n",
    "    Slot(String value) {\n",
    "        this.value = value;\n",
    "    }\n",
    "}\n",
    "\n",
    "Slot[] hashTable = new Slot[20];\n",
    "hashTable[0] = new Slot(\"test\");\n",
    "System.out.println(hashTable[0]);\n",
    "System.out.println(hashTable[0].value);"
   ]
  },
  {
   "cell_type": "markdown",
   "metadata": {},
   "source": [
    "#### 해쉬 테이블 클래스에 saveData() 메서드 추가"
   ]
  },
  {
   "cell_type": "code",
   "execution_count": 86,
   "metadata": {},
   "outputs": [],
   "source": [
    "public class MyHash {\n",
    "    public Slot[] hashTable;\n",
    "    \n",
    "    public MyHash(Integer size) {\n",
    "        this.hashTable = new Slot[size];\n",
    "    }\n",
    "    \n",
    "    public class Slot {\n",
    "        String value;\n",
    "        Slot(String value) {\n",
    "            this.value = value;\n",
    "        }\n",
    "    }\n",
    "    \n",
    "    public int hashFunc(String key) {\n",
    "        return (int)(key.charAt(0)) % this.hashTable.length;\n",
    "    }\n",
    "    \n",
    "    public boolean saveData(String key, String value) {\n",
    "        Integer address = this.hashFunc(key);\n",
    "        if (this.hashTable[address] != null) {\n",
    "            this.hashTable[address].value = value;\n",
    "        } else {\n",
    "            this.hashTable[address] = new Slot(value);\n",
    "        }\n",
    "        return true;\n",
    "    }\n",
    "}"
   ]
  },
  {
   "cell_type": "markdown",
   "metadata": {},
   "source": [
    "#### 3.4. 해쉬 테이블 클래스에 key 에 대한 데이터를 가져오는 메서드 추가"
   ]
  },
  {
   "cell_type": "code",
   "execution_count": 90,
   "metadata": {},
   "outputs": [],
   "source": [
    "public class MyHash {\n",
    "    public Slot[] hashTable;\n",
    "    \n",
    "    public MyHash(Integer size) {\n",
    "        this.hashTable = new Slot[size];\n",
    "    }\n",
    "    \n",
    "    public class Slot {\n",
    "        String value;\n",
    "        Slot(String value) {\n",
    "            this.value = value;\n",
    "        }\n",
    "    }\n",
    "    \n",
    "    public int hashFunc(String key) {\n",
    "        return (int)(key.charAt(0)) % this.hashTable.length;\n",
    "    }\n",
    "    \n",
    "    public boolean saveData(String key, String value) {\n",
    "        Integer address = this.hashFunc(key);\n",
    "        if (this.hashTable[address] != null) {\n",
    "            this.hashTable[address].value = value;\n",
    "        } else {\n",
    "            this.hashTable[address] = new Slot(value);\n",
    "        }\n",
    "        return true;\n",
    "    }\n",
    "    \n",
    "    public String getData(String key) {\n",
    "        Integer address = this.hashFunc(key);\n",
    "        if (this.hashTable[address] != null) {\n",
    "            return this.hashTable[address].value;\n",
    "        } else {\n",
    "            return null;\n",
    "        }\n",
    "    }\n",
    "}"
   ]
  },
  {
   "cell_type": "markdown",
   "metadata": {},
   "source": [
    "#### 3.5. 테스트"
   ]
  },
  {
   "cell_type": "code",
   "execution_count": 91,
   "metadata": {},
   "outputs": [
    {
     "data": {
      "text/plain": [
       "01033334444"
      ]
     },
     "execution_count": 91,
     "metadata": {},
     "output_type": "execute_result"
    }
   ],
   "source": [
    "MyHash mainObject = new MyHash(20);\n",
    "mainObject.saveData(\"DaveLee\", \"01022223333\");\n",
    "mainObject.saveData(\"fun-coding\", \"01033334444\");\n",
    "mainObject.getData(\"fun-coding\");"
   ]
  },
  {
   "cell_type": "markdown",
   "metadata": {},
   "source": [
    "### 4. 자료 구조 해쉬 테이블의 장단점과 주요 용도\n",
    "- 장점\n",
    "  - 데이터 저장/읽기 속도가 빠르다. (검색 속도가 빠르다.)\n",
    "  - 해쉬는 키에 대한 데이터가 있는지(중복) 확인이 쉬움\n",
    "- 단점 \n",
    "  - 일반적으로 저장공간이 좀더 많이 필요하다.\n",
    "  - **여러 키에 해당하는 주소가 동일할 경우 충돌을 해결하기 위한 별도 자료구조가 필요함**\n",
    "- 주요 용도\n",
    "  - 검색이 많이 필요한 경우\n",
    "  - 저장, 삭제, 읽기가 빈번한 경우\n",
    "  - 캐쉬 구현시 (중복 확인이 쉽기 때문)"
   ]
  },
  {
   "cell_type": "markdown",
   "metadata": {},
   "source": [
    "### 5. 충돌(Collision) 해결 알고리즘 (좋은 해쉬 함수 사용하기)\n",
    "> 해쉬 테이블의 가장 큰 문제는 충돌(Collision)의 경우입니다. 이 문제를 충돌(Collision) 또는 해쉬 충돌(Hash Collision)이라고 부릅니다."
   ]
  },
  {
   "cell_type": "markdown",
   "metadata": {},
   "source": [
    "#### 기존 알고리즘의 문제점"
   ]
  },
  {
   "cell_type": "code",
   "execution_count": 95,
   "metadata": {},
   "outputs": [
    {
     "data": {
      "text/plain": [
       "01055556666"
      ]
     },
     "execution_count": 95,
     "metadata": {},
     "output_type": "execute_result"
    }
   ],
   "source": [
    "MyHash mainObject = new MyHash(20);\n",
    "mainObject.saveData(\"DaveLee\", \"01022223333\");\n",
    "mainObject.saveData(\"fun-coding\", \"01033334444\");\n",
    "mainObject.saveData(\"David\", \"01044445555\");\n",
    "mainObject.saveData(\"Dave\", \"01055556666\");\n",
    "mainObject.getData(\"DaveLee\");"
   ]
  },
  {
   "cell_type": "markdown",
   "metadata": {},
   "source": [
    "### 5.1. Chaining 기법\n",
    "- **개방 해슁 또는 Open Hashing 기법** 중 하나: 해쉬 테이블 저장공간 외의 공간을 활용하는 기법\n",
    "- 충돌이 일어나면, 링크드 리스트라는 자료 구조를 사용해서, 링크드 리스트로 데이터를 추가로 뒤에 연결시켜서 저장하는 기법"
   ]
  },
  {
   "cell_type": "markdown",
   "metadata": {},
   "source": [
    "<div class=\"alert alert-block\" style=\"border: 1px solid #FFB300;background-color:#F9FBE7;font-size:1em;line-height:1.4em\">\n",
    "<font size=\"3em\" style=\"font-weight:bold;color:#3f8dbf;\">연습해보기</font><br><br>\n",
    "기존 알고리즘에 Chaining 기법을 구현해보기 <br>\n",
    "\n",
    "> 직접 작성해보면, 해당 기법이 완벽히 이해가 됩니다.\n",
    "</div>"
   ]
  },
  {
   "cell_type": "code",
   "execution_count": 97,
   "metadata": {},
   "outputs": [],
   "source": [
    "public class MyHash {\n",
    "    public Slot[] hashTable;\n",
    "    \n",
    "    public MyHash(Integer size) {\n",
    "        this.hashTable = new Slot[size];\n",
    "    }\n",
    "    \n",
    "    public class Slot {\n",
    "        String key;\n",
    "        String value;\n",
    "        Slot next;\n",
    "        Slot(String key, String value) {\n",
    "            this.key = key;\n",
    "            this.value = value;\n",
    "            this.next = null;\n",
    "        }\n",
    "    }\n",
    "    \n",
    "    public int hashFunc(String key) {\n",
    "        return (int)(key.charAt(0)) % this.hashTable.length;\n",
    "    }\n",
    "    \n",
    "    public boolean saveData(String key, String value) {\n",
    "        Integer address = this.hashFunc(key);\n",
    "        if (this.hashTable[address] != null) {\n",
    "            Slot findSlot = this.hashTable[address];\n",
    "            Slot prevSlot = this.hashTable[address];\n",
    "            while (findSlot != null) {\n",
    "                if (findSlot.key == key) {\n",
    "                    findSlot.value = value;\n",
    "                    return true;\n",
    "                } else {\n",
    "                    prevSlot = findSlot;\n",
    "                    findSlot = findSlot.next;\n",
    "                }\n",
    "            }\n",
    "            prevSlot.next = new Slot(key, value);\n",
    "        } else {\n",
    "            this.hashTable[address] = new Slot(key, value);\n",
    "        }\n",
    "        return true;\n",
    "    }\n",
    "    \n",
    "    public String getData(String key) {\n",
    "        Integer address = this.hashFunc(key);\n",
    "        if (this.hashTable[address] != null) {\n",
    "            Slot findSlot = this.hashTable[address];\n",
    "            while (findSlot != null) {\n",
    "                if (findSlot.key == key) {\n",
    "                    return findSlot.value;\n",
    "                } else {\n",
    "                    findSlot = findSlot.next;\n",
    "                }\n",
    "            }\n",
    "            return null;\n",
    "        } else {\n",
    "            return null;\n",
    "        }\n",
    "    }\n",
    "}"
   ]
  },
  {
   "cell_type": "markdown",
   "metadata": {},
   "source": [
    "#### 테스트"
   ]
  },
  {
   "cell_type": "code",
   "execution_count": 101,
   "metadata": {},
   "outputs": [
    {
     "data": {
      "text/plain": [
       "01055556666"
      ]
     },
     "execution_count": 101,
     "metadata": {},
     "output_type": "execute_result"
    }
   ],
   "source": [
    "MyHash mainObject = new MyHash(20);\n",
    "mainObject.saveData(\"DaveLee\", \"01022223333\");\n",
    "mainObject.saveData(\"fun-coding\", \"01033334444\");\n",
    "mainObject.saveData(\"David\", \"01044445555\");\n",
    "mainObject.saveData(\"Dave\", \"01055556666\");\n",
    "mainObject.getData(\"Dave\");"
   ]
  },
  {
   "cell_type": "markdown",
   "metadata": {},
   "source": [
    "### 5.2. Linear Probing 기법\n",
    "- **폐쇄 해슁 또는 Close Hashing 기법** 중 하나: 해쉬 테이블 저장공간 안에서 충돌 문제를 해결하는 기법\n",
    "- 충돌이 일어나면, 해당 hash address의 다음 address부터 맨 처음 나오는 빈공간에 저장하는 기법\n",
    "  - 저장공간 활용도를 높이기 위한 기법"
   ]
  },
  {
   "cell_type": "markdown",
   "metadata": {},
   "source": [
    "<div class=\"alert alert-block\" style=\"border: 1px solid #FFB300;background-color:#F9FBE7;font-size:1em;line-height:1.4em\">\n",
    "<font size=\"3em\" style=\"font-weight:bold;color:#3f8dbf;\">연습해보기</font><br><br>\n",
    "기존 알고리즘에 Linear Probing 기법을 구현해보기 <br>\n",
    "\n",
    "> 직접 작성해보면, 해당 기법이 완벽히 이해가 됩니다.\n",
    "</div>"
   ]
  },
  {
   "cell_type": "code",
   "execution_count": 102,
   "metadata": {},
   "outputs": [],
   "source": [
    "public class MyHash {\n",
    "    public Slot[] hashTable;\n",
    "    \n",
    "    public MyHash(Integer size) {\n",
    "        this.hashTable = new Slot[size];\n",
    "    }\n",
    "    \n",
    "    public class Slot {\n",
    "        String key;\n",
    "        String value;\n",
    "        Slot(String key, String value) {\n",
    "            this.key = key;\n",
    "            this.value = value;\n",
    "        }\n",
    "    }\n",
    "    \n",
    "    public int hashFunc(String key) {\n",
    "        return (int)(key.charAt(0)) % this.hashTable.length;\n",
    "    }\n",
    "    \n",
    "    public boolean saveData(String key, String value) {\n",
    "        Integer address = this.hashFunc(key);\n",
    "        if (this.hashTable[address] != null) {\n",
    "            if (this.hashTable[address].key == key) {\n",
    "                this.hashTable[address].value = value;\n",
    "                return true;\n",
    "            } else {\n",
    "                Integer currAddress = address + 1;\n",
    "                while (this.hashTable[currAddress] != null) {\n",
    "                    if (this.hashTable[currAddress].key == key) {\n",
    "                        this.hashTable[currAddress].value = value;\n",
    "                        return true;\n",
    "                    } else {\n",
    "                        currAddress++;\n",
    "                        if (currAddress >= this.hashTable.length) {\n",
    "                            return false;\n",
    "                        }                        \n",
    "                    }\n",
    "                }\n",
    "                this.hashTable[currAddress] = new Slot(key, value);\n",
    "                return true;\n",
    "            }\n",
    "        } else {\n",
    "            this.hashTable[address] = new Slot(key, value);\n",
    "        }\n",
    "        return true;\n",
    "    }\n",
    "    \n",
    "    public String getData(String key) {\n",
    "        Integer address = this.hashFunc(key);\n",
    "        if (this.hashTable[address] != null) {\n",
    "            if (this.hashTable[address].key == key) {\n",
    "                return this.hashTable[address].value;\n",
    "            } else {\n",
    "                // 참고: 다음 코드를 수정합니다.\n",
    "                // Integer currAddress = address + 1;                 \n",
    "                // 예외 케이스로, 키에 해당하는 주소가 가장 마지막 슬롯일 경우, \n",
    "                // this.hashTable[address + 1] 에 해당하는 배열은 없기 때문에, \n",
    "                // 예외 케이스에서도 동작하도록 currAddress 는 address 만 대입하고 진행합니다\n",
    "                Integer currAddress = address; // 수정 \n",
    "                while (this.hashTable[currAddress] != null) {\n",
    "                    if (this.hashTable[currAddress].key == key) {\n",
    "                        return this.hashTable[currAddress].value;\n",
    "                    } else {\n",
    "                        currAddress++;\n",
    "                        if (currAddress >= this.hashTable.length) {\n",
    "                            return null;\n",
    "                        }\n",
    "                    }\n",
    "                }\n",
    "                return null;\n",
    "            }\n",
    "        } else {\n",
    "            return null;\n",
    "        }\n",
    "    }\n",
    "}"
   ]
  },
  {
   "cell_type": "code",
   "execution_count": 106,
   "metadata": {},
   "outputs": [
    {
     "data": {
      "text/plain": [
       "01033334444"
      ]
     },
     "execution_count": 106,
     "metadata": {},
     "output_type": "execute_result"
    }
   ],
   "source": [
    "MyHash mainObject = new MyHash(20);\n",
    "mainObject.saveData(\"DaveLee\", \"01022223333\");\n",
    "mainObject.saveData(\"fun-coding\", \"01033334444\");\n",
    "mainObject.saveData(\"David\", \"01044445555\");\n",
    "mainObject.saveData(\"Dave\", \"01055556666\");\n",
    "mainObject.getData(\"fun-coding\");"
   ]
  },
  {
   "cell_type": "markdown",
   "metadata": {},
   "source": [
    "### 5.3. 빈번한 충돌을 개선하는 기법\n",
    "- 해쉬 테이블 저장공간을 확대 및 해쉬 함수 재정의"
   ]
  },
  {
   "cell_type": "code",
   "execution_count": 111,
   "metadata": {},
   "outputs": [
    {
     "data": {
      "text/plain": [
       "184"
      ]
     },
     "execution_count": 111,
     "metadata": {},
     "output_type": "execute_result"
    }
   ],
   "source": [
    "String name = \"Dave\";\n",
    "int key = 0;\n",
    "for (int i = 0; i < name.length(); i++) {\n",
    "    key += name.charAt(i);\n",
    "}\n",
    "\n",
    "(int)(key) % 200"
   ]
  },
  {
   "cell_type": "markdown",
   "metadata": {},
   "source": [
    "### 최종 코드 (프로젝트: CH11_HASHTABLE)\n",
    "- 5.2 절 코드로 작성"
   ]
  },
  {
   "cell_type": "code",
   "execution_count": null,
   "metadata": {},
   "outputs": [],
   "source": [
    "public class MyHash {\n",
    "    public Slot[] hashTable;\n",
    "    \n",
    "    public MyHash(Integer size) {\n",
    "        this.hashTable = new Slot[size];\n",
    "    }\n",
    "    \n",
    "    public class Slot {\n",
    "        String key;\n",
    "        String value;\n",
    "        Slot(String key, String value) {\n",
    "            this.key = key;\n",
    "            this.value = value;\n",
    "        }\n",
    "    }\n",
    "    \n",
    "    public int hashFunc(String key) {\n",
    "        return (int)(key.charAt(0)) % this.hashTable.length;\n",
    "    }\n",
    "    \n",
    "    public boolean saveData(String key, String value) {\n",
    "        Integer address = this.hashFunc(key);\n",
    "        if (this.hashTable[address] != null) {\n",
    "            if (this.hashTable[address].key == key) {\n",
    "                this.hashTable[address].value = value;\n",
    "                return true;\n",
    "            } else {\n",
    "                Integer currAddress = address + 1;\n",
    "                while (this.hashTable[currAddress] != null) {\n",
    "                    if (this.hashTable[currAddress].key == key) {\n",
    "                        this.hashTable[currAddress].value = value;\n",
    "                        return true;\n",
    "                    } else {\n",
    "                        currAddress++;\n",
    "                        if (currAddress >= this.hashTable.length) {\n",
    "                            return false;\n",
    "                        }                        \n",
    "                    }\n",
    "                }\n",
    "                this.hashTable[currAddress] = new Slot(key, value);\n",
    "                return true;\n",
    "            }\n",
    "        } else {\n",
    "            this.hashTable[address] = new Slot(key, value);\n",
    "        }\n",
    "        return true;\n",
    "    }\n",
    "    \n",
    "    public String getData(String key) {\n",
    "        Integer address = this.hashFunc(key);\n",
    "        if (this.hashTable[address] != null) {\n",
    "            if (this.hashTable[address].key == key) {\n",
    "                return this.hashTable[address].value;\n",
    "            } else {\n",
    "                // 참고: 다음 코드를 수정합니다.\n",
    "                // Integer currAddress = address + 1;                 \n",
    "                // 예외 케이스로, 키에 해당하는 주소가 가장 마지막 슬롯일 경우, \n",
    "                // this.hashTable[address + 1] 에 해당하는 배열은 없기 때문에, \n",
    "                // 예외 케이스에서도 동작하도록 currAddress 는 address 만 대입하고 진행합니다\n",
    "                Integer currAddress = address; // 수정 \n",
    "                while (this.hashTable[currAddress] != null) {\n",
    "                    if (this.hashTable[currAddress].key == key) {\n",
    "                        return this.hashTable[currAddress].value;\n",
    "                    } else {\n",
    "                        currAddress++;\n",
    "                        if (currAddress >= this.hashTable.length) {\n",
    "                            return null;\n",
    "                        }\n",
    "                    }\n",
    "                }\n",
    "                return null;\n",
    "            }\n",
    "        } else {\n",
    "            return null;\n",
    "        }\n",
    "    }\n",
    "}"
   ]
  },
  {
   "cell_type": "markdown",
   "metadata": {},
   "source": [
    "### 참고: JAVA HashMap\n",
    "- 해쉬 테이블 구조를 활용하여 구현된 JAVA Collection Framework 에 속한 클래스\n",
    "\n",
    "> JAVA 문법 강의는 아니지만, 참고로 관련 기능을 가진 클래스를 소개하며, 이후 알고리즘 강의에서 코드 구현에 필요한 자료구조 기능으로 HashMap 을 활용할 예정"
   ]
  },
  {
   "cell_type": "code",
   "execution_count": 115,
   "metadata": {},
   "outputs": [],
   "source": [
    "import java.util.HashMap;\n",
    "\n",
    "HashMap<Integer, String> map1 = new HashMap();\n",
    "map1.put(1, \"사과\");\n",
    "map1.put(2, \"바나나\");\n",
    "map1.put(3, \"포도\");\n",
    "\n",
    "HashMap<String, String> map2 = new HashMap();\n",
    "map2.put(\"DaveLee\", \"01033334444\");\n",
    "map2.put(\"Dave\", \"01032221111\");\n",
    "map2.put(\"David\", \"0104445555\");"
   ]
  },
  {
   "cell_type": "code",
   "execution_count": 116,
   "metadata": {},
   "outputs": [
    {
     "data": {
      "text/plain": [
       "바나나"
      ]
     },
     "execution_count": 116,
     "metadata": {},
     "output_type": "execute_result"
    }
   ],
   "source": [
    "map1.get(2);"
   ]
  },
  {
   "cell_type": "code",
   "execution_count": 117,
   "metadata": {},
   "outputs": [
    {
     "data": {
      "text/plain": [
       "01032221111"
      ]
     },
     "execution_count": 117,
     "metadata": {},
     "output_type": "execute_result"
    }
   ],
   "source": [
    "map2.get(\"Dave\");"
   ]
  },
  {
   "cell_type": "markdown",
   "metadata": {},
   "source": [
    "### 7. 시간 복잡도\n",
    "- 일반적인 경우(Collision이 없는 경우)는 O(1)\n",
    "- 최악의 경우(Collision이 모두 발생하는 경우)는 O(n)\n",
    "- Linear Probing, Chaining 기법 둘 다 동일\n",
    "\n",
    "> 해쉬 테이블의 경우는 일반적인 경우를 기대하고 작성함\n",
    "\n",
    "### 검색에서 해쉬 테이블의 사용 예\n",
    "- 배열에 데이터를 저장하고, 검색할 때 O(n)\n",
    "- 이상적인 해쉬 테이블 케이스에서 데이터를 검색할 때 O(1)"
   ]
  },
  {
   "cell_type": "markdown",
   "metadata": {},
   "source": [
    "<div class=\"alert alert-block\" style=\"border: 1px solid #455A64;background-color:#ECEFF1;padding:5px;font-size:0.9em;\">\n",
    "본 자료와 관련 영상 컨텐츠는 저작권법 제25조 2항에 의해 보호를 받습니다. <br>본 컨텐츠 및 컨텐츠 일부 문구 등을 외부에 공개하거나, 요약해서 게시하지 말아주세요.\n",
    "</div>"
   ]
  }
 ],
 "metadata": {
  "kernelspec": {
   "display_name": "Java",
   "language": "java",
   "name": "java"
  },
  "language_info": {
   "codemirror_mode": "java",
   "file_extension": ".jshell",
   "mimetype": "text/x-java-source",
   "name": "Java",
   "pygments_lexer": "java",
   "version": "15.0.2+7-27"
  }
 },
 "nbformat": 4,
 "nbformat_minor": 4
}
