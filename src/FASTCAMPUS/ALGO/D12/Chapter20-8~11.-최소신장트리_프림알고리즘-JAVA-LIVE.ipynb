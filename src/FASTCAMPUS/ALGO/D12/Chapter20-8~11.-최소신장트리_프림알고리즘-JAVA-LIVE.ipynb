{
 "cells": [
  {
   "cell_type": "markdown",
   "metadata": {},
   "source": [
    "<div class=\"alert alert-block\" style=\"border: 1px solid #455A64;background-color:#ECEFF1;padding:5px;font-size:0.9em;\">\n",
    "본 자료와 관련 영상 컨텐츠는 저작권법 제25조 2항에 의해 보호를 받습니다. <br>본 컨텐츠 및 컨텐츠 일부 문구 등을 외부에 공개하거나, 요약해서 게시하지 말아주세요.\n",
    "</div>"
   ]
  },
  {
   "cell_type": "markdown",
   "metadata": {},
   "source": [
    "## 최소 신장 트리의 이해"
   ]
  },
  {
   "cell_type": "markdown",
   "metadata": {},
   "source": [
    "### 1. 프림 알고리즘 (Prim's algorithm)\n",
    "- 대표적인 최소 신장 트리 알고리즘\n",
    "  - Kruskal’s algorithm (크루스칼 알고리즘), Prim's algorithm (프림 알고리즘)\n",
    "- 프림 알고리즘 \n",
    "  - 시작 정점을 선택한 후, 정점에 인접한 간선중 최소 간선으로 연결된 정점을 선택하고, 해당 정점에서 다시 최소 간선으로 연결된 정점을 선택하는 방식으로 최소 신장 트리를 확장해가는 방식\n",
    "- Kruskal's algorithm 과 Prim's algorithm 비교\n",
    "  - 둘다, 탐욕 알고리즘을 기초로 하고 있음 (당장 눈 앞의 최소 비용을 선택해서, 결과적으로 최적의 솔루션을 찾음)\n",
    "  - Kruskal's algorithm은 가장 가중치가 작은 간선부터 선택하면서 MST를 구함\n",
    "  - Prim's algorithm은 특정 정점에서 시작, 해당 정점에 연결된 가장 가중치가 작은 간선을 선택, 간선으로 연결된 정점들에 연결된 간선 중에서 가장 가중치가 작은 간선을 택하는 방식으로 MST를 구함"
   ]
  },
  {
   "cell_type": "markdown",
   "metadata": {},
   "source": [
    "### 2. 그림으로 이해하는 프림 알고리즘\n",
    "1. 임의의 정점을 선택, '연결된 노드 집합'에 삽입\n",
    "2. 선택된 정점에 연결된 간선들을 간선 리스트에 삽입\n",
    "3. 간선 리스트에서 최소 가중치를 가지는 간선부터 추출해서,\n",
    "   - 해당 간선에 연결된 인접 정점이 '연결된 노드 집합'에 이미 들어 있다면, 스킵함(cycle 발생을 막기 위함)\n",
    "   - 해당 간선에 연결된 인접 정점이 '연결된 노드 집합'에 들어 있지 않으면, 해당 간선을 선택하고, 해당 간선 정보를 '최소 신장 트리'에 삽입\n",
    "4. 추출한 간선은 간선 리스트에서 제거\n",
    "5. 간선 리스트에 더 이상의 간선이 없을 때까지 3-4번을 반복"
   ]
  },
  {
   "cell_type": "markdown",
   "metadata": {},
   "source": [
    "<img src=\"https://www.fun-coding.org/00_Images/prim_java_1.jpg\" width=800>"
   ]
  },
  {
   "cell_type": "markdown",
   "metadata": {},
   "source": [
    "<img src=\"https://www.fun-coding.org/00_Images/prim_java_2.jpg\" width=800>"
   ]
  },
  {
   "cell_type": "markdown",
   "metadata": {},
   "source": [
    "<img src=\"https://www.fun-coding.org/00_Images/prim_java_3.jpg\" width=800>"
   ]
  },
  {
   "cell_type": "markdown",
   "metadata": {},
   "source": [
    "### 3. 프림 알고리즘 (Prim's algorithm) 코드 작성"
   ]
  },
  {
   "cell_type": "markdown",
   "metadata": {},
   "source": [
    "### 참고: Edge 클래스 정의\n",
    "- 객체간 정렬 기준을 정의하기 위해, Comparable 인터페이스의 compareTo() 메서드 정의"
   ]
  },
  {
   "cell_type": "code",
   "execution_count": 1,
   "metadata": {},
   "outputs": [],
   "source": [
    "public class Edge implements Comparable<Edge> {\n",
    "    public int weight;\n",
    "    public String node1;\n",
    "    public String node2;\n",
    "    \n",
    "    public Edge(int weight, String node1, String node2) {\n",
    "        this.weight = weight;\n",
    "        this.node1 = node1;\n",
    "        this.node2 = node2;\n",
    "    }\n",
    "    \n",
    "    public String toString() {\n",
    "        return \"(\" + this.weight + \", \" + this.node1 + \", \" + this.node2 + \")\";\n",
    "    }\n",
    "    \n",
    "    @Override \n",
    "    public int compareTo(Edge edge) {\n",
    "        return this.weight - edge.weight;\n",
    "    }\n",
    "}"
   ]
  },
  {
   "cell_type": "markdown",
   "metadata": {},
   "source": [
    "### 참고: PriorityQueue  (우선순위 큐) 사용하기"
   ]
  },
  {
   "cell_type": "code",
   "execution_count": 2,
   "metadata": {},
   "outputs": [
    {
     "name": "stdout",
     "output_type": "stream",
     "text": [
      "(2, A, B)\n",
      "(3, C, A)\n",
      "(5, B, D)\n"
     ]
    }
   ],
   "source": [
    "import java.util.PriorityQueue;\n",
    "\n",
    "PriorityQueue<Edge> priorityQueue = new PriorityQueue<Edge>();\n",
    "priorityQueue.add(new Edge(2, \"A\", \"B\"));\n",
    "priorityQueue.add(new Edge(5, \"B\", \"D\"));\n",
    "priorityQueue.add(new Edge(3, \"C\", \"A\"));\n",
    "\n",
    "while (priorityQueue.size() > 0) {\n",
    "    System.out.println(priorityQueue.poll());\n",
    "}"
   ]
  },
  {
   "cell_type": "markdown",
   "metadata": {},
   "source": [
    "### 참고: HashMap 에 특정 키 존재 여부 확인\n",
    "- containsKey() 메서드 사용 가능"
   ]
  },
  {
   "cell_type": "code",
   "execution_count": 3,
   "metadata": {},
   "outputs": [],
   "source": [
    "import java.util.HashMap;\n",
    "\n",
    "HashMap<String, ArrayList<Edge>> graph = new HashMap<String, ArrayList<Edge>>();"
   ]
  },
  {
   "cell_type": "code",
   "execution_count": 5,
   "metadata": {},
   "outputs": [
    {
     "data": {
      "text/plain": [
       "true"
      ]
     },
     "execution_count": 5,
     "metadata": {},
     "output_type": "execute_result"
    }
   ],
   "source": [
    "graph.put(\"A\", new ArrayList<Edge>());\n",
    "graph.put(\"B\", new ArrayList<Edge>());\n",
    "\n",
    "graph.containsKey(\"B\");"
   ]
  },
  {
   "cell_type": "markdown",
   "metadata": {},
   "source": [
    "### 참고: 찾는 키(key)에 대한 값(value)가 없을 때, 디폴트 값 반환하기"
   ]
  },
  {
   "cell_type": "code",
   "execution_count": 6,
   "metadata": {},
   "outputs": [
    {
     "data": {
      "text/plain": [
       "[]"
      ]
     },
     "execution_count": 6,
     "metadata": {},
     "output_type": "execute_result"
    }
   ],
   "source": [
    "graph.getOrDefault(\"C\", new ArrayList<Edge>());"
   ]
  },
  {
   "cell_type": "markdown",
   "metadata": {},
   "source": [
    "### 프림 알고리즘 코드 (프로젝트: CH30_PRIM_BASIC) \n",
    "0. 모든 간선 정보를 저장 (**adjacentEdges**)\n",
    "1. 임의의 정점을 선택, '연결된 노드 집합(**connectedNodes**)'에 삽입\n",
    "2. 선택된 정점에 연결된 간선들을 간선 리스트(**candidateEdgeList**)에 삽입\n",
    "3. 간선 리스트(**candidateEdgeList**)에서 최소 가중치를 가지는 간선부터 추출해서,\n",
    "   - 해당 간선에 연결된 인접 정점이 '연결된 노드 집합'에 이미 들어 있다면, 스킵함(cycle 발생을 막기 위함)\n",
    "   - 해당 간선에 연결된 인접 정점이 '연결된 노드 집합'에 들어 있지 않으면, 해당 간선을 선택하고, 해당 간선 정보를 '최소 신장 트리(**mst**)'에 삽입\n",
    "     - 해당 간선에 연결된 인접 정점의 간선들 중, '연결된 노드 집합(**connectedNodes**)' 에 없는 노드와 연결된 간선들만 간선 리스트(**candidateEdgeList**) 에 삽입 \n",
    "       - '연결된 노드 집합(**connectedNodes**)' 에 있는 노드와 연결된 간선들을 간선 리스트에 삽입해도, 해당 간선은 스킵될 것이기 때문임\n",
    "       - 어차피 스킵될 간선을 간선 리스트(**candidateEdgeList**)에 넣지 않으므로 해서, 간선 리스트(**candidateEdgeList**)에서 최소 가중치를 가지는 간선부터 추출하기 위한 자료구조 유지를 위한 effort를 줄일 수 있음 (예, 최소힙 구조 사용)\n",
    "     \n",
    "     \n",
    "4. 선택된 간선은 간선 리스트에서 제거\n",
    "5. 간선 리스트에 더 이상의 간선이 없을 때까지 3-4번을 반복"
   ]
  },
  {
   "cell_type": "code",
   "execution_count": 8,
   "metadata": {},
   "outputs": [],
   "source": [
    "public class Edge implements Comparable<Edge> {\n",
    "    public int weight;\n",
    "    public String node1;\n",
    "    public String node2;\n",
    "    \n",
    "    public Edge(int weight, String node1, String node2) {\n",
    "        this.weight = weight;\n",
    "        this.node1 = node1;\n",
    "        this.node2 = node2;\n",
    "    }\n",
    "    \n",
    "    public String toString() {\n",
    "        return \"(\" + this.weight + \", \" + this.node1 + \", \" + this.node2 + \")\";\n",
    "    }\n",
    "    \n",
    "    @Override \n",
    "    public int compareTo(Edge edge) {\n",
    "        return this.weight - edge.weight;\n",
    "    }\n",
    "}"
   ]
  },
  {
   "cell_type": "code",
   "execution_count": 14,
   "metadata": {},
   "outputs": [
    {
     "data": {
      "text/plain": [
       "true"
      ]
     },
     "execution_count": 14,
     "metadata": {},
     "output_type": "execute_result"
    }
   ],
   "source": [
    "ArrayList<Edge> myedges = new ArrayList<Edge>();\n",
    "myedges.add(new Edge(7, \"A\", \"B\"));\n",
    "myedges.add(new Edge(5, \"A\", \"D\"));\n",
    "myedges.add(new Edge(8, \"B\", \"C\"));\n",
    "myedges.add(new Edge(9, \"B\", \"D\"));\n",
    "myedges.add(new Edge(7, \"D\", \"E\"));\n",
    "myedges.add(new Edge(5, \"C\", \"E\"));\n",
    "myedges.add(new Edge(7, \"B\", \"E\"));\n",
    "myedges.add(new Edge(6, \"D\", \"F\"));\n",
    "myedges.add(new Edge(8, \"E\", \"F\"));\n",
    "myedges.add(new Edge(9, \"E\", \"G\"));\n",
    "myedges.add(new Edge(11, \"F\", \"G\"));"
   ]
  },
  {
   "cell_type": "code",
   "execution_count": 13,
   "metadata": {},
   "outputs": [],
   "source": [
    "import java.util.HashMap;\n",
    "import java.util.PriorityQueue;\n",
    "\n",
    "public class PrimPath {\n",
    "    public ArrayList<Edge> primFunc(String startNode, ArrayList<Edge> edges) {\n",
    "        Edge currentEdge, poppedEdge, adjacentEdgeNode;\n",
    "        ArrayList<Edge> currentEdgeList, candidateEdgeList, adjacentEdgeNodes;\n",
    "        PriorityQueue<Edge> priorityQueue;\n",
    "        \n",
    "        ArrayList<String> connectedNodes = new ArrayList<String>();\n",
    "        ArrayList<Edge> mst = new ArrayList<Edge>();\n",
    "        HashMap<String, ArrayList<Edge>> adjacentEdges = new HashMap<String, ArrayList<Edge>>();\n",
    "        \n",
    "        for (int index = 0; index < edges.size(); index++) {\n",
    "            currentEdge = edges.get(index);\n",
    "            if (!adjacentEdges.containsKey(currentEdge.node1)) {\n",
    "                adjacentEdges.put(currentEdge.node1, new ArrayList<Edge>());\n",
    "            }\n",
    "            if (!adjacentEdges.containsKey(currentEdge.node2)) {\n",
    "                adjacentEdges.put(currentEdge.node2, new ArrayList<Edge>());\n",
    "            }\n",
    "        }\n",
    "        \n",
    "        for (int index = 0; index < edges.size(); index++) {\n",
    "            currentEdge = edges.get(index);\n",
    "            currentEdgeList = adjacentEdges.get(currentEdge.node1);\n",
    "            currentEdgeList.add(new Edge(currentEdge.weight, currentEdge.node1, currentEdge.node2));\n",
    "            currentEdgeList = adjacentEdges.get(currentEdge.node2);\n",
    "            currentEdgeList.add(new Edge(currentEdge.weight, currentEdge.node2, currentEdge.node1));\n",
    "        }\n",
    "        \n",
    "        connectedNodes.add(startNode);\n",
    "        candidateEdgeList = adjacentEdges.getOrDefault(startNode, new ArrayList<Edge>());\n",
    "        priorityQueue = new PriorityQueue<Edge>();\n",
    "        for (int index = 0; index < candidateEdgeList.size(); index++) {\n",
    "            priorityQueue.add(candidateEdgeList.get(index));\n",
    "        }\n",
    "        \n",
    "        while (priorityQueue.size() > 0) {\n",
    "            poppedEdge = priorityQueue.poll();\n",
    "            if (!connectedNodes.contains(poppedEdge.node2)) {\n",
    "                // 해당 edge 를 mst 에 추가\n",
    "                connectedNodes.add(poppedEdge.node2);\n",
    "                mst.add(new Edge(poppedEdge.weight, poppedEdge.node1, poppedEdge.node2));\n",
    "                \n",
    "                adjacentEdgeNodes = adjacentEdges.getOrDefault(poppedEdge.node2, new ArrayList<Edge>());\n",
    "                for (int index = 0; index < adjacentEdgeNodes.size(); index++) {\n",
    "                    adjacentEdgeNode = adjacentEdgeNodes.get(index);\n",
    "                    if(!connectedNodes.contains(adjacentEdgeNode.node2)) {\n",
    "                        priorityQueue.add(adjacentEdgeNode);\n",
    "                    }\n",
    "                }\n",
    "            }\n",
    "        }\n",
    "        return mst;\n",
    "        \n",
    "    }\n",
    "}"
   ]
  },
  {
   "cell_type": "code",
   "execution_count": 16,
   "metadata": {},
   "outputs": [
    {
     "data": {
      "text/plain": [
       "[(5, A, D), (6, D, F), (7, A, B), (7, D, E), (5, E, C), (9, E, G)]"
      ]
     },
     "execution_count": 16,
     "metadata": {},
     "output_type": "execute_result"
    }
   ],
   "source": [
    "PrimPath pObject = new PrimPath();\n",
    "pObject.primFunc(\"A\", myedges);"
   ]
  },
  {
   "cell_type": "markdown",
   "metadata": {},
   "source": [
    "<img src=\"https://www.fun-coding.org/00_Images/prim_java_3.jpg\" width=800>"
   ]
  },
  {
   "cell_type": "markdown",
   "metadata": {},
   "source": [
    "### 4. 시간 복잡도\n",
    "  - 최악의 경우, while 구문에서 모든 간선에 대해 반복하고, 최소 힙 구조를 사용하므로 O($ElogE$) 시간 복잡도를 가짐"
   ]
  },
  {
   "cell_type": "markdown",
   "metadata": {},
   "source": [
    "### 참고: 개선된 프림 알고리즘\n",
    "- 간선이 아닌 노드를 중심으로 우선순위 큐를 적용하는 방식\n",
    "  - 초기화 - 정점:key 구조를 만들어놓고, 특정 정점의 key값은 0, 이외의 정점들의 key값은 무한대로 놓음.  모든 정점:key 값은 우선순위 큐에 넣음\n",
    "  - 가장 key값이 적은 정점:key를 추출한 후(pop 하므로 해당 정점:key 정보는 우선순위 큐에서 삭제됨), (extract min 로직이라고 부름)\n",
    "  - 해당 정점의 인접한 정점들에 대해 key 값과 연결된 가중치 값을 비교하여 key값이 작으면 해당 정점:key 값을 갱신\n",
    "    - 정점:key 값 갱신시, 우선순위 큐는 최소 key값을 가지는 정점:key 를 루트노드로 올려놓도록 재구성함 (decrease key 로직이라고 부름)"
   ]
  },
  {
   "cell_type": "markdown",
   "metadata": {},
   "source": [
    "- 개선된 프림 알고리즘 구현시 고려 사항\n",
    "  - 우선순위 큐(최소힙) 구조에서, 이미 들어가 있는 데이터의 값 변경시, 최소값을 가지는 데이터를 루트노드로 올려놓도록 재구성하는 기능이 필요함\n",
    "\n",
    "  \n",
    "> 이외에도 다양한 개선된 프림 알고리즘이 있지만, 기존 알고리즘이 우선순위큐를 사용하므로, 일관된 맥락에서 우선순위큐를 사용하여, 개선하는 알고리즘을 소개합니다."
   ]
  },
  {
   "cell_type": "markdown",
   "metadata": {},
   "source": [
    "### 최단 경로 저장 클래스 (프로젝트: CH30_PRIM_IMPROVED)"
   ]
  },
  {
   "cell_type": "code",
   "execution_count": 28,
   "metadata": {},
   "outputs": [],
   "source": [
    "class Path {\n",
    "    public String node1;\n",
    "    public String node2;\n",
    "    public int weight;\n",
    "    \n",
    "    public Path(String node1, String node2, int weight) {\n",
    "        this.node1 = node1;\n",
    "        this.node2 = node2;\n",
    "        this.weight = weight;\n",
    "    }\n",
    "    \n",
    "    public String toString() {\n",
    "        return \"(\" + this.node1 + \", \" + this.node2 + \", \" + this.weight + \")\";\n",
    "    }\n",
    "}"
   ]
  },
  {
   "cell_type": "code",
   "execution_count": 29,
   "metadata": {},
   "outputs": [],
   "source": [
    "class Edge implements Comparable<Edge> {\n",
    "    public String node;\n",
    "    public int weight;\n",
    "    \n",
    "    public Edge(String node, int weight) {\n",
    "        this.weight = weight;\n",
    "        this.node = node;\n",
    "    }\n",
    "    \n",
    "    public String toString() {\n",
    "        return \"(\" + this.weight + \", \" + this.node + \")\";\n",
    "    }\n",
    "    \n",
    "    @Override \n",
    "    public int compareTo(Edge edge) {\n",
    "        return this.weight - edge.weight;\n",
    "    }\n",
    "}"
   ]
  },
  {
   "cell_type": "markdown",
   "metadata": {},
   "source": [
    "### graph 데이터 자료구조화"
   ]
  },
  {
   "cell_type": "code",
   "execution_count": 30,
   "metadata": {},
   "outputs": [
    {
     "data": {
      "text/plain": [
       "{A={B=7, D=5}, B={A=7, C=8, D=9, E=7}, C={B=8, E=5}, D={A=5, B=9, E=7, F=6}, E={B=7, C=5, D=7, F=8, G=9}, F={D=6, E=8, G=11}, G={E=9, F=11}}"
      ]
     },
     "execution_count": 30,
     "metadata": {},
     "output_type": "execute_result"
    }
   ],
   "source": [
    "HashMap<String, HashMap<String, Integer>> mygraph = new HashMap<String, HashMap<String, Integer>>();\n",
    "\n",
    "HashMap<String, Integer> edges;\n",
    "edges = new HashMap<String, Integer>();\n",
    "edges.put(\"B\", 7);\n",
    "edges.put(\"D\", 5);\n",
    "mygraph.put(\"A\", edges);\n",
    "\n",
    "edges = new HashMap<String, Integer>();\n",
    "edges.put(\"A\", 7);\n",
    "edges.put(\"D\", 9);\n",
    "edges.put(\"C\", 8);\n",
    "edges.put(\"E\", 7);\n",
    "mygraph.put(\"B\", edges);\n",
    "\n",
    "edges = new HashMap<String, Integer>();\n",
    "edges.put(\"B\", 8);\n",
    "edges.put(\"E\", 5);\n",
    "mygraph.put(\"C\", edges);\n",
    "\n",
    "edges = new HashMap<String, Integer>();\n",
    "edges.put(\"A\", 5);\n",
    "edges.put(\"B\", 9);\n",
    "edges.put(\"E\", 7);\n",
    "edges.put(\"F\", 6);\n",
    "mygraph.put(\"D\", edges);\n",
    "\n",
    "edges = new HashMap<String, Integer>();\n",
    "edges.put(\"B\", 7);\n",
    "edges.put(\"C\", 5);\n",
    "edges.put(\"D\", 7);\n",
    "edges.put(\"F\", 8);\n",
    "edges.put(\"G\", 9);\n",
    "mygraph.put(\"E\", edges);\n",
    "\n",
    "edges = new HashMap<String, Integer>();\n",
    "edges.put(\"D\", 6);\n",
    "edges.put(\"E\", 8);\n",
    "edges.put(\"G\", 11);\n",
    "mygraph.put(\"F\", edges);\n",
    "\n",
    "edges = new HashMap<String, Integer>();\n",
    "edges.put(\"E\", 9);\n",
    "edges.put(\"F\", 11);\n",
    "mygraph.put(\"G\", edges);\n",
    "\n",
    "mygraph"
   ]
  },
  {
   "cell_type": "markdown",
   "metadata": {},
   "source": [
    "### 최종 코드\n",
    "- 실제 경로를 출력해보기 위해, ArrayList<Path> 자료구조 사용\n",
    "- 총 weight (총 거리)를 totalWeight 에 저장\n",
    "- 우선순위 큐를 통해 PriorityQueue<Edge> 힙구조를 사용하되,\n",
    "   - 우선순위 큐에 들어 있는 각 Edge 의 weight 조회와, 특정 Edge 삭제를 가능토록 각 Edge 객체를 별도 HashMap 으로 관리\n",
    "      -HashMap<String, Edge> keysObjects = new HashMap<String, Edge>()"
   ]
  },
  {
   "cell_type": "code",
   "execution_count": 31,
   "metadata": {},
   "outputs": [],
   "source": [
    "import java.util.HashMap;\n",
    "import java.util.ArrayList;\n",
    "import java.util.PriorityQueue;\n",
    "\n",
    "public class PrimPath {\n",
    "    public ArrayList<Path> improvedPrimFunc(HashMap<String, HashMap<String, Integer>> graph, String startNode) {\n",
    "        ArrayList<Path> mst = new ArrayList<Path>();\n",
    "        PriorityQueue<Edge> keys = new PriorityQueue<Edge>();\n",
    "        HashMap<String, Edge> keysObjects = new HashMap<String, Edge>();\n",
    "        HashMap<String, String> mstPath = new HashMap<String, String>();\n",
    "        Integer totalWeight = 0;\n",
    "        HashMap<String, Integer> linkedEdges;\n",
    "        Edge edgeObject, poppedEdge, linkedEdge;\n",
    "        \n",
    "        for (String key : graph.keySet()) {\n",
    "            if (key == startNode) {\n",
    "                edgeObject = new Edge(key, 0);\n",
    "                mstPath.put(key, key);\n",
    "            } else {\n",
    "                edgeObject = new Edge(key, Integer.MAX_VALUE);\n",
    "                mstPath.put(key, null);                    \n",
    "            }\n",
    "            keys.add(edgeObject);\n",
    "            keysObjects.put(key, edgeObject);\n",
    "        }\n",
    "        \n",
    "        while (keys.size() > 0) {\n",
    "            poppedEdge = keys.poll();\n",
    "            keysObjects.remove(poppedEdge.node);\n",
    "            \n",
    "            mst.add(new Path(mstPath.get(poppedEdge.node), poppedEdge.node, poppedEdge.weight));\n",
    "            totalWeight += poppedEdge.weight;\n",
    "            \n",
    "            linkedEdges = graph.get(poppedEdge.node);\n",
    "            for (String adjacent : linkedEdges.keySet()) {\n",
    "                if (keysObjects.containsKey(adjacent)) {\n",
    "                    linkedEdge = keysObjects.get(adjacent);\n",
    "                    \n",
    "                    if (linkedEdges.get(adjacent) < linkedEdge.weight) {\n",
    "                        linkedEdge.weight = linkedEdges.get(adjacent);\n",
    "                        mstPath.put(adjacent, poppedEdge.node);\n",
    "                        \n",
    "                        keys.remove(linkedEdge);\n",
    "                        keys.add(linkedEdge);\n",
    "                    }\n",
    "                }\n",
    "            }\n",
    "        }\n",
    "        \n",
    "        System.out.println(totalWeight);\n",
    "        return mst;\n",
    "    }\n",
    "}"
   ]
  },
  {
   "cell_type": "markdown",
   "metadata": {},
   "source": [
    "<img src=\"https://www.fun-coding.org/00_Images/prim_java_3.jpg\" width=800>"
   ]
  },
  {
   "cell_type": "code",
   "execution_count": 32,
   "metadata": {},
   "outputs": [
    {
     "name": "stdout",
     "output_type": "stream",
     "text": [
      "39\n"
     ]
    },
    {
     "data": {
      "text/plain": [
       "[(A, A, 0), (A, D, 5), (D, F, 6), (D, E, 7), (E, C, 5), (A, B, 7), (E, G, 9)]"
      ]
     },
     "execution_count": 32,
     "metadata": {},
     "output_type": "execute_result"
    }
   ],
   "source": [
    "PrimPath pObject = new PrimPath();\n",
    "pObject.improvedPrimFunc(mygraph, \"A\");"
   ]
  },
  {
   "cell_type": "markdown",
   "metadata": {},
   "source": [
    "### 개선된 프림 알고리즘의 시간 복잡도: $ O(ElogV) $\n",
    "- 최초 key 생성 시간 복잡도: $ O(V) $\n",
    "- while 구문과 keys.poll() 의 시간 복잡도는 $ O(VlogV) $\n",
    "  - while 구문은 V(노드 갯수) 번 실행됨\n",
    "  - heap 에서 최소 key 값을 가지는 노드 정보 추출 시(pop)의 시간 복잡도: $ O(logV) $\n",
    "- for 구문의 총 시간 복잡도는 $ O(ElogV) $\n",
    "  - for 구문은 while 구문 반복시에 결과적으로 총 최대 간선의 수 E만큼 실행 가능 $ O(E) $\n",
    "  - for 구문 안에서 key값 변경시마다 heap 구조를 변경해야 하며, heap 에는 최대 V 개의 정보가 있으므로 $ O(logV) $\n",
    "    > 일반적인 heap 자료 구조 자체에는 본래 heap 내부의 데이터 우선순위 변경시, 최소 우선순위 데이터를 루트노드로 만들어주는 로직은 없음. 이를 decrease key 로직이라고 부름, 해당 로직은 heapdict 라이브러리를 활용해서 간단히 적용가능"
   ]
  },
  {
   "cell_type": "markdown",
   "metadata": {},
   "source": [
    "- 따라서 총 시간 복잡도는 $ O(V + VlogV + ElogV) $ 이며,\n",
    "  - O(V)는 전체 시간 복잡도에 큰 영향을 미치지 않으므로 삭제,\n",
    "  - E > V 이므로 (최대 $ V^2 = E $ 가 될 수 있음), $ O((V + E)logV) $ 는 간단하게 $ O(ElogV) $ 로 나타낼 수 있음"
   ]
  },
  {
   "cell_type": "markdown",
   "metadata": {},
   "source": [
    "<div class=\"alert alert-block\" style=\"border: 1px solid #455A64;background-color:#ECEFF1;padding:5px;font-size:0.9em;\">\n",
    "본 자료와 관련 영상 컨텐츠는 저작권법 제25조 2항에 의해 보호를 받습니다. <br>본 컨텐츠 및 컨텐츠 일부 문구 등을 외부에 공개하거나, 요약해서 게시하지 말아주세요.\n",
    "</div>"
   ]
  }
 ],
 "metadata": {
  "kernelspec": {
   "display_name": "Java",
   "language": "java",
   "name": "java"
  },
  "language_info": {
   "codemirror_mode": "java",
   "file_extension": ".jshell",
   "mimetype": "text/x-java-source",
   "name": "Java",
   "pygments_lexer": "java",
   "version": "15.0.2+7-27"
  }
 },
 "nbformat": 4,
 "nbformat_minor": 4
}
