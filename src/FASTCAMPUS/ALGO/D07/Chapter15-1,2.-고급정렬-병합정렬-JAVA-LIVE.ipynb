{
 "cells": [
  {
   "cell_type": "markdown",
   "metadata": {},
   "source": [
    "<div class=\"alert alert-block\" style=\"border: 1px solid #455A64;background-color:#ECEFF1;padding:5px;font-size:0.9em;\">\n",
    "본 자료와 관련 영상 컨텐츠는 저작권법 제25조 2항에 의해 보호를 받습니다. <br>본 컨텐츠 및 컨텐츠 일부 문구 등을 외부에 공개하거나, 요약해서 게시하지 말아주세요.\n",
    "</div>"
   ]
  },
  {
   "cell_type": "markdown",
   "metadata": {},
   "source": [
    "## 대표적인 정렬4: 병합 정렬 (merge sort) "
   ]
  },
  {
   "cell_type": "markdown",
   "metadata": {},
   "source": [
    "### 1. 병합 정렬 (merge sort) \n",
    "* 재귀용법을 활용한 정렬 알고리즘\n",
    "  1. 리스트를 절반으로 잘라 비슷한 크기의 두 부분 리스트로 나눈다.\n",
    "  2. 각 부분 리스트를 재귀적으로 합병 정렬을 이용해 정렬한다.\n",
    "  3. 두 부분 리스트를 다시 하나의 정렬된 리스트로 합병한다.\n",
    "\n",
    "#### 직접 눈으로 보면 더 이해가 쉽다: https://visualgo.net/en/sorting\n",
    "\n",
    "<img src=\"https://upload.wikimedia.org/wikipedia/commons/c/cc/Merge-sort-example-300px.gif\" width=500/>\n",
    "\n",
    "출처: [위키피디아](https://ko.wikipedia.org/wiki/%ED%95%A9%EB%B3%91_%EC%A0%95%EB%A0%AC)\n"
   ]
  },
  {
   "cell_type": "markdown",
   "metadata": {},
   "source": [
    "### 2. 알고리즘 이해\n",
    "* 데이터가 네 개 일때 (데이터 갯수에 따라 복잡도가 떨어지는 것은 아니므로, 네 개로 바로 로직을 이해해보자.)\n",
    "* 두 단계로 분리해서 이해할 수 있음\n",
    "  - **1단계: 정렬되지 않은 배열을 끝까지 분리하는 단계**\n",
    "  - **2단계: 분리한 데이터를 단계별로 합치는 단계**\n",
    "<br><br>\n",
    "* 예: dataList = [1, 9, 3, 2]\n",
    "    - 먼저 [1, 9], [3, 2] 로 나누고\n",
    "    - 다시 앞 부분은 [1], [9] 로 나누고 **(여기까지 1단계)**\n",
    "    - 다시 정렬해서 합친다. [1, 9] **(이 부분부터 2단계)**\n",
    "    - 다음 [3, 2] 는 [3], [2] 로 나누고\n",
    "    - 다시 정렬해서 합친다 [2, 3]\n",
    "    - 이제 [1, 9] 와 [2, 3]을 합친다.\n",
    "      - 두 배열의 맨 앞에 위치한 데이터부터, 각각 비교하며, 정렬된 합쳐진 배열을 작성한다.\n",
    "        - 1 < 2 이니 [1]\n",
    "        - 9 > 2 이니 [1, 2]\n",
    "        - 9 > 3 이니 [1, 2, 3]\n",
    "        - 9 밖에 없으니, [1, 2, 3, 9]\n",
    "        \n",
    " > 복잡한 알고리즘이므로, 가능한 선명하게 이해하기 위해, 강의 영상에서 마련한 그림들과 함께 이해하기"
   ]
  },
  {
   "cell_type": "markdown",
   "metadata": {},
   "source": [
    "### 3. 알고리즘 구현"
   ]
  },
  {
   "cell_type": "markdown",
   "metadata": {},
   "source": [
    "### 작은 부분부터 작성해서 하나씩 구현하기"
   ]
  },
  {
   "cell_type": "markdown",
   "metadata": {},
   "source": [
    "<div class=\"alert alert-block\" style=\"border: 1px solid #FFB300;background-color:#F9FBE7;font-size:1em;line-height:1.4em\">\n",
    "<font size=\"4em\" style=\"font-weight:bold;color:#3f8dbf;\">프로그래밍 연습</font><br><br>\n",
    "- 배열을 앞뒤 두 배열로 짜르는 코드 작성해보기 (일반화)\n",
    "</div>"
   ]
  },
  {
   "cell_type": "code",
   "execution_count": 7,
   "metadata": {},
   "outputs": [],
   "source": [
    "public class Split {\n",
    "    public void splitFunc(ArrayList<Integer> dataList) {\n",
    "        if (dataList.size() <= 1) {\n",
    "            return ;\n",
    "        }\n",
    "        int medium = dataList.size() / 2;\n",
    "        \n",
    "        ArrayList<Integer> leftArr = new ArrayList<Integer>();\n",
    "        ArrayList<Integer> rightArr = new ArrayList<Integer>();\n",
    "        \n",
    "        leftArr = new ArrayList<Integer>(dataList.subList(0, medium)); // 0 부터 medium - 1 인덱스 번호까지 해당 배열 아이템을 서브 배열로 추출\n",
    "        rightArr = new ArrayList<Integer>(dataList.subList(medium, dataList.size()));\n",
    "        \n",
    "        System.out.println(leftArr);\n",
    "        System.out.println(rightArr);        \n",
    "    }\n",
    "}"
   ]
  },
  {
   "cell_type": "code",
   "execution_count": 9,
   "metadata": {},
   "outputs": [
    {
     "name": "stdout",
     "output_type": "stream",
     "text": [
      "[4, 1, 2]\n",
      "[3, 5, 7]\n"
     ]
    }
   ],
   "source": [
    "Split sObject = new Split();\n",
    "sObject.splitFunc(new ArrayList<Integer>(Arrays.asList(4, 1, 2, 3, 5, 7)));"
   ]
  },
  {
   "cell_type": "markdown",
   "metadata": {},
   "source": [
    "### mergeSplitFunc 메서드 틀 만들기 (재귀용법 틀 만들기)"
   ]
  },
  {
   "cell_type": "markdown",
   "metadata": {
    "solution2": "hidden",
    "solution2_first": true
   },
   "source": [
    "<div class=\"alert alert-block\" style=\"border: 1px solid #FFB300;background-color:#F9FBE7;font-size:1em;line-height:1.4em\">\n",
    "<font size=\"4em\" style=\"font-weight:bold;color:#3f8dbf;\">프로그래밍 연습</font><br><br>\n",
    "다음 문장을 코드로 작성해보기 (mergeFunc 함수는 아직은 없는 상태, 있다고만 가정)\n",
    "</div>"
   ]
  },
  {
   "cell_type": "markdown",
   "metadata": {},
   "source": [
    "  - 만약 배열 갯수가 한개이면 해당 값 리턴\n",
    "  - 그렇지 않으면, 배열을 앞 뒤, 두 개로 나누기\n",
    "  - leftArr = mergeSplitFunc(앞)\n",
    "  - rightArr = mergeSplitFunc(뒤)\n",
    "  - return mergeFunc(leftArr, rightArr) 라는 아직 정의되지 않은 메서드 호출하여, 리턴하기\n",
    "  \n",
    "  > mergeFunc() 메서드가 leftArr 과 rightArr 을 합쳐서 정렬한 배열을 리턴한다고 가정한다면, <br>\n",
    "  > leftArr 과 rightArr 은 이미 정렬된 배열임을 알 수 있음"
   ]
  },
  {
   "cell_type": "markdown",
   "metadata": {},
   "source": [
    "```java\n",
    "public ArrayList<Integer> mergeSplitFunc(ArrayList<Integer> dataList) {\n",
    "    if (dataList.size() <= 1) {\n",
    "        return dataList;\n",
    "    }\n",
    "    int medium = dataList.size() / 2;  \n",
    "\n",
    "    ArrayList<Integer> leftArr = new ArrayList<Integer>();\n",
    "    ArrayList<Integer> rightArr = new ArrayList<Integer>();\n",
    "\n",
    "    leftArr = mergeSplitFunc(new ArrayList<Integer>(dataList.subList(0, medium))); \n",
    "    rightArr = mergeSplitFunc(new ArrayList<Integer>(dataList.subList(medium, dataList.size()))); \n",
    "\n",
    "    return mergeFunc(leftArr, rightArr);\n",
    "}\n",
    "```"
   ]
  },
  {
   "cell_type": "markdown",
   "metadata": {},
   "source": [
    "### mergeFunc 메서드 만들기\n",
    "* 목표: leftList 와 rightList 의 배열 데이터를 정렬하며 합쳐서, mergedList 라는 이름으로 return 하기\n",
    "* leftList 와 rightList 는 이미 정렬된 상태 또는 데이터가 하나임"
   ]
  },
  {
   "cell_type": "markdown",
   "metadata": {},
   "source": [
    "  - ArrayList 만들기\n",
    "  - leftPoint, rightPoint = 0\n",
    "  - CASE1: leftList, RightList 둘 다 있을 때\n",
    "    - while (leftList.size() > leftPoint && rightList.size() > rightPoint)\n",
    "      - 만약 leftPoint 나 rightPoint 가 이미 leftList 또는 rightList 배열을 다 순회했다면, 그 반대쪽 데이터를 그대로 넣고, 해당 인덱스 1 증가\n",
    "      -  if (leftList.get(leftPoint) > rightList.get(rightPoint))\n",
    "         - mergedList.add(rightList.get(rightPoint));\n",
    "         - rightPoint += 1;\n",
    "      - else:\n",
    "         - mergedList.add(leftList.get(leftPoint));\n",
    "         - leftPoint += 1;\n",
    "  - CASE2: RightList 만 없을 때: 나머지 LeftList 에 있는 데이터를 그대로 mergedList 뒤에 넣음\n",
    "  - CASE3: LeftList 만 없을 때: 나머지 RightList 에 있는 데이터를 그대로 mergedList 뒤에 넣음"
   ]
  },
  {
   "cell_type": "code",
   "execution_count": 1,
   "metadata": {},
   "outputs": [],
   "source": [
    "public ArrayList<Integer> mergeFunc(ArrayList<Integer> leftList, ArrayList<Integer> rightList) {\n",
    "    ArrayList<Integer> mergedList = new ArrayList<Integer>();\n",
    "    int leftPoint = 0;\n",
    "    int rightPoint = 0;\n",
    "    \n",
    "     // CASE1: left/right 둘 다 있을 때\n",
    "    while (leftList.size() > leftPoint && rightList.size() > rightPoint) {\n",
    "        if (leftList.get(leftPoint) > rightList.get(rightPoint)) {\n",
    "            mergedList.add(rightList.get(rightPoint));\n",
    "            rightPoint += 1;\n",
    "        } else {\n",
    "            mergedList.add(leftList.get(leftPoint));\n",
    "            leftPoint += 1;\n",
    "        }\n",
    "    }\n",
    "\n",
    "    // CASE2: right 데이터가 없을 때\n",
    "    while (leftList.size() > leftPoint) {\n",
    "        mergedList.add(leftList.get(leftPoint));\n",
    "        leftPoint += 1;\n",
    "    }\n",
    "    \n",
    "    // CASE3: left 데이터가 없을 때\n",
    "    while (rightList.size() > rightPoint) {\n",
    "        mergedList.add(rightList.get(rightPoint));\n",
    "        rightPoint += 1;\n",
    "    }\n",
    "    \n",
    "    return mergedList;\n",
    "}"
   ]
  },
  {
   "cell_type": "markdown",
   "metadata": {},
   "source": [
    "### 최종 코드 (프로젝트: CH18_MERGESORT)"
   ]
  },
  {
   "cell_type": "code",
   "execution_count": 2,
   "metadata": {},
   "outputs": [],
   "source": [
    "import java.util.ArrayList;\n",
    "import java.util.Collections;\n",
    "\n",
    "public class MergeSort {\n",
    "    public ArrayList<Integer> mergeFunc(ArrayList<Integer> leftList, ArrayList<Integer> rightList) {\n",
    "        ArrayList<Integer> mergedList = new ArrayList<Integer>();\n",
    "        int leftPoint = 0;\n",
    "        int rightPoint = 0;\n",
    "\n",
    "         // CASE1: left/right 둘 다 있을 때\n",
    "        while (leftList.size() > leftPoint && rightList.size() > rightPoint) {\n",
    "            if (leftList.get(leftPoint) > rightList.get(rightPoint)) {\n",
    "                mergedList.add(rightList.get(rightPoint));\n",
    "                rightPoint += 1;\n",
    "            } else {\n",
    "                mergedList.add(leftList.get(leftPoint));\n",
    "                leftPoint += 1;\n",
    "            }\n",
    "        }\n",
    "\n",
    "        // CASE2: right 데이터가 없을 때\n",
    "        while (leftList.size() > leftPoint) {\n",
    "            mergedList.add(leftList.get(leftPoint));\n",
    "            leftPoint += 1;\n",
    "        }\n",
    "\n",
    "        // CASE3: left 데이터가 없을 때\n",
    "        while (rightList.size() > rightPoint) {\n",
    "            mergedList.add(rightList.get(rightPoint));\n",
    "            rightPoint += 1;\n",
    "        }\n",
    "\n",
    "        return mergedList;\n",
    "    }\n",
    "    \n",
    "    public ArrayList<Integer> mergeSplitFunc(ArrayList<Integer> dataList) {\n",
    "        if (dataList.size() <= 1) {\n",
    "            return dataList;\n",
    "        }\n",
    "        int medium = dataList.size() / 2;  \n",
    "\n",
    "        ArrayList<Integer> leftArr = new ArrayList<Integer>();\n",
    "        ArrayList<Integer> rightArr = new ArrayList<Integer>();\n",
    "\n",
    "        leftArr = this.mergeSplitFunc(new ArrayList<Integer>(dataList.subList(0, medium))); \n",
    "        rightArr = this.mergeSplitFunc(new ArrayList<Integer>(dataList.subList(medium, dataList.size()))); \n",
    "\n",
    "        return this.mergeFunc(leftArr, rightArr);\n",
    "    }\n",
    "    \n",
    "}"
   ]
  },
  {
   "cell_type": "code",
   "execution_count": 4,
   "metadata": {},
   "outputs": [
    {
     "data": {
      "text/plain": [
       "[0, 2, 2, 2, 2, 4, 4, 4, 6, 7, 7, 7, 9, 9, 10, 11, 11, 12, 12, 12, 16, 16, 17, 24, 24, 24, 26, 26, 27, 27, 30, 31, 32, 34, 34, 34, 35, 40, 43, 43, 43, 44, 44, 44, 47, 47, 47, 51, 53, 54, 54, 54, 55, 55, 56, 56, 58, 59, 61, 62, 62, 62, 66, 66, 68, 69, 69, 69, 71, 71, 73, 74, 75, 79, 80, 80, 80, 81, 82, 83, 85, 86, 86, 88, 89, 89, 90, 92, 93, 93, 93, 93, 93, 94, 95, 96, 97, 97, 98, 98]"
      ]
     },
     "execution_count": 4,
     "metadata": {},
     "output_type": "execute_result"
    }
   ],
   "source": [
    "ArrayList<Integer> testData = new ArrayList<Integer>();\n",
    "\n",
    "for (int index = 0; index < 100; index++) {\n",
    "    testData.add((int)(Math.random() * 100));\n",
    "}\n",
    "\n",
    "MergeSort mSort = new MergeSort();\n",
    "mSort.mergeSplitFunc(testData);"
   ]
  },
  {
   "cell_type": "markdown",
   "metadata": {},
   "source": [
    "### 4. 알고리즘 분석\n",
    "* 알고리즘 분석은 쉽지 않음, <font color='#BF360C'>이 부분은 참고로만 알아두자.</font>\n",
    "  - 다음을 보고 이해해보자\n",
    "    - 몇 단계 깊이까지 만들어지는지를 depth 라고 하고 i로 놓자. 맨 위 단계는 0으로 놓자.\n",
    "      - 다음 그림의 예에서 $ n /  2^2 $ 는 2단계 깊이를 의미하며, 각 분리된 배열을 노드라고 부르기로 합니다.\n",
    "      - 각 단계에 있는 하나의 노드 안의 배열 길이는 $\\frac { n }{ 2^i }$ 가 된다.\n",
    "      - 각 단계에는 $2^i$ 개의 노드가 있다.\n",
    "    - 각 단계의 각 노드 안의 배열 데이터는 한번씩은 체크되므로, 각 단계는 각각 <font size=4em>$2^i * \\frac { n }{ 2^i } = O(n)$ 시간 복잡도를 가짐</font>\n",
    "    - 단계는 항상 $log_2 n$ 개 만큼 만들어짐, 시간 복잡도는 결국 O(log n), 2는 역시 상수이므로 삭제\n",
    "    - 따라서, 단계별 시간 복잡도 O(n) * O(log n) = O(n log n)\n",
    "\n",
    "<img src=\"https://www.fun-coding.org/00_Images/mergesortcomplexity.png\" />\n"
   ]
  },
  {
   "cell_type": "markdown",
   "metadata": {},
   "source": [
    "<div class=\"alert alert-block\" style=\"border: 1px solid #FFB300;background-color:#F9FBE7;font-size:1em;line-height:1.4em\">\n",
    "<font size=\"4em\" style=\"font-weight:bold;color:#3f8dbf;\">프로그래밍 연습</font><br><br>\n",
    "- 설명한 병합 정렬을 알고리즘 연습 방법에 따라서, 관련 코드를 보지 않고, 직접 생각해서, 알고리즘 연습 방법에 따라, 작성해보세요\n",
    "</div>"
   ]
  },
  {
   "cell_type": "markdown",
   "metadata": {},
   "source": [
    "<div class=\"alert alert-block\" style=\"border: 1px solid #455A64;background-color:#ECEFF1;padding:5px;font-size:0.9em;\">\n",
    "본 자료와 관련 영상 컨텐츠는 저작권법 제25조 2항에 의해 보호를 받습니다. <br>본 컨텐츠 및 컨텐츠 일부 문구 등을 외부에 공개하거나, 요약해서 게시하지 말아주세요.\n",
    "</div>"
   ]
  }
 ],
 "metadata": {
  "kernelspec": {
   "display_name": "Java",
   "language": "java",
   "name": "java"
  },
  "language_info": {
   "codemirror_mode": "java",
   "file_extension": ".jshell",
   "mimetype": "text/x-java-source",
   "name": "Java",
   "pygments_lexer": "java",
   "version": "15.0.2+7-27"
  }
 },
 "nbformat": 4,
 "nbformat_minor": 4
}
