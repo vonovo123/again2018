{
 "cells": [
  {
   "cell_type": "markdown",
   "metadata": {},
   "source": [
    "<div class=\"alert alert-block\" style=\"border: 1px solid #455A64;background-color:#ECEFF1;padding:5px;font-size:0.9em;\">\n",
    "본 자료와 관련 영상 컨텐츠는 저작권법 제25조 2항에 의해 보호를 받습니다. <br>본 컨텐츠 및 컨텐츠 일부 문구 등을 외부에 공개하거나, 요약해서 게시하지 말아주세요.\n",
    "</div>"
   ]
  },
  {
   "cell_type": "markdown",
   "metadata": {},
   "source": [
    "## 재귀 용법 (recursive call, 재귀 호출)\n",
    "\n",
    "> 고급 정렬 알고리즘에서 재귀 용법을 사용하므로, 고급 정렬 알고리즘을 익히기 전에 재귀 용법을 먼저 익히기로 합니다."
   ]
  },
  {
   "cell_type": "markdown",
   "metadata": {},
   "source": [
    "### 1. 재귀 용법 (recursive call, 재귀 호출)\n",
    "* 함수 안에서 동일한 함수를 호출하는 형태\n",
    "* 여러 알고리즘 작성시 사용되므로, 익숙해져야 함"
   ]
  },
  {
   "cell_type": "markdown",
   "metadata": {},
   "source": [
    "### 2. 재귀 용법 이해\n",
    "- 예제를 풀어보며, 재귀 용법을 이해해보기"
   ]
  },
  {
   "cell_type": "markdown",
   "metadata": {},
   "source": [
    "### 예제\n",
    "- 팩토리얼을 구하는 알고리즘을 Recursive Call 을 활용해서 알고리즘 작성하기"
   ]
  },
  {
   "cell_type": "markdown",
   "metadata": {},
   "source": [
    "### 예제 - 분석하기\n",
    "- 간단한 경우부터 생각해보기\n",
    "  * 2! = 1 X 2\n",
    "  * 3! = 1 X 2 X 3\n",
    "  * 4! = 1 X 2 X 3 X 4 = 4 X 3!\n",
    "- 규칙이 보임: n! = n X (n - 1)!\n",
    "  1. 함수를 하나 만든다.\n",
    "  2. 함수(n) 은 n > 1 이면 return n X 함수(n - 1)\n",
    "  3. 함수(n) 은 n = 1 이면 return n\n",
    "- 검증 (코드로 검증하지 않고, 직접 간단한 경우부터 대입해서 검증해야 함)\n",
    "    1. 먼저 2! 부터 \n",
    "     - 함수(2) 이면, 2 > 1 이므로 2 X 함수(1)\n",
    "       - 함수(1) 은 1 이므로, return 2 X 1 = 2 맞다!\n",
    "    2. 먼저 3! 부터 \n",
    "     - 함수(3) 이면, 3 > 1 이므로 3 X 함수(2)\n",
    "       - 함수(2) 는 결국 1번에 의해 2! 이므로, return 2 X 1 = 2 \n",
    "       - 3 X 함수(2) = 3 X 2 = 3 X 2 X 1 = 6 맞다!\n",
    "    3. 먼저 4! 부터 \n",
    "     - 함수(4) 이면, 4 > 1 이므로 4 X 함수(3)\n",
    "       - 함수(3) 은 결국 2번에 의해 3 X 2 X 1 = 6 \n",
    "       - 4 X 함수(3) = 4 X 6 = 24 맞다! "
   ]
  },
  {
   "cell_type": "markdown",
   "metadata": {
    "collapsed": true
   },
   "source": [
    "### 예제 - 코드 레벨로 적어보기"
   ]
  },
  {
   "cell_type": "code",
   "execution_count": 1,
   "metadata": {},
   "outputs": [],
   "source": [
    "public class Factorial {\n",
    "    public int factorialFunc(int n) {\n",
    "        if (n > 1) {\n",
    "            return n * this.factorialFunc(n - 1);\n",
    "        } else {\n",
    "            return 1;\n",
    "        }\n",
    "    }\n",
    "}"
   ]
  },
  {
   "cell_type": "code",
   "execution_count": 4,
   "metadata": {},
   "outputs": [
    {
     "data": {
      "text/plain": [
       "120"
      ]
     },
     "execution_count": 4,
     "metadata": {},
     "output_type": "execute_result"
    }
   ],
   "source": [
    "Factorial fObject = new Factorial();\n",
    "fObject.factorialFunc(5);"
   ]
  },
  {
   "cell_type": "markdown",
   "metadata": {},
   "source": [
    "### 예제 - 시간 복잡도와 공간 복잡도\n",
    "* factorial(n) 은 n - 1 번의 factorial() 함수를 호출해서, 곱셈을 함 \n",
    "  - 일종의 n-1번 반복문을 호출한 것과 동일\n",
    "  - factorial() 함수를 호출할 때마다, 지역변수 n 이 생성됨\n",
    "\n",
    "* 시간 복잡도/공간 복잡도는 O(n-1) 이므로 결국, 둘 다 O(n)\n"
   ]
  },
  {
   "cell_type": "markdown",
   "metadata": {},
   "source": [
    "### 3. 재귀 호출의 일반적인 형태\n",
    "> 간략히 메서드 레벨로 보기로 함"
   ]
  },
  {
   "cell_type": "markdown",
   "metadata": {},
   "source": [
    "```java\n",
    "// 일반적인 형태1\n",
    "function(입력) {\n",
    "    if (입력 > 일정값) {                       // 입력이 일정 값 이상이면\n",
    "        return function(입력 - 1);           // 입력보다 작은 값\n",
    "    } else {\n",
    "        return 특정값; // 재귀 호출 종료\n",
    "    }\n",
    "}\n",
    "```"
   ]
  },
  {
   "cell_type": "markdown",
   "metadata": {},
   "source": [
    "```java\n",
    "// 일반적인 형태2\n",
    "function(입력) {\n",
    "    if (입력 <= 일정값) {                       // 입력이 일정 값보다 작으면\n",
    "        return 특정값              // 재귀 호출 종료\n",
    "    } \n",
    "    return function(입력 - 1);\n",
    "}\n",
    "```"
   ]
  },
  {
   "cell_type": "markdown",
   "metadata": {},
   "source": [
    "### 일반적인 형태2 로 코드 작성해보기"
   ]
  },
  {
   "cell_type": "code",
   "execution_count": 5,
   "metadata": {},
   "outputs": [],
   "source": [
    "public class Factorial {\n",
    "    public int factorialFunc(int n) {\n",
    "        if (n <= 1) {\n",
    "            return 1;\n",
    "        } else {\n",
    "            return n * this.factorialFunc(n - 1);\n",
    "        }\n",
    "    }\n",
    "}"
   ]
  },
  {
   "cell_type": "code",
   "execution_count": 6,
   "metadata": {},
   "outputs": [
    {
     "data": {
      "text/plain": [
       "120"
      ]
     },
     "execution_count": 6,
     "metadata": {},
     "output_type": "execute_result"
    }
   ],
   "source": [
    "Factorial fObject = new Factorial();\n",
    "fObject.factorialFunc(5);"
   ]
  },
  {
   "cell_type": "markdown",
   "metadata": {},
   "source": [
    "### 재귀 호출은 스택의 전형적인 예\n",
    "* 함수는 내부적오르 스택처럼 관리된다."
   ]
  },
  {
   "cell_type": "markdown",
   "metadata": {},
   "source": [
    "<img src=\"https://www.fun-coding.org/00_Images/recursivecall.png\" />"
   ]
  },
  {
   "cell_type": "markdown",
   "metadata": {},
   "source": [
    "### 4. 재귀 용법을 활용한 프로그래밍 연습"
   ]
  },
  {
   "cell_type": "markdown",
   "metadata": {},
   "source": [
    "<div class=\"alert alert-block\" style=\"border: 1px solid #FFB300;background-color:#F9FBE7;font-size:1em;line-height:1.4em\">\n",
    "<font size=\"4em\" style=\"font-weight:bold;color:#3f8dbf;\">연습해보기1</font><br><br>\n",
    "- 다음 메서드를 재귀 함수를 활용해서 완성해서 1부터 num까지의 곱이 출력되게 만드세요\n",
    "    \n",
    "<pre>\n",
    "public class Factorial {\n",
    "    public int factorialFunc(int num) {\n",
    "        if (num <= 1) {\n",
    "            return num;  // 일반적인 로직상, 리턴값은 1로 작성해도 됨\n",
    "        } \n",
    "        return ------------------------\n",
    "    }\n",
    "}\n",
    "</pre>    \n",
    "</div>"
   ]
  },
  {
   "cell_type": "code",
   "execution_count": 7,
   "metadata": {},
   "outputs": [],
   "source": [
    "public class Factorial {\n",
    "    public int factorialFunc(int num) {\n",
    "        if (num <= 1) {\n",
    "            return num;  // 일반적인 로직상, 리턴값은 1로 작성해도 됨\n",
    "        } \n",
    "        return num * this.factorialFunc(num - 1);\n",
    "    }\n",
    "}"
   ]
  },
  {
   "cell_type": "code",
   "execution_count": 8,
   "metadata": {},
   "outputs": [
    {
     "data": {
      "text/plain": [
       "120"
      ]
     },
     "execution_count": 8,
     "metadata": {},
     "output_type": "execute_result"
    }
   ],
   "source": [
    "Factorial fObject = new Factorial();\n",
    "fObject.factorialFunc(5);"
   ]
  },
  {
   "cell_type": "markdown",
   "metadata": {},
   "source": [
    "<div class=\"alert alert-block\" style=\"border: 1px solid #FFB300;background-color:#F9FBE7;font-size:1em;line-height:1.4em\">\n",
    "<font size=\"4em\" style=\"font-weight:bold;color:#3f8dbf;\">연습해보기2</font><br><br>\n",
    "- 숫자가 들어 있는 배열이 주어졌을 때, 배열의 합을 리턴하는 코드를 작성해보세요 (재귀용법을 써보세요)\n",
    "    \n",
    "<pre>\n",
    "public class Factorial {\n",
    "    public int factorialFunc(ArrayList&lt;Integer> dataList) {\n",
    "        if (dataList.size() <= 0) {\n",
    "            return 0;\n",
    "        } \n",
    "         return -------------------\n",
    "    }\n",
    "}\n",
    "</pre>\n",
    "</div>\n"
   ]
  },
  {
   "cell_type": "markdown",
   "metadata": {},
   "source": [
    "### 참고: ArrayList 의 subList 메서드\n",
    "```java\n",
    "public List<E> subList(int fromIndex, int toIndex)\n",
    "```\n",
    "- fromIndex : 서브셋이 시작할 인덱스\n",
    "- toIndex: 서브셋의 마지막 인덱스"
   ]
  },
  {
   "cell_type": "code",
   "execution_count": 16,
   "metadata": {},
   "outputs": [
    {
     "name": "stdout",
     "output_type": "stream",
     "text": [
      "[0, 1, 2, 3, 4, 5, 6, 7, 8, 9]\n",
      "[1, 2, 3, 4, 5, 6, 7, 8]\n"
     ]
    }
   ],
   "source": [
    "import java.util.ArrayList;\n",
    "\n",
    "ArrayList<Integer> testData = new ArrayList();\n",
    "for (int data = 0; data < 10; data++) {\n",
    "    testData.add(data);\n",
    "}\n",
    "System.out.println(testData);\n",
    "System.out.println(testData.subList(1, testData.size() - 1));\n"
   ]
  },
  {
   "cell_type": "markdown",
   "metadata": {},
   "source": [
    "### 연습해보기2 의 구현 코드"
   ]
  },
  {
   "cell_type": "code",
   "execution_count": 21,
   "metadata": {},
   "outputs": [],
   "source": [
    "public class Factorial {\n",
    "    public int factorialFunc(ArrayList<Integer> dataList) {\n",
    "        if (dataList.size() <= 0) {\n",
    "            return 0;\n",
    "        } \n",
    "         return dataList.get(0) + this.factorialFunc(new ArrayList<Integer>(dataList.subList(1, dataList.size())));\n",
    "    }\n",
    "}"
   ]
  },
  {
   "cell_type": "code",
   "execution_count": 22,
   "metadata": {},
   "outputs": [
    {
     "data": {
      "text/plain": [
       "45"
      ]
     },
     "execution_count": 22,
     "metadata": {},
     "output_type": "execute_result"
    }
   ],
   "source": [
    "Factorial fObject = new Factorial();\n",
    "fObject.factorialFunc(testData);"
   ]
  },
  {
   "cell_type": "markdown",
   "metadata": {},
   "source": [
    "<div class=\"alert alert-block\" style=\"border: 1px solid #FFB300;background-color:#F9FBE7;font-size:1em;line-height:1.4em\">\n",
    "<font size=\"4em\" style=\"font-weight:bold;color:#3f8dbf;\">연습해보기3</font><br><br>\n",
    "- 정수 4를 1, 2, 3의 조합으로 나타내는 방법은 다음과 같이 총 7가지가 있음\n",
    "- 정수 n이 입력으로 주어졌을 때, n을 1, 2, 3의 합으로 나타낼 수 있는 방법의 수를 구하시오\n",
    "<pre>\n",
    "1+1+1+1\n",
    "1+1+2\n",
    "1+2+1\n",
    "2+1+1\n",
    "2+2\n",
    "1+3\n",
    "3+1\n",
    "</pre>    \n",
    "\n",
    "힌트: 정수 n을 만들 수 있는 경우의 수를 리턴하는 함수를 f(n) 이라고 하면,<br>\n",
    "f(n)은 f(n-1) + f(n-2) + f(n-3) 과 동일하다는 패턴 찾기<br>\n",
    "출처: ACM-ICPC > Regionals > Asia > Korea > Asia Regional - Taejon 2001 \n",
    "</div>"
   ]
  },
  {
   "cell_type": "markdown",
   "metadata": {},
   "source": [
    "### 문제 분석을 연습장에 작성해 본 예\n",
    "<img src=\"https://www.fun-coding.org/00_Images/algopractice.jpg\" />"
   ]
  },
  {
   "cell_type": "code",
   "execution_count": 23,
   "metadata": {},
   "outputs": [],
   "source": [
    "public class Factorial {\n",
    "    public int factorialFunc(int data) {\n",
    "        if (data == 1) {\n",
    "            return 1;\n",
    "        } else if (data == 2) {\n",
    "            return 2;\n",
    "        } else if (data == 3) {\n",
    "            return 4;\n",
    "        }\n",
    "        return this.factorialFunc(data - 1) + this.factorialFunc(data - 2) + this.factorialFunc(data - 3);\n",
    "    }\n",
    "}"
   ]
  },
  {
   "cell_type": "code",
   "execution_count": 25,
   "metadata": {},
   "outputs": [
    {
     "data": {
      "text/plain": [
       "24"
      ]
     },
     "execution_count": 25,
     "metadata": {},
     "output_type": "execute_result"
    }
   ],
   "source": [
    "Factorial fObject = new Factorial();\n",
    "fObject.factorialFunc(5);"
   ]
  },
  {
   "cell_type": "markdown",
   "metadata": {},
   "source": [
    "<div class=\"alert alert-block\" style=\"border: 1px solid #455A64;background-color:#ECEFF1;padding:5px;font-size:0.9em;\">\n",
    "본 자료와 관련 영상 컨텐츠는 저작권법 제25조 2항에 의해 보호를 받습니다. <br>본 컨텐츠 및 컨텐츠 일부 문구 등을 외부에 공개하거나, 요약해서 게시하지 말아주세요.\n",
    "</div>"
   ]
  }
 ],
 "metadata": {
  "kernelspec": {
   "display_name": "Java",
   "language": "java",
   "name": "java"
  },
  "language_info": {
   "codemirror_mode": "java",
   "file_extension": ".jshell",
   "mimetype": "text/x-java-source",
   "name": "Java",
   "pygments_lexer": "java",
   "version": "15.0.2+7-27"
  }
 },
 "nbformat": 4,
 "nbformat_minor": 4
}
