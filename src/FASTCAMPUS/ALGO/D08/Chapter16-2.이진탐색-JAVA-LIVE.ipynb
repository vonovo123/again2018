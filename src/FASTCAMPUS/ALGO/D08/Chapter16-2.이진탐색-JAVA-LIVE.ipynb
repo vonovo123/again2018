{
 "cells": [
  {
   "cell_type": "markdown",
   "metadata": {},
   "source": [
    "<div class=\"alert alert-block\" style=\"border: 1px solid #455A64;background-color:#ECEFF1;padding:5px;font-size:0.9em;\">\n",
    "본 자료와 관련 영상 컨텐츠는 저작권법 제25조 2항에 의해 보호를 받습니다. <br>본 컨텐츠 및 컨텐츠 일부 문구 등을 외부에 공개하거나, 요약해서 게시하지 말아주세요.\n",
    "</div>"
   ]
  },
  {
   "cell_type": "markdown",
   "metadata": {},
   "source": [
    "## 탐색 알고리즘2: 이진 탐색 (Binary Search)"
   ]
  },
  {
   "cell_type": "markdown",
   "metadata": {},
   "source": [
    "### 1. 이진 탐색 (Binary Search) 이란?\n",
    "* 탐색할 자료를 둘로 나누어 해당 데이터가 있을만한 곳을 탐색하는 방법"
   ]
  },
  {
   "cell_type": "markdown",
   "metadata": {
    "solution2": "shown",
    "solution2_first": true
   },
   "source": [
    "### 다음 문제를 먼저 생각해보자\n",
    "<img src=\"https://www.fun-coding.org/00_Images/binarysearch.png\" />"
   ]
  },
  {
   "cell_type": "markdown",
   "metadata": {
    "solution2": "shown"
   },
   "source": [
    "### 이진 탐색의 이해 (순차 탐색과 비교하며 이해하기)\n",
    "\n",
    "<img src=\"https://www.mathwarehouse.com/programming/images/binary-vs-linear-search/binary-and-linear-search-animations.gif\">\n",
    "\n",
    "* [저작자] by penjee.com [이미지 출처](https://blog.penjee.com/binary-vs-linear-search-animated-gifs)\n"
   ]
  },
  {
   "cell_type": "markdown",
   "metadata": {},
   "source": [
    "### 2. 분할 정복 알고리즘과 이진 탐색\n",
    "- 분할 정복 알고리즘 (Divide and Conquer)\n",
    "  - Divide: 문제를 하나 또는 둘 이상으로 나눈다.\n",
    "  - Conquer: 나눠진 문제가 충분히 작고, 해결이 가능하다면 해결하고, 그렇지 않다면 다시 나눈다.\n",
    "- 이진 탐색\n",
    "  - Divide: 리스트를 두 개의 서브 리스트로 나눈다.\n",
    "  - Comquer\n",
    "    - 검색할 숫자 (search) > 중간값 이면, 뒷 부분의 서브 리스트에서 검색할 숫자를 찾는다.\n",
    "    - 검색할 숫자 (search) < 중간값 이면, 앞 부분의 서브 리스트에서 검색할 숫자를 찾는다.  "
   ]
  },
  {
   "cell_type": "markdown",
   "metadata": {
    "collapsed": true
   },
   "source": [
    "### 3. 어떻게 코드로 만들까?\n",
    "* 이진 탐색은 데이터가 정렬되있는 상태에서 진행\n",
    "* 데이터가 {2, 3, 8, 12, 20} 일 때,\n",
    "  - searchFunc(data_list, find_data) 함수를 만들고\n",
    "    - searchItem 찾는 숫자\n",
    "    - dataList는 데이터 배열\n",
    "    - dataList의 중간에 위치한 값을 searchItem 비교해서\n",
    "      - searchItem < dataList 중간값 이라면\n",
    "        - 맨 앞부터 data_list의 중간까지 에서 다시 searchItem 찾기\n",
    "      - dataList의 중간값 < searchItem 이라면\n",
    "        - dataList의 중간부터 맨 끝까지에서 다시 searchItem 찾기\n",
    "      - 그렇지 않다면, data_list의 중간값은 searchItem 인 경우로, return dataList 중간위치"
   ]
  },
  {
   "cell_type": "markdown",
   "metadata": {},
   "source": [
    "### 4. 알고리즘 구현 (프로젝트: CH23_BINARYSEARCH)"
   ]
  },
  {
   "cell_type": "code",
   "execution_count": 2,
   "metadata": {},
   "outputs": [],
   "source": [
    "import java.util.ArrayList;\n",
    "\n",
    "public class BinarySearch {\n",
    "    public boolean searchFunc(ArrayList<Integer> dataList, Integer searchItem) {\n",
    "        if (dataList.size() == 1 && searchItem == dataList.get(0)) {\n",
    "            return true;\n",
    "        } \n",
    "        if (dataList.size() == 1 && searchItem != dataList.get(0)) {\n",
    "            return false;\n",
    "        }\n",
    "        if (dataList.size() == 0) {\n",
    "            return false;\n",
    "        }\n",
    "        \n",
    "        int medium = dataList.size() / 2; \n",
    "        \n",
    "        if (searchItem == dataList.get(medium)) {\n",
    "            return true;\n",
    "        } else {\n",
    "            if (searchItem < dataList.get(medium)) {\n",
    "                return this.searchFunc(new ArrayList<Integer>(dataList.subList(0, medium)), searchItem);\n",
    "            } else {\n",
    "                 return this.searchFunc(new ArrayList<Integer>(dataList.subList(medium, dataList.size())), searchItem);\n",
    "            }\n",
    "        }\n",
    "    }\n",
    "}"
   ]
  },
  {
   "cell_type": "markdown",
   "metadata": {},
   "source": [
    "### 테스트"
   ]
  },
  {
   "cell_type": "code",
   "execution_count": 3,
   "metadata": {},
   "outputs": [
    {
     "name": "stdout",
     "output_type": "stream",
     "text": [
      "[1, 2, 2, 3, 3, 3, 7, 8, 9, 10, 10, 11, 13, 13, 14, 15, 17, 17, 17, 18, 19, 19, 20, 23, 26, 28, 29, 29, 29, 29, 30, 30, 31, 31, 32, 33, 37, 38, 39, 39, 39, 40, 40, 43, 44, 45, 47, 49, 49, 49, 51, 51, 52, 53, 54, 54, 55, 55, 57, 57, 60, 62, 63, 64, 67, 68, 68, 68, 70, 71, 71, 71, 72, 73, 73, 75, 75, 75, 75, 75, 79, 80, 80, 80, 81, 84, 85, 85, 87, 88, 89, 90, 92, 92, 95, 96, 96, 97, 98, 99]\n"
     ]
    }
   ],
   "source": [
    "import java.util.Collections;\n",
    "\n",
    "ArrayList<Integer> testData = new ArrayList<Integer>();\n",
    "\n",
    "for (int index = 0; index < 100; index++) {\n",
    "    testData.add((int)(Math.random() * 100));\n",
    "}\n",
    "\n",
    "Collections.sort(testData);\n",
    "System.out.println(testData);"
   ]
  },
  {
   "cell_type": "code",
   "execution_count": 5,
   "metadata": {},
   "outputs": [
    {
     "data": {
      "text/plain": [
       "true"
      ]
     },
     "execution_count": 5,
     "metadata": {},
     "output_type": "execute_result"
    }
   ],
   "source": [
    "BinarySearch bSearch = new BinarySearch();\n",
    "bSearch.searchFunc(testData, 2);"
   ]
  },
  {
   "cell_type": "markdown",
   "metadata": {},
   "source": [
    "### 5. 알고리즘 분석\n",
    "* n개의 리스트를 매번 2로 나누어 1이 될 때까지 비교연산을 k회 진행\n",
    "  - <font size=4em>n X $\\frac { 1 }{ 2 }$ X $\\frac { 1 }{ 2 }$ X $\\frac { 1 }{ 2 }$ ... = 1</font>\n",
    "  - <font size=4em>n X $\\frac { 1 }{ 2 }^k$ = 1</font>\n",
    "  - <font size=4em>n = $2^k$ = $log_2 n$ = $log_2 2^k$</font>\n",
    "  - <font size=4em>$log_2 n$ = k</font>\n",
    "  - 빅 오 표기법으로는 k + 1 이 결국 최종 시간 복잡도임 (1이 되었을 때도, 비교연산을 한번 수행)\n",
    "    - 결국 O($log_2 n$ + 1) 이고, 2와 1, 상수는 삭제 되므로, O($log n$)"
   ]
  },
  {
   "cell_type": "markdown",
   "metadata": {},
   "source": [
    "<div class=\"alert alert-block\" style=\"border: 1px solid #455A64;background-color:#ECEFF1;padding:5px;font-size:0.9em;\">\n",
    "본 자료와 관련 영상 컨텐츠는 저작권법 제25조 2항에 의해 보호를 받습니다. <br>본 컨텐츠 및 컨텐츠 일부 문구 등을 외부에 공개하거나, 요약해서 게시하지 말아주세요.\n",
    "</div>"
   ]
  }
 ],
 "metadata": {
  "kernelspec": {
   "display_name": "Java",
   "language": "java",
   "name": "java"
  },
  "language_info": {
   "codemirror_mode": "java",
   "file_extension": ".jshell",
   "mimetype": "text/x-java-source",
   "name": "Java",
   "pygments_lexer": "java",
   "version": "15.0.2+7-27"
  }
 },
 "nbformat": 4,
 "nbformat_minor": 4
}
