{
 "cells": [
  {
   "cell_type": "markdown",
   "metadata": {},
   "source": [
    "<div class=\"alert alert-block\" style=\"border: 1px solid #455A64;background-color:#ECEFF1;padding:5px;font-size:0.9em;\">\n",
    "본 자료와 관련 영상 컨텐츠는 저작권법 제25조 2항에 의해 보호를 받습니다. <br>본 컨텐츠 및 컨텐츠 일부 문구 등을 외부에 공개하거나, 요약해서 게시하지 말아주세요.\n",
    "</div>"
   ]
  },
  {
   "cell_type": "markdown",
   "metadata": {},
   "source": [
    "## 백 트래킹 기법의 이해"
   ]
  },
  {
   "cell_type": "markdown",
   "metadata": {},
   "source": [
    "### 1. 백 트래킹 (backtracking)\n",
    "- 백트래킹 (backtracking) 또는 퇴각 검색 (backtrack)으로 부름\n",
    "- 제약 조건 만족 문제 (Constraint Satisfaction Problem) 에서 해를 찾기 위한 전략\n",
    "  - 해를 찾기 위해, 후보군에 제약 조건을 점진적으로 체크하다가, 해당 후보군이 제약 조건을 만족할 수 없다고 판단되는 즉시 backtrack (다시는 이 후보군을 체크하지 않을 것을 표기)하고, 바로 다른 후보군으로 넘어가며, 결국 최적의 해를 찾는 방법\n",
    "- 실제 구현시, 고려할 수 있는 모든 경우의 수 (후보군)를 상태공간트리(State Space Tree)를 통해 표현\n",
    "  - 각 후보군을 DFS 방식으로 확인\n",
    "  - 상태 공간 트리를 탐색하면서, 제약이 맞지 않으면 해의 후보가 될만한 곳으로 바로 넘어가서 탐색\n",
    "    - Promising: 해당 루트가 조건에 맞는지를 검사하는 기법\n",
    "    - Pruning (가지치기): 조건에 맞지 않으면 포기하고 다른 루트로 바로 돌아서서, 탐색의 시간을 절약하는 기법\n",
    "\n",
    "> 즉, 백트래킹은 트리 구조를 기반으로 DFS로 깊이 탐색을 진행하면서 각 루트에 대해 조건에 부합하는지 체크(Promising), 만약 해당 트리(나무)에서 조건에 맞지않는 노드는 더 이상 DFS로 깊이 탐색을 진행하지 않고, 가지를 쳐버림 (Pruning)"
   ]
  },
  {
   "cell_type": "markdown",
   "metadata": {},
   "source": [
    "### 상태 공간 트리 (State Space Tree)\n",
    "- 문제 해결 과정의 중간 상태를 각각의 노드로 나타낸 트리\n",
    "<img src=\"https://www.fun-coding.org/00_Images/statespacetree.png\" width=300>"
   ]
  },
  {
   "cell_type": "markdown",
   "metadata": {},
   "source": [
    "### 2. N Queen 문제 이해\n",
    "- 대표적인 백트래킹 문제\n",
    "- NxN 크기의 체스판에 N개의 퀸을 서로 공격할 수 없도록 배치하는 문제\n",
    "- 퀸은 다음과 같이 이동할 수 있으므로, 배치된 퀸 간에 공격할 수 없는 위치로 배치해야 함\n",
    "<img src=\"https://www.fun-coding.org/00_Images/queen_move.png\">"
   ]
  },
  {
   "cell_type": "markdown",
   "metadata": {},
   "source": [
    "### Pruning (가지치기) for N Queen 문제\n",
    "- 한 행에는 하나의 퀸 밖에 위치할 수 없음 (퀸은 수평 이동이 가능하므로)\n",
    "- 맨 위에 있는 행부터 퀸을 배치하고, 다음 행에 해당 퀸이 이동할 수 없는 위치를 찾아 퀸을 배치\n",
    "- 만약 앞선 행에 배치한 퀸으로 인해, 다음 행에 해당 퀸들이 이동할 수 없는 위치가 없을 경우에는, 더 이상 퀸을 배치하지 않고, 이전 행의 퀸의 배치를 바꿈\n",
    "  - 즉, 맨 위의 행부터 전체 행까지 퀸의 배치가 가능한 경우의 수를 상태 공간 트리 형태로 만든 후, 각 경우를 맨 위의 행부터 DFS 방식으로 접근, 해당 경우가 진행이 어려울 경우, 더 이상 진행하지 않고, 다른 경우를 체크하는 방식\n",
    "<img src=\"https://www.fun-coding.org/00_Images/backtracking.png\">"
   ]
  },
  {
   "cell_type": "markdown",
   "metadata": {},
   "source": [
    "### Promising for N Queen 문제\n",
    "- 해당 루트가 조건에 맞는지를 검사하는 기법을 활용하여,\n",
    "- 현재까지 앞선 행에서 배치한 퀸이 이동할 수 없는 위치가 있는지를 다음과 같은 조건으로 확인\n",
    "  - 한 행에 어차피 하나의 퀸만 배치 가능하므로 수평 체크는 별도로 필요하지 않음\n",
    "<img src=\"https://www.fun-coding.org/00_Images/nqueen.png\">"
   ]
  },
  {
   "cell_type": "markdown",
   "metadata": {},
   "source": [
    "### 3. N Queen 문제코드 작성 (프로젝트: CH31_BACKTRACKING)"
   ]
  },
  {
   "cell_type": "code",
   "execution_count": 9,
   "metadata": {},
   "outputs": [],
   "source": [
    "import java.util.ArrayList;\n",
    "\n",
    "public class NQueen {\n",
    "    \n",
    "    public boolean isAvailable(ArrayList<Integer> candidate, Integer currentCol) {\n",
    "        // currentCol 퀸을 넣고싶은 현재열\n",
    "        //현재 행\n",
    "        Integer currentRow = candidate.size();\n",
    "        //이전행을 순회하면서\n",
    "        for (int index = 0; index < currentRow; index++) {\n",
    "            // 이전 행의 같은 열에 퀸이 있거나 \n",
    "            // 이전 행의 좌우 대각에 퀸이 위치하면 놓을 수 없음.\n",
    "            if ((candidate.get(index) == currentCol) || (Math.abs(candidate.get(index) - currentCol) == currentRow - index) ) {\n",
    "                return false;\n",
    "            }\n",
    "        }\n",
    "        return true;\n",
    "    }\n",
    "    \n",
    "    public void dfsFunc(Integer N, Integer currentRow, ArrayList<Integer> currentCandidate) {\n",
    "        if (currentRow == N) {\n",
    "            System.out.println(currentCandidate);\n",
    "            return ;\n",
    "        }\n",
    "        \n",
    "        for (int index = 0; index < N; index++) {\n",
    "            if (this.isAvailable(currentCandidate, index) == true) {\n",
    "                currentCandidate.add(index);\n",
    "                this.dfsFunc(N, currentRow + 1, currentCandidate);\n",
    "                currentCandidate.remove(currentCandidate.size() - 1);\n",
    "            }\n",
    "        }\n",
    "    }   \n",
    "}"
   ]
  },
  {
   "cell_type": "code",
   "execution_count": 10,
   "metadata": {},
   "outputs": [
    {
     "name": "stdout",
     "output_type": "stream",
     "text": [
      "[1, 3, 0, 2]\n",
      "[2, 0, 3, 1]\n"
     ]
    }
   ],
   "source": [
    "NQueen nObject = new NQueen();\n",
    "nObject.dfsFunc(4, 0, new ArrayList<Integer>());"
   ]
  },
  {
   "cell_type": "markdown",
   "metadata": {},
   "source": [
    "<div class=\"alert alert-block\" style=\"border: 2px solid #E65100;background-color:#FFF3E0;padding:10px\">\n",
    "<font size=\"3em\" style=\"color:#BF360C;\">수고 많으셨습니다. 여기까지 들어주신 분들은 어려운 과정을 극복하실만큼의 의지가 있으시기 때문에, 결국 코딩 테스트를 정복하실 것입니다</font><br>\n",
    "<font size=\"3em\" style=\"color:#BF360C;\">강의가 도움이 되었다면, dream@fun-coding.org 로 한번 연락주셔도 좋고, 긍정적인 피드백부탁드립니다.</font><br>\n",
    "\n",
    "</div>"
   ]
  }
 ],
 "metadata": {
  "kernelspec": {
   "display_name": "Java",
   "language": "java",
   "name": "java"
  },
  "language_info": {
   "codemirror_mode": "java",
   "file_extension": ".jshell",
   "mimetype": "text/x-java-source",
   "name": "Java",
   "pygments_lexer": "java",
   "version": "15.0.2+7-27"
  }
 },
 "nbformat": 4,
 "nbformat_minor": 4
}
